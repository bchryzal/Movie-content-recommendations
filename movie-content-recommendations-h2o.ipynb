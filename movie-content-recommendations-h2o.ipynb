{
 "cells": [
  {
   "cell_type": "markdown",
   "id": "01ad35d0",
   "metadata": {
    "papermill": {
     "duration": 0.040415,
     "end_time": "2022-04-21T12:09:32.307648",
     "exception": false,
     "start_time": "2022-04-21T12:09:32.267233",
     "status": "completed"
    },
    "tags": []
   },
   "source": [
    "## Build your own Recommendation Systems !!!"
   ]
  },
  {
   "cell_type": "code",
   "execution_count": 1,
   "id": "ba9ee036",
   "metadata": {
    "_cell_guid": "b1076dfc-b9ad-4769-8c92-a6c4dae69d19",
    "_kg_hide-output": true,
    "_uuid": "8f2839f25d086af736a60e9eeb907d3b93b6e0e5",
    "collapsed": true,
    "execution": {
     "iopub.execute_input": "2022-04-21T12:09:32.388647Z",
     "iopub.status.busy": "2022-04-21T12:09:32.387908Z",
     "iopub.status.idle": "2022-04-21T12:09:43.712980Z",
     "shell.execute_reply": "2022-04-21T12:09:43.712135Z"
    },
    "jupyter": {
     "outputs_hidden": true
    },
    "papermill": {
     "duration": 11.368431,
     "end_time": "2022-04-21T12:09:43.715527",
     "exception": false,
     "start_time": "2022-04-21T12:09:32.347096",
     "status": "completed"
    },
    "tags": []
   },
   "outputs": [
    {
     "name": "stdout",
     "output_type": "stream",
     "text": [
      "Looking in links: http://h2o-release.s3.amazonaws.com/h2o/latest_stable_Py.html\r\n",
      "Requirement already satisfied: h2o in /opt/conda/lib/python3.7/site-packages (3.36.0.4)\r\n",
      "Requirement already satisfied: future in /opt/conda/lib/python3.7/site-packages (from h2o) (0.18.2)\r\n",
      "Requirement already satisfied: requests in /opt/conda/lib/python3.7/site-packages (from h2o) (2.27.1)\r\n",
      "Requirement already satisfied: tabulate in /opt/conda/lib/python3.7/site-packages (from h2o) (0.8.9)\r\n",
      "Requirement already satisfied: urllib3<1.27,>=1.21.1 in /opt/conda/lib/python3.7/site-packages (from requests->h2o) (1.26.8)\r\n",
      "Requirement already satisfied: charset-normalizer~=2.0.0 in /opt/conda/lib/python3.7/site-packages (from requests->h2o) (2.0.12)\r\n",
      "Requirement already satisfied: idna<4,>=2.5 in /opt/conda/lib/python3.7/site-packages (from requests->h2o) (3.3)\r\n",
      "Requirement already satisfied: certifi>=2017.4.17 in /opt/conda/lib/python3.7/site-packages (from requests->h2o) (2021.10.8)\r\n",
      "\u001b[33mWARNING: Running pip as the 'root' user can result in broken permissions and conflicting behaviour with the system package manager. It is recommended to use a virtual environment instead: https://pip.pypa.io/warnings/venv\u001b[0m\u001b[33m\r\n",
      "\u001b[0m\u001b[33mWARNING: The repository located at h2o-release.s3.amazonaws.com is not a trusted or secure host and is being ignored. If this repository is available via HTTPS we recommend you use HTTPS instead, otherwise you may silence this warning and allow it anyway with '--trusted-host h2o-release.s3.amazonaws.com'.\u001b[0m\u001b[33m\r\n",
      "\u001b[0m"
     ]
    }
   ],
   "source": [
    "import numpy as np # linear algebra\n",
    "import pandas as pd # data processing, CSV file I/O (e.g. pd.read_csv)\n",
    "\n",
    "!pip install -f http://h2o-release.s3.amazonaws.com/h2o/latest_stable_Py.html h2o"
   ]
  },
  {
   "cell_type": "markdown",
   "id": "6f262520",
   "metadata": {
    "papermill": {
     "duration": 0.039996,
     "end_time": "2022-04-21T12:09:43.796260",
     "exception": false,
     "start_time": "2022-04-21T12:09:43.756264",
     "status": "completed"
    },
    "tags": []
   },
   "source": [
    "# Load Data"
   ]
  },
  {
   "cell_type": "code",
   "execution_count": 2,
   "id": "2f9cd876",
   "metadata": {
    "execution": {
     "iopub.execute_input": "2022-04-21T12:09:43.879878Z",
     "iopub.status.busy": "2022-04-21T12:09:43.879577Z",
     "iopub.status.idle": "2022-04-21T12:09:44.087093Z",
     "shell.execute_reply": "2022-04-21T12:09:44.086582Z"
    },
    "papermill": {
     "duration": 0.250791,
     "end_time": "2022-04-21T12:09:44.089207",
     "exception": false,
     "start_time": "2022-04-21T12:09:43.838416",
     "status": "completed"
    },
    "tags": []
   },
   "outputs": [
    {
     "data": {
      "text/plain": [
       "((8001, 15), (1825, 14))"
      ]
     },
     "execution_count": 2,
     "metadata": {},
     "output_type": "execute_result"
    }
   ],
   "source": [
    "train = pd.read_csv('../input/ctrl-shift-intelligence-2k22/train.csv')\n",
    "test = pd.read_csv('../input/ctrl-shift-intelligence-2k22/test.csv')\n",
    "\n",
    "train.shape, test.shape"
   ]
  },
  {
   "cell_type": "markdown",
   "id": "99918dc3",
   "metadata": {
    "papermill": {
     "duration": 0.041002,
     "end_time": "2022-04-21T12:09:44.170997",
     "exception": false,
     "start_time": "2022-04-21T12:09:44.129995",
     "status": "completed"
    },
    "tags": []
   },
   "source": [
    "# Understanding Data"
   ]
  },
  {
   "cell_type": "code",
   "execution_count": 3,
   "id": "b402e07f",
   "metadata": {
    "execution": {
     "iopub.execute_input": "2022-04-21T12:09:44.252708Z",
     "iopub.status.busy": "2022-04-21T12:09:44.252281Z",
     "iopub.status.idle": "2022-04-21T12:09:44.288141Z",
     "shell.execute_reply": "2022-04-21T12:09:44.287500Z"
    },
    "papermill": {
     "duration": 0.079512,
     "end_time": "2022-04-21T12:09:44.290635",
     "exception": false,
     "start_time": "2022-04-21T12:09:44.211123",
     "status": "completed"
    },
    "tags": []
   },
   "outputs": [
    {
     "name": "stdout",
     "output_type": "stream",
     "text": [
      "<class 'pandas.core.frame.DataFrame'>\n",
      "RangeIndex: 8001 entries, 0 to 8000\n",
      "Data columns (total 15 columns):\n",
      " #   Column      Non-Null Count  Dtype  \n",
      "---  ------      --------------  -----  \n",
      " 0   Unnamed: 0  8001 non-null   int64  \n",
      " 1   userID      8001 non-null   int64  \n",
      " 2   title       8000 non-null   object \n",
      " 3   year        7946 non-null   float64\n",
      " 4   kind        7971 non-null   object \n",
      " 5   genre       7916 non-null   object \n",
      " 6   vote        7228 non-null   float64\n",
      " 7   country     7415 non-null   object \n",
      " 8   language    7305 non-null   object \n",
      " 9   cast        7694 non-null   object \n",
      " 10  director    6368 non-null   object \n",
      " 11  composer    4852 non-null   object \n",
      " 12  writer      6532 non-null   object \n",
      " 13  runtime     7073 non-null   float64\n",
      " 14  rating      7228 non-null   float64\n",
      "dtypes: float64(4), int64(2), object(9)\n",
      "memory usage: 937.7+ KB\n"
     ]
    }
   ],
   "source": [
    "train.info()"
   ]
  },
  {
   "cell_type": "code",
   "execution_count": 4,
   "id": "2ab5331d",
   "metadata": {
    "execution": {
     "iopub.execute_input": "2022-04-21T12:09:44.373446Z",
     "iopub.status.busy": "2022-04-21T12:09:44.372742Z",
     "iopub.status.idle": "2022-04-21T12:09:44.408937Z",
     "shell.execute_reply": "2022-04-21T12:09:44.408108Z"
    },
    "papermill": {
     "duration": 0.079113,
     "end_time": "2022-04-21T12:09:44.411058",
     "exception": false,
     "start_time": "2022-04-21T12:09:44.331945",
     "status": "completed"
    },
    "tags": []
   },
   "outputs": [
    {
     "data": {
      "text/html": [
       "<div>\n",
       "<style scoped>\n",
       "    .dataframe tbody tr th:only-of-type {\n",
       "        vertical-align: middle;\n",
       "    }\n",
       "\n",
       "    .dataframe tbody tr th {\n",
       "        vertical-align: top;\n",
       "    }\n",
       "\n",
       "    .dataframe thead th {\n",
       "        text-align: right;\n",
       "    }\n",
       "</style>\n",
       "<table border=\"1\" class=\"dataframe\">\n",
       "  <thead>\n",
       "    <tr style=\"text-align: right;\">\n",
       "      <th></th>\n",
       "      <th>Unnamed: 0</th>\n",
       "      <th>userID</th>\n",
       "      <th>year</th>\n",
       "      <th>vote</th>\n",
       "      <th>runtime</th>\n",
       "      <th>rating</th>\n",
       "    </tr>\n",
       "  </thead>\n",
       "  <tbody>\n",
       "    <tr>\n",
       "      <th>count</th>\n",
       "      <td>8001.000000</td>\n",
       "      <td>8001.000000</td>\n",
       "      <td>7946.000000</td>\n",
       "      <td>7.228000e+03</td>\n",
       "      <td>7073.000000</td>\n",
       "      <td>7228.000000</td>\n",
       "    </tr>\n",
       "    <tr>\n",
       "      <th>mean</th>\n",
       "      <td>4000.000000</td>\n",
       "      <td>4000.000000</td>\n",
       "      <td>1995.146111</td>\n",
       "      <td>1.902652e+04</td>\n",
       "      <td>97.644140</td>\n",
       "      <td>6.716146</td>\n",
       "    </tr>\n",
       "    <tr>\n",
       "      <th>std</th>\n",
       "      <td>2309.834085</td>\n",
       "      <td>2309.834085</td>\n",
       "      <td>15.829040</td>\n",
       "      <td>9.951044e+04</td>\n",
       "      <td>64.906578</td>\n",
       "      <td>1.291765</td>\n",
       "    </tr>\n",
       "    <tr>\n",
       "      <th>min</th>\n",
       "      <td>0.000000</td>\n",
       "      <td>0.000000</td>\n",
       "      <td>1905.000000</td>\n",
       "      <td>5.000000e+00</td>\n",
       "      <td>1.000000</td>\n",
       "      <td>1.200000</td>\n",
       "    </tr>\n",
       "    <tr>\n",
       "      <th>25%</th>\n",
       "      <td>2000.000000</td>\n",
       "      <td>2000.000000</td>\n",
       "      <td>1990.000000</td>\n",
       "      <td>2.427500e+02</td>\n",
       "      <td>75.000000</td>\n",
       "      <td>6.100000</td>\n",
       "    </tr>\n",
       "    <tr>\n",
       "      <th>50%</th>\n",
       "      <td>4000.000000</td>\n",
       "      <td>4000.000000</td>\n",
       "      <td>1999.000000</td>\n",
       "      <td>1.266500e+03</td>\n",
       "      <td>93.000000</td>\n",
       "      <td>6.900000</td>\n",
       "    </tr>\n",
       "    <tr>\n",
       "      <th>75%</th>\n",
       "      <td>6000.000000</td>\n",
       "      <td>6000.000000</td>\n",
       "      <td>2003.000000</td>\n",
       "      <td>6.138500e+03</td>\n",
       "      <td>109.000000</td>\n",
       "      <td>7.600000</td>\n",
       "    </tr>\n",
       "    <tr>\n",
       "      <th>max</th>\n",
       "      <td>8000.000000</td>\n",
       "      <td>8000.000000</td>\n",
       "      <td>2023.000000</td>\n",
       "      <td>2.462087e+06</td>\n",
       "      <td>1620.000000</td>\n",
       "      <td>9.600000</td>\n",
       "    </tr>\n",
       "  </tbody>\n",
       "</table>\n",
       "</div>"
      ],
      "text/plain": [
       "        Unnamed: 0       userID         year          vote      runtime  \\\n",
       "count  8001.000000  8001.000000  7946.000000  7.228000e+03  7073.000000   \n",
       "mean   4000.000000  4000.000000  1995.146111  1.902652e+04    97.644140   \n",
       "std    2309.834085  2309.834085    15.829040  9.951044e+04    64.906578   \n",
       "min       0.000000     0.000000  1905.000000  5.000000e+00     1.000000   \n",
       "25%    2000.000000  2000.000000  1990.000000  2.427500e+02    75.000000   \n",
       "50%    4000.000000  4000.000000  1999.000000  1.266500e+03    93.000000   \n",
       "75%    6000.000000  6000.000000  2003.000000  6.138500e+03   109.000000   \n",
       "max    8000.000000  8000.000000  2023.000000  2.462087e+06  1620.000000   \n",
       "\n",
       "            rating  \n",
       "count  7228.000000  \n",
       "mean      6.716146  \n",
       "std       1.291765  \n",
       "min       1.200000  \n",
       "25%       6.100000  \n",
       "50%       6.900000  \n",
       "75%       7.600000  \n",
       "max       9.600000  "
      ]
     },
     "execution_count": 4,
     "metadata": {},
     "output_type": "execute_result"
    }
   ],
   "source": [
    "train.describe()"
   ]
  },
  {
   "cell_type": "code",
   "execution_count": 5,
   "id": "c9f51790",
   "metadata": {
    "execution": {
     "iopub.execute_input": "2022-04-21T12:09:44.495262Z",
     "iopub.status.busy": "2022-04-21T12:09:44.494965Z",
     "iopub.status.idle": "2022-04-21T12:09:44.513749Z",
     "shell.execute_reply": "2022-04-21T12:09:44.513202Z"
    },
    "papermill": {
     "duration": 0.062971,
     "end_time": "2022-04-21T12:09:44.515341",
     "exception": false,
     "start_time": "2022-04-21T12:09:44.452370",
     "status": "completed"
    },
    "tags": []
   },
   "outputs": [
    {
     "data": {
      "text/html": [
       "<div>\n",
       "<style scoped>\n",
       "    .dataframe tbody tr th:only-of-type {\n",
       "        vertical-align: middle;\n",
       "    }\n",
       "\n",
       "    .dataframe tbody tr th {\n",
       "        vertical-align: top;\n",
       "    }\n",
       "\n",
       "    .dataframe thead th {\n",
       "        text-align: right;\n",
       "    }\n",
       "</style>\n",
       "<table border=\"1\" class=\"dataframe\">\n",
       "  <thead>\n",
       "    <tr style=\"text-align: right;\">\n",
       "      <th></th>\n",
       "      <th>Unnamed: 0</th>\n",
       "      <th>userID</th>\n",
       "      <th>title</th>\n",
       "      <th>year</th>\n",
       "      <th>kind</th>\n",
       "      <th>genre</th>\n",
       "      <th>vote</th>\n",
       "      <th>country</th>\n",
       "      <th>language</th>\n",
       "      <th>cast</th>\n",
       "      <th>director</th>\n",
       "      <th>composer</th>\n",
       "      <th>writer</th>\n",
       "      <th>runtime</th>\n",
       "      <th>rating</th>\n",
       "    </tr>\n",
       "  </thead>\n",
       "  <tbody>\n",
       "    <tr>\n",
       "      <th>0</th>\n",
       "      <td>0</td>\n",
       "      <td>0</td>\n",
       "      <td>Dinosaur Planet</td>\n",
       "      <td>2003.0</td>\n",
       "      <td>tv mini series</td>\n",
       "      <td>['Documentary', 'Animation', 'Family']</td>\n",
       "      <td>474.0</td>\n",
       "      <td>['United States']</td>\n",
       "      <td>['English']</td>\n",
       "      <td>['Christian Slater', 'Scott Sampson']</td>\n",
       "      <td>NaN</td>\n",
       "      <td>NaN</td>\n",
       "      <td>['Mike Carrol', 'Mike Carroll', 'Georgann Kane']</td>\n",
       "      <td>50.0</td>\n",
       "      <td>7.7</td>\n",
       "    </tr>\n",
       "    <tr>\n",
       "      <th>1</th>\n",
       "      <td>1</td>\n",
       "      <td>1</td>\n",
       "      <td>Character</td>\n",
       "      <td>2021.0</td>\n",
       "      <td>movie</td>\n",
       "      <td>['Crime', 'Horror', 'Thriller']</td>\n",
       "      <td>46.0</td>\n",
       "      <td>['Japan']</td>\n",
       "      <td>['Japanese']</td>\n",
       "      <td>['Masaki Suda', 'Fukase', 'Mitsuki Takahata', ...</td>\n",
       "      <td>['Akira Nagai']</td>\n",
       "      <td>['Youki Kojima']</td>\n",
       "      <td>['Takashi Nagasaki', 'Takashi Nagasaki', 'Anna...</td>\n",
       "      <td>125.0</td>\n",
       "      <td>8.3</td>\n",
       "    </tr>\n",
       "    <tr>\n",
       "      <th>2</th>\n",
       "      <td>2</td>\n",
       "      <td>2</td>\n",
       "      <td>Get Up and Dance!</td>\n",
       "      <td>1994.0</td>\n",
       "      <td>video movie</td>\n",
       "      <td>['Family']</td>\n",
       "      <td>18.0</td>\n",
       "      <td>['United States']</td>\n",
       "      <td>['English']</td>\n",
       "      <td>['Paula Abdul', 'Aurorah Allain', 'Bill Bohl',...</td>\n",
       "      <td>['Steve Purcell']</td>\n",
       "      <td>NaN</td>\n",
       "      <td>NaN</td>\n",
       "      <td>54.0</td>\n",
       "      <td>8.1</td>\n",
       "    </tr>\n",
       "    <tr>\n",
       "      <th>3</th>\n",
       "      <td>3</td>\n",
       "      <td>3</td>\n",
       "      <td>The Rise and Fall of El Chapo</td>\n",
       "      <td>2016.0</td>\n",
       "      <td>tv movie</td>\n",
       "      <td>['Documentary']</td>\n",
       "      <td>42.0</td>\n",
       "      <td>['United States']</td>\n",
       "      <td>NaN</td>\n",
       "      <td>NaN</td>\n",
       "      <td>NaN</td>\n",
       "      <td>NaN</td>\n",
       "      <td>NaN</td>\n",
       "      <td>85.0</td>\n",
       "      <td>6.9</td>\n",
       "    </tr>\n",
       "    <tr>\n",
       "      <th>4</th>\n",
       "      <td>4</td>\n",
       "      <td>4</td>\n",
       "      <td>Sick - IMDb</td>\n",
       "      <td>NaN</td>\n",
       "      <td>NaN</td>\n",
       "      <td>['Thriller']</td>\n",
       "      <td>NaN</td>\n",
       "      <td>['United States']</td>\n",
       "      <td>NaN</td>\n",
       "      <td>['Marc Menchaca', 'Gideon Adlon', 'Dylan Spray...</td>\n",
       "      <td>['John Hyams']</td>\n",
       "      <td>NaN</td>\n",
       "      <td>['Katelyn Crabb', 'Kevin Williamson']</td>\n",
       "      <td>NaN</td>\n",
       "      <td>NaN</td>\n",
       "    </tr>\n",
       "  </tbody>\n",
       "</table>\n",
       "</div>"
      ],
      "text/plain": [
       "   Unnamed: 0  userID                          title    year            kind  \\\n",
       "0           0       0                Dinosaur Planet  2003.0  tv mini series   \n",
       "1           1       1                      Character  2021.0           movie   \n",
       "2           2       2              Get Up and Dance!  1994.0     video movie   \n",
       "3           3       3  The Rise and Fall of El Chapo  2016.0        tv movie   \n",
       "4           4       4                    Sick - IMDb     NaN             NaN   \n",
       "\n",
       "                                    genre   vote            country  \\\n",
       "0  ['Documentary', 'Animation', 'Family']  474.0  ['United States']   \n",
       "1         ['Crime', 'Horror', 'Thriller']   46.0          ['Japan']   \n",
       "2                              ['Family']   18.0  ['United States']   \n",
       "3                         ['Documentary']   42.0  ['United States']   \n",
       "4                            ['Thriller']    NaN  ['United States']   \n",
       "\n",
       "       language                                               cast  \\\n",
       "0   ['English']              ['Christian Slater', 'Scott Sampson']   \n",
       "1  ['Japanese']  ['Masaki Suda', 'Fukase', 'Mitsuki Takahata', ...   \n",
       "2   ['English']  ['Paula Abdul', 'Aurorah Allain', 'Bill Bohl',...   \n",
       "3           NaN                                                NaN   \n",
       "4           NaN  ['Marc Menchaca', 'Gideon Adlon', 'Dylan Spray...   \n",
       "\n",
       "            director          composer  \\\n",
       "0                NaN               NaN   \n",
       "1    ['Akira Nagai']  ['Youki Kojima']   \n",
       "2  ['Steve Purcell']               NaN   \n",
       "3                NaN               NaN   \n",
       "4     ['John Hyams']               NaN   \n",
       "\n",
       "                                              writer  runtime  rating  \n",
       "0   ['Mike Carrol', 'Mike Carroll', 'Georgann Kane']     50.0     7.7  \n",
       "1  ['Takashi Nagasaki', 'Takashi Nagasaki', 'Anna...    125.0     8.3  \n",
       "2                                                NaN     54.0     8.1  \n",
       "3                                                NaN     85.0     6.9  \n",
       "4              ['Katelyn Crabb', 'Kevin Williamson']      NaN     NaN  "
      ]
     },
     "execution_count": 5,
     "metadata": {},
     "output_type": "execute_result"
    }
   ],
   "source": [
    "train.head()"
   ]
  },
  {
   "cell_type": "code",
   "execution_count": 6,
   "id": "a0694ee1",
   "metadata": {
    "execution": {
     "iopub.execute_input": "2022-04-21T12:09:44.599961Z",
     "iopub.status.busy": "2022-04-21T12:09:44.599125Z",
     "iopub.status.idle": "2022-04-21T12:09:44.609802Z",
     "shell.execute_reply": "2022-04-21T12:09:44.609108Z"
    },
    "papermill": {
     "duration": 0.054875,
     "end_time": "2022-04-21T12:09:44.611640",
     "exception": false,
     "start_time": "2022-04-21T12:09:44.556765",
     "status": "completed"
    },
    "tags": []
   },
   "outputs": [
    {
     "data": {
      "text/plain": [
       "['Kevin Dunn']                                    33\n",
       "['Akira Kurosawa']                                16\n",
       "['Tom Clegg']                                     14\n",
       "['Werner Herzog']                                 14\n",
       "['Takashi Miike']                                 14\n",
       "                                                  ..\n",
       "['Clive Donner']                                   1\n",
       "['Margaret Selby', 'Tex Avery', 'Chuck Jones']     1\n",
       "['Elio Petri']                                     1\n",
       "['Gary Dauberman']                                 1\n",
       "['Arthur Wong', 'Brandy Yuen']                     1\n",
       "Name: director, Length: 4241, dtype: int64"
      ]
     },
     "execution_count": 6,
     "metadata": {},
     "output_type": "execute_result"
    }
   ],
   "source": [
    "train['director'].value_counts()"
   ]
  },
  {
   "cell_type": "markdown",
   "id": "e4ea883e",
   "metadata": {
    "papermill": {
     "duration": 0.04264,
     "end_time": "2022-04-21T12:09:44.696010",
     "exception": false,
     "start_time": "2022-04-21T12:09:44.653370",
     "status": "completed"
    },
    "tags": []
   },
   "source": [
    "## Check Missing Values"
   ]
  },
  {
   "cell_type": "code",
   "execution_count": 7,
   "id": "f87b25e4",
   "metadata": {
    "execution": {
     "iopub.execute_input": "2022-04-21T12:09:44.781933Z",
     "iopub.status.busy": "2022-04-21T12:09:44.781654Z",
     "iopub.status.idle": "2022-04-21T12:09:44.796794Z",
     "shell.execute_reply": "2022-04-21T12:09:44.796277Z"
    },
    "papermill": {
     "duration": 0.060675,
     "end_time": "2022-04-21T12:09:44.798499",
     "exception": false,
     "start_time": "2022-04-21T12:09:44.737824",
     "status": "completed"
    },
    "tags": []
   },
   "outputs": [
    {
     "data": {
      "text/plain": [
       "Unnamed: 0       0\n",
       "userID           0\n",
       "title            1\n",
       "year            55\n",
       "kind            30\n",
       "genre           85\n",
       "vote           773\n",
       "country        586\n",
       "language       696\n",
       "cast           307\n",
       "director      1633\n",
       "composer      3149\n",
       "writer        1469\n",
       "runtime        928\n",
       "rating         773\n",
       "dtype: int64"
      ]
     },
     "execution_count": 7,
     "metadata": {},
     "output_type": "execute_result"
    }
   ],
   "source": [
    "train.isnull().sum()"
   ]
  },
  {
   "cell_type": "code",
   "execution_count": 8,
   "id": "dfe8aa23",
   "metadata": {
    "execution": {
     "iopub.execute_input": "2022-04-21T12:09:44.884758Z",
     "iopub.status.busy": "2022-04-21T12:09:44.884468Z",
     "iopub.status.idle": "2022-04-21T12:09:44.894005Z",
     "shell.execute_reply": "2022-04-21T12:09:44.893502Z"
    },
    "papermill": {
     "duration": 0.055372,
     "end_time": "2022-04-21T12:09:44.895754",
     "exception": false,
     "start_time": "2022-04-21T12:09:44.840382",
     "status": "completed"
    },
    "tags": []
   },
   "outputs": [
    {
     "data": {
      "text/plain": [
       "Unnamed: 0      0\n",
       "userID          0\n",
       "title           0\n",
       "year           15\n",
       "kind            8\n",
       "genre           8\n",
       "vote          104\n",
       "country        79\n",
       "language       97\n",
       "cast           37\n",
       "director      227\n",
       "composer      473\n",
       "writer        187\n",
       "runtime       128\n",
       "dtype: int64"
      ]
     },
     "execution_count": 8,
     "metadata": {},
     "output_type": "execute_result"
    }
   ],
   "source": [
    "test.isnull().sum()"
   ]
  },
  {
   "cell_type": "markdown",
   "id": "bef83a4e",
   "metadata": {
    "papermill": {
     "duration": 0.042509,
     "end_time": "2022-04-21T12:09:44.980734",
     "exception": false,
     "start_time": "2022-04-21T12:09:44.938225",
     "status": "completed"
    },
    "tags": []
   },
   "source": [
    "# Data Clean"
   ]
  },
  {
   "cell_type": "code",
   "execution_count": 9,
   "id": "211c7330",
   "metadata": {
    "execution": {
     "iopub.execute_input": "2022-04-21T12:09:45.068774Z",
     "iopub.status.busy": "2022-04-21T12:09:45.067957Z",
     "iopub.status.idle": "2022-04-21T12:09:45.074612Z",
     "shell.execute_reply": "2022-04-21T12:09:45.074182Z"
    },
    "papermill": {
     "duration": 0.052946,
     "end_time": "2022-04-21T12:09:45.076146",
     "exception": false,
     "start_time": "2022-04-21T12:09:45.023200",
     "status": "completed"
    },
    "tags": []
   },
   "outputs": [
    {
     "data": {
      "text/plain": [
       "True    8001\n",
       "dtype: int64"
      ]
     },
     "execution_count": 9,
     "metadata": {},
     "output_type": "execute_result"
    }
   ],
   "source": [
    "verif = train['Unnamed: 0'] == train['userID']\n",
    "verif.value_counts()"
   ]
  },
  {
   "cell_type": "markdown",
   "id": "4fccbdf1",
   "metadata": {
    "papermill": {
     "duration": 0.043056,
     "end_time": "2022-04-21T12:09:45.161797",
     "exception": false,
     "start_time": "2022-04-21T12:09:45.118741",
     "status": "completed"
    },
    "tags": []
   },
   "source": [
    "So, we are going to delete this feature"
   ]
  },
  {
   "cell_type": "code",
   "execution_count": 10,
   "id": "ad035efe",
   "metadata": {
    "execution": {
     "iopub.execute_input": "2022-04-21T12:09:45.250177Z",
     "iopub.status.busy": "2022-04-21T12:09:45.249757Z",
     "iopub.status.idle": "2022-04-21T12:09:45.254785Z",
     "shell.execute_reply": "2022-04-21T12:09:45.254018Z"
    },
    "papermill": {
     "duration": 0.050941,
     "end_time": "2022-04-21T12:09:45.256594",
     "exception": false,
     "start_time": "2022-04-21T12:09:45.205653",
     "status": "completed"
    },
    "tags": []
   },
   "outputs": [],
   "source": [
    "del train['Unnamed: 0']\n",
    "del test['Unnamed: 0']"
   ]
  },
  {
   "cell_type": "markdown",
   "id": "d1e913ab",
   "metadata": {
    "papermill": {
     "duration": 0.042587,
     "end_time": "2022-04-21T12:09:45.341837",
     "exception": false,
     "start_time": "2022-04-21T12:09:45.299250",
     "status": "completed"
    },
    "tags": []
   },
   "source": [
    "### Object cols"
   ]
  },
  {
   "cell_type": "code",
   "execution_count": 11,
   "id": "19b47012",
   "metadata": {
    "_kg_hide-output": true,
    "execution": {
     "iopub.execute_input": "2022-04-21T12:09:45.431073Z",
     "iopub.status.busy": "2022-04-21T12:09:45.430794Z",
     "iopub.status.idle": "2022-04-21T12:09:45.437718Z",
     "shell.execute_reply": "2022-04-21T12:09:45.436946Z"
    },
    "papermill": {
     "duration": 0.054405,
     "end_time": "2022-04-21T12:09:45.439408",
     "exception": false,
     "start_time": "2022-04-21T12:09:45.385003",
     "status": "completed"
    },
    "tags": []
   },
   "outputs": [
    {
     "data": {
      "text/plain": [
       "['title',\n",
       " 'kind',\n",
       " 'genre',\n",
       " 'country',\n",
       " 'language',\n",
       " 'cast',\n",
       " 'director',\n",
       " 'composer',\n",
       " 'writer']"
      ]
     },
     "execution_count": 11,
     "metadata": {},
     "output_type": "execute_result"
    }
   ],
   "source": [
    "obj_cols = []\n",
    "\n",
    "for i in train.columns:\n",
    "    if train[i].dtypes == 'object':\n",
    "        obj_cols.append(i)\n",
    "        \n",
    "        \n",
    "obj_cols"
   ]
  },
  {
   "cell_type": "markdown",
   "id": "77ecd3ff",
   "metadata": {
    "papermill": {
     "duration": 0.043874,
     "end_time": "2022-04-21T12:09:45.527691",
     "exception": false,
     "start_time": "2022-04-21T12:09:45.483817",
     "status": "completed"
    },
    "tags": []
   },
   "source": [
    "### Encode Label"
   ]
  },
  {
   "cell_type": "code",
   "execution_count": 12,
   "id": "c0f4c58b",
   "metadata": {
    "execution": {
     "iopub.execute_input": "2022-04-21T12:09:45.616060Z",
     "iopub.status.busy": "2022-04-21T12:09:45.615262Z",
     "iopub.status.idle": "2022-04-21T12:09:46.659207Z",
     "shell.execute_reply": "2022-04-21T12:09:46.658333Z"
    },
    "papermill": {
     "duration": 1.09107,
     "end_time": "2022-04-21T12:09:46.661597",
     "exception": false,
     "start_time": "2022-04-21T12:09:45.570527",
     "status": "completed"
    },
    "tags": []
   },
   "outputs": [],
   "source": [
    "from sklearn import preprocessing\n",
    "le = preprocessing.LabelEncoder()"
   ]
  },
  {
   "cell_type": "code",
   "execution_count": 13,
   "id": "3b0abfdb",
   "metadata": {
    "execution": {
     "iopub.execute_input": "2022-04-21T12:09:46.752902Z",
     "iopub.status.busy": "2022-04-21T12:09:46.752616Z",
     "iopub.status.idle": "2022-04-21T12:09:46.887582Z",
     "shell.execute_reply": "2022-04-21T12:09:46.886602Z"
    },
    "papermill": {
     "duration": 0.183164,
     "end_time": "2022-04-21T12:09:46.889834",
     "exception": false,
     "start_time": "2022-04-21T12:09:46.706670",
     "status": "completed"
    },
    "tags": []
   },
   "outputs": [
    {
     "name": "stdout",
     "output_type": "stream",
     "text": [
      "<class 'pandas.core.frame.DataFrame'>\n",
      "RangeIndex: 8001 entries, 0 to 8000\n",
      "Data columns (total 14 columns):\n",
      " #   Column    Non-Null Count  Dtype  \n",
      "---  ------    --------------  -----  \n",
      " 0   userID    8001 non-null   int64  \n",
      " 1   title     8001 non-null   int64  \n",
      " 2   year      7946 non-null   float64\n",
      " 3   kind      8001 non-null   int64  \n",
      " 4   genre     8001 non-null   int64  \n",
      " 5   vote      7228 non-null   float64\n",
      " 6   country   8001 non-null   int64  \n",
      " 7   language  8001 non-null   int64  \n",
      " 8   cast      8001 non-null   int64  \n",
      " 9   director  8001 non-null   int64  \n",
      " 10  composer  8001 non-null   int64  \n",
      " 11  writer    8001 non-null   int64  \n",
      " 12  runtime   7073 non-null   float64\n",
      " 13  rating    7228 non-null   float64\n",
      "dtypes: float64(4), int64(10)\n",
      "memory usage: 875.2 KB\n"
     ]
    }
   ],
   "source": [
    "for col in obj_cols:\n",
    "    train[col] = le.fit_transform(train[col])\n",
    "    test[col] = le.fit_transform(test[col])\n",
    "    \n",
    "train.info()"
   ]
  },
  {
   "cell_type": "markdown",
   "id": "b00f2765",
   "metadata": {
    "papermill": {
     "duration": 0.043808,
     "end_time": "2022-04-21T12:09:46.978839",
     "exception": false,
     "start_time": "2022-04-21T12:09:46.935031",
     "status": "completed"
    },
    "tags": []
   },
   "source": [
    "### Imputer Data"
   ]
  },
  {
   "cell_type": "code",
   "execution_count": 14,
   "id": "668c8b90",
   "metadata": {
    "execution": {
     "iopub.execute_input": "2022-04-21T12:09:47.070588Z",
     "iopub.status.busy": "2022-04-21T12:09:47.069828Z",
     "iopub.status.idle": "2022-04-21T12:09:47.250824Z",
     "shell.execute_reply": "2022-04-21T12:09:47.250212Z"
    },
    "papermill": {
     "duration": 0.229188,
     "end_time": "2022-04-21T12:09:47.252988",
     "exception": false,
     "start_time": "2022-04-21T12:09:47.023800",
     "status": "completed"
    },
    "tags": []
   },
   "outputs": [],
   "source": [
    "from sklearn.impute import KNNImputer\n",
    "\n",
    "knni = KNNImputer(n_neighbors=5)"
   ]
  },
  {
   "cell_type": "code",
   "execution_count": 15,
   "id": "1d4bb8da",
   "metadata": {
    "execution": {
     "iopub.execute_input": "2022-04-21T12:09:47.344664Z",
     "iopub.status.busy": "2022-04-21T12:09:47.344146Z",
     "iopub.status.idle": "2022-04-21T12:09:47.356600Z",
     "shell.execute_reply": "2022-04-21T12:09:47.355858Z"
    },
    "papermill": {
     "duration": 0.060546,
     "end_time": "2022-04-21T12:09:47.358443",
     "exception": false,
     "start_time": "2022-04-21T12:09:47.297897",
     "status": "completed"
    },
    "tags": []
   },
   "outputs": [
    {
     "data": {
      "text/plain": [
       "(4, 3)"
      ]
     },
     "execution_count": 15,
     "metadata": {},
     "output_type": "execute_result"
    }
   ],
   "source": [
    "null_train_cols = []\n",
    "for col in train.columns:\n",
    "    if train[col].isnull().sum().any():\n",
    "        null_train_cols.append(col)\n",
    "        \n",
    "null_test_cols = []\n",
    "for col in test.columns:\n",
    "    if test[col].isnull().sum().any():\n",
    "        null_test_cols.append(col)\n",
    "        \n",
    "len(null_train_cols), len(null_test_cols)"
   ]
  },
  {
   "cell_type": "code",
   "execution_count": 16,
   "id": "9cff2264",
   "metadata": {
    "execution": {
     "iopub.execute_input": "2022-04-21T12:09:47.450395Z",
     "iopub.status.busy": "2022-04-21T12:09:47.450081Z",
     "iopub.status.idle": "2022-04-21T12:09:47.455287Z",
     "shell.execute_reply": "2022-04-21T12:09:47.454737Z"
    },
    "papermill": {
     "duration": 0.053598,
     "end_time": "2022-04-21T12:09:47.456955",
     "exception": false,
     "start_time": "2022-04-21T12:09:47.403357",
     "status": "completed"
    },
    "tags": []
   },
   "outputs": [
    {
     "data": {
      "text/plain": [
       "['year', 'vote', 'runtime', 'rating']"
      ]
     },
     "execution_count": 16,
     "metadata": {},
     "output_type": "execute_result"
    }
   ],
   "source": [
    "null_train_cols"
   ]
  },
  {
   "cell_type": "markdown",
   "id": "d41f325e",
   "metadata": {
    "papermill": {
     "duration": 0.04441,
     "end_time": "2022-04-21T12:09:47.547499",
     "exception": false,
     "start_time": "2022-04-21T12:09:47.503089",
     "status": "completed"
    },
    "tags": []
   },
   "source": [
    "- Impute Train Data"
   ]
  },
  {
   "cell_type": "code",
   "execution_count": 17,
   "id": "5bcb5551",
   "metadata": {
    "execution": {
     "iopub.execute_input": "2022-04-21T12:09:47.638348Z",
     "iopub.status.busy": "2022-04-21T12:09:47.637498Z",
     "iopub.status.idle": "2022-04-21T12:09:48.646144Z",
     "shell.execute_reply": "2022-04-21T12:09:48.645427Z"
    },
    "papermill": {
     "duration": 1.056755,
     "end_time": "2022-04-21T12:09:48.648496",
     "exception": false,
     "start_time": "2022-04-21T12:09:47.591741",
     "status": "completed"
    },
    "tags": []
   },
   "outputs": [
    {
     "data": {
      "text/plain": [
       "userID      0\n",
       "title       0\n",
       "year        0\n",
       "kind        0\n",
       "genre       0\n",
       "vote        0\n",
       "country     0\n",
       "language    0\n",
       "cast        0\n",
       "director    0\n",
       "composer    0\n",
       "writer      0\n",
       "runtime     0\n",
       "rating      0\n",
       "dtype: int64"
      ]
     },
     "execution_count": 17,
     "metadata": {},
     "output_type": "execute_result"
    }
   ],
   "source": [
    "imput_train = pd.DataFrame(knni.fit_transform(train[null_train_cols]))\n",
    "\n",
    "iterate = 0\n",
    "for col in null_train_cols:\n",
    "    train[col] = imput_train[iterate]\n",
    "    iterate +=1\n",
    "    \n",
    "del imput_train\n",
    "train.isnull().sum()"
   ]
  },
  {
   "cell_type": "markdown",
   "id": "b0c56088",
   "metadata": {
    "papermill": {
     "duration": 0.04509,
     "end_time": "2022-04-21T12:09:48.740362",
     "exception": false,
     "start_time": "2022-04-21T12:09:48.695272",
     "status": "completed"
    },
    "tags": []
   },
   "source": [
    "- Impute Test Data"
   ]
  },
  {
   "cell_type": "code",
   "execution_count": 18,
   "id": "664f6808",
   "metadata": {
    "execution": {
     "iopub.execute_input": "2022-04-21T12:09:48.834278Z",
     "iopub.status.busy": "2022-04-21T12:09:48.833766Z",
     "iopub.status.idle": "2022-04-21T12:09:48.880291Z",
     "shell.execute_reply": "2022-04-21T12:09:48.879435Z"
    },
    "papermill": {
     "duration": 0.096834,
     "end_time": "2022-04-21T12:09:48.883025",
     "exception": false,
     "start_time": "2022-04-21T12:09:48.786191",
     "status": "completed"
    },
    "tags": []
   },
   "outputs": [
    {
     "data": {
      "text/plain": [
       "userID      0\n",
       "title       0\n",
       "year        0\n",
       "kind        0\n",
       "genre       0\n",
       "vote        0\n",
       "country     0\n",
       "language    0\n",
       "cast        0\n",
       "director    0\n",
       "composer    0\n",
       "writer      0\n",
       "runtime     0\n",
       "dtype: int64"
      ]
     },
     "execution_count": 18,
     "metadata": {},
     "output_type": "execute_result"
    }
   ],
   "source": [
    "imput_test = pd.DataFrame(knni.fit_transform(test[null_test_cols]))\n",
    "\n",
    "iterate = 0\n",
    "for col in null_test_cols:\n",
    "    test[col] = imput_test[iterate]\n",
    "    iterate +=1\n",
    "    \n",
    "test.isnull().sum()"
   ]
  },
  {
   "cell_type": "markdown",
   "id": "a9dd2d75",
   "metadata": {
    "papermill": {
     "duration": 0.04692,
     "end_time": "2022-04-21T12:09:49.013496",
     "exception": false,
     "start_time": "2022-04-21T12:09:48.966576",
     "status": "completed"
    },
    "tags": []
   },
   "source": [
    "# Modeling"
   ]
  },
  {
   "cell_type": "markdown",
   "id": "a0c6ca65",
   "metadata": {
    "papermill": {
     "duration": 0.045292,
     "end_time": "2022-04-21T12:09:49.104630",
     "exception": false,
     "start_time": "2022-04-21T12:09:49.059338",
     "status": "completed"
    },
    "tags": []
   },
   "source": [
    "### Split Data"
   ]
  },
  {
   "cell_type": "code",
   "execution_count": 19,
   "id": "cd1793f2",
   "metadata": {
    "execution": {
     "iopub.execute_input": "2022-04-21T12:09:49.196659Z",
     "iopub.status.busy": "2022-04-21T12:09:49.196413Z",
     "iopub.status.idle": "2022-04-21T12:09:49.204002Z",
     "shell.execute_reply": "2022-04-21T12:09:49.203475Z"
    },
    "papermill": {
     "duration": 0.055894,
     "end_time": "2022-04-21T12:09:49.205633",
     "exception": false,
     "start_time": "2022-04-21T12:09:49.149739",
     "status": "completed"
    },
    "tags": []
   },
   "outputs": [
    {
     "data": {
      "text/plain": [
       "(8001, 12)"
      ]
     },
     "execution_count": 19,
     "metadata": {},
     "output_type": "execute_result"
    }
   ],
   "source": [
    "del train['userID']\n",
    "del test['userID']\n",
    "\n",
    "X = train.copy()\n",
    "y = X.pop('rating')\n",
    "\n",
    "X.shape"
   ]
  },
  {
   "cell_type": "markdown",
   "id": "10c8cf2b",
   "metadata": {
    "papermill": {
     "duration": 0.046598,
     "end_time": "2022-04-21T12:09:49.298080",
     "exception": false,
     "start_time": "2022-04-21T12:09:49.251482",
     "status": "completed"
    },
    "tags": []
   },
   "source": [
    "### Try H2O"
   ]
  },
  {
   "cell_type": "code",
   "execution_count": 20,
   "id": "114f3231",
   "metadata": {
    "_kg_hide-output": true,
    "execution": {
     "iopub.execute_input": "2022-04-21T12:09:49.392885Z",
     "iopub.status.busy": "2022-04-21T12:09:49.392385Z",
     "iopub.status.idle": "2022-04-21T12:09:49.530028Z",
     "shell.execute_reply": "2022-04-21T12:09:49.529200Z"
    },
    "papermill": {
     "duration": 0.187755,
     "end_time": "2022-04-21T12:09:49.532387",
     "exception": false,
     "start_time": "2022-04-21T12:09:49.344632",
     "status": "completed"
    },
    "tags": []
   },
   "outputs": [],
   "source": [
    "## import packages\n",
    "import h2o\n",
    "from h2o.automl import H2OAutoML"
   ]
  },
  {
   "cell_type": "code",
   "execution_count": 21,
   "id": "078c163d",
   "metadata": {
    "collapsed": true,
    "execution": {
     "iopub.execute_input": "2022-04-21T12:09:49.628268Z",
     "iopub.status.busy": "2022-04-21T12:09:49.627790Z",
     "iopub.status.idle": "2022-04-21T12:09:58.969710Z",
     "shell.execute_reply": "2022-04-21T12:09:58.968725Z"
    },
    "jupyter": {
     "outputs_hidden": true
    },
    "papermill": {
     "duration": 9.392892,
     "end_time": "2022-04-21T12:09:58.972069",
     "exception": false,
     "start_time": "2022-04-21T12:09:49.579177",
     "status": "completed"
    },
    "tags": []
   },
   "outputs": [
    {
     "name": "stdout",
     "output_type": "stream",
     "text": [
      "Checking whether there is an H2O instance running at http://localhost:54321 ..... not found.\n",
      "Attempting to start a local H2O server...\n",
      "  Java Version: openjdk version \"11.0.14.1\" 2022-02-08; OpenJDK Runtime Environment (build 11.0.14.1+1-Ubuntu-0ubuntu1.20.04); OpenJDK 64-Bit Server VM (build 11.0.14.1+1-Ubuntu-0ubuntu1.20.04, mixed mode, sharing)\n",
      "  Starting server from /opt/conda/lib/python3.7/site-packages/h2o/backend/bin/h2o.jar\n",
      "  Ice root: /tmp/tmpz3drhftb\n",
      "  JVM stdout: /tmp/tmpz3drhftb/h2o_unknownUser_started_from_python.out\n",
      "  JVM stderr: /tmp/tmpz3drhftb/h2o_unknownUser_started_from_python.err\n",
      "  Server is running at http://127.0.0.1:54321\n",
      "Connecting to H2O server at http://127.0.0.1:54321 ... successful.\n"
     ]
    },
    {
     "data": {
      "text/html": [
       "<div style=\"overflow:auto\"><table style=\"width:50%\"><tr><td>H2O_cluster_uptime:</td>\n",
       "<td>02 secs</td></tr>\n",
       "<tr><td>H2O_cluster_timezone:</td>\n",
       "<td>Etc/UTC</td></tr>\n",
       "<tr><td>H2O_data_parsing_timezone:</td>\n",
       "<td>UTC</td></tr>\n",
       "<tr><td>H2O_cluster_version:</td>\n",
       "<td>3.36.0.4</td></tr>\n",
       "<tr><td>H2O_cluster_version_age:</td>\n",
       "<td>21 days, 17 hours and 34 minutes </td></tr>\n",
       "<tr><td>H2O_cluster_name:</td>\n",
       "<td>H2O_from_python_unknownUser_h9a6tn</td></tr>\n",
       "<tr><td>H2O_cluster_total_nodes:</td>\n",
       "<td>1</td></tr>\n",
       "<tr><td>H2O_cluster_free_memory:</td>\n",
       "<td>4.396 Gb</td></tr>\n",
       "<tr><td>H2O_cluster_total_cores:</td>\n",
       "<td>4</td></tr>\n",
       "<tr><td>H2O_cluster_allowed_cores:</td>\n",
       "<td>4</td></tr>\n",
       "<tr><td>H2O_cluster_status:</td>\n",
       "<td>locked, healthy</td></tr>\n",
       "<tr><td>H2O_connection_url:</td>\n",
       "<td>http://127.0.0.1:54321</td></tr>\n",
       "<tr><td>H2O_connection_proxy:</td>\n",
       "<td>{\"http\": null, \"https\": null}</td></tr>\n",
       "<tr><td>H2O_internal_security:</td>\n",
       "<td>False</td></tr>\n",
       "<tr><td>Python_version:</td>\n",
       "<td>3.7.12 final</td></tr></table></div>"
      ],
      "text/plain": [
       "--------------------------  ----------------------------------\n",
       "H2O_cluster_uptime:         02 secs\n",
       "H2O_cluster_timezone:       Etc/UTC\n",
       "H2O_data_parsing_timezone:  UTC\n",
       "H2O_cluster_version:        3.36.0.4\n",
       "H2O_cluster_version_age:    21 days, 17 hours and 34 minutes\n",
       "H2O_cluster_name:           H2O_from_python_unknownUser_h9a6tn\n",
       "H2O_cluster_total_nodes:    1\n",
       "H2O_cluster_free_memory:    4.396 Gb\n",
       "H2O_cluster_total_cores:    4\n",
       "H2O_cluster_allowed_cores:  4\n",
       "H2O_cluster_status:         locked, healthy\n",
       "H2O_connection_url:         http://127.0.0.1:54321\n",
       "H2O_connection_proxy:       {\"http\": null, \"https\": null}\n",
       "H2O_internal_security:      False\n",
       "Python_version:             3.7.12 final\n",
       "--------------------------  ----------------------------------"
      ]
     },
     "metadata": {},
     "output_type": "display_data"
    },
    {
     "name": "stdout",
     "output_type": "stream",
     "text": [
      "Parse progress: |████████████████████████████████████████████████████████████████| (done) 100%\n",
      "Parse progress: |████████████████████████████████████████████████████████████████| (done) 100%\n",
      "Parse progress: |████████████████████████████████████████████████████████████████| (done) 100%\n"
     ]
    }
   ],
   "source": [
    "## prepare data\n",
    "h2o.init()\n",
    "\n",
    "h2o_train = h2o.H2OFrame(train)\n",
    "h2o_test = h2o.H2OFrame(test)\n",
    "target = train['rating'].to_numpy().ravel()\n",
    "h2o_train['rating'] = h2o.H2OFrame(target)\n",
    "\n",
    "#from sklearn.model_selection import train_test_split\n",
    "#X_train, X_test, y_train, y_test = train_test_split(X, y, test_size=0.20, random_state=42)"
   ]
  },
  {
   "cell_type": "markdown",
   "id": "b31185ae",
   "metadata": {
    "papermill": {
     "duration": 0.053989,
     "end_time": "2022-04-21T12:09:59.081085",
     "exception": false,
     "start_time": "2022-04-21T12:09:59.027096",
     "status": "completed"
    },
    "tags": []
   },
   "source": [
    "### Train Model"
   ]
  },
  {
   "cell_type": "code",
   "execution_count": 22,
   "id": "ff717aa5",
   "metadata": {
    "_kg_hide-output": true,
    "execution": {
     "iopub.execute_input": "2022-04-21T12:09:59.186316Z",
     "iopub.status.busy": "2022-04-21T12:09:59.186018Z",
     "iopub.status.idle": "2022-04-21T12:30:04.080754Z",
     "shell.execute_reply": "2022-04-21T12:30:04.079677Z"
    },
    "papermill": {
     "duration": 1204.954304,
     "end_time": "2022-04-21T12:30:04.086908",
     "exception": false,
     "start_time": "2022-04-21T12:09:59.132604",
     "status": "completed"
    },
    "tags": []
   },
   "outputs": [
    {
     "name": "stdout",
     "output_type": "stream",
     "text": [
      "AutoML progress: |██████████████████████████████████████████████████████████████\n",
      "12:29:39.301: GBM_lr_annealing_selection_AutoML_1_20220421_120959 [GBM lr_annealing] failed: water.exceptions.H2OIllegalArgumentException: Can only convert jobs producing a single Model or ModelContainer.\n",
      "\n",
      "█| (done) 100%\n",
      "Model Details\n",
      "=============\n",
      "H2OStackedEnsembleEstimator :  Stacked Ensemble\n",
      "Model Key:  StackedEnsemble_AllModels_3_AutoML_1_20220421_120959\n",
      "\n",
      "No model summary for this model\n",
      "\n",
      "ModelMetricsRegressionGLM: stackedensemble\n",
      "** Reported on train data. **\n",
      "\n",
      "MSE: 0.14353123744092985\n",
      "RMSE: 0.3788551668394267\n",
      "MAE: 0.2576695637377759\n",
      "RMSLE: 0.06115564895207093\n",
      "R^2: 0.9067805686232867\n",
      "Mean Residual Deviance: 0.14353123744092985\n",
      "Null degrees of freedom: 8000\n",
      "Residual degrees of freedom: 7990\n",
      "Null deviance: 12319.249471966426\n",
      "Residual deviance: 1148.3934307648797\n",
      "AIC: 7198.292526102844\n",
      "\n",
      "ModelMetricsRegressionGLM: stackedensemble\n",
      "** Reported on cross-validation data. **\n",
      "\n",
      "MSE: 0.6576141015814659\n",
      "RMSE: 0.8109340920083863\n",
      "MAE: 0.5758335403723244\n",
      "RMSLE: 0.12276587693628803\n",
      "R^2: 0.5728984595427815\n",
      "Mean Residual Deviance: 0.6576141015814659\n",
      "Null degrees of freedom: 8000\n",
      "Residual degrees of freedom: 7990\n",
      "Null deviance: 12321.512788871876\n",
      "Residual deviance: 5261.570426753309\n",
      "AIC: 19376.33933967498\n"
     ]
    },
    {
     "data": {
      "text/plain": []
     },
     "execution_count": 22,
     "metadata": {},
     "output_type": "execute_result"
    }
   ],
   "source": [
    "## run model\n",
    "features = [x for x in h2o_train.columns if x != 'rating']\n",
    "\n",
    "model_h2o = H2OAutoML(stopping_metric='rmse', max_runtime_secs=1200)\n",
    "model_h2o.train(x=features, y='rating', training_frame=h2o_train)"
   ]
  },
  {
   "cell_type": "code",
   "execution_count": 23,
   "id": "c1b868bb",
   "metadata": {
    "execution": {
     "iopub.execute_input": "2022-04-21T12:30:04.331760Z",
     "iopub.status.busy": "2022-04-21T12:30:04.330739Z",
     "iopub.status.idle": "2022-04-21T12:30:04.354269Z",
     "shell.execute_reply": "2022-04-21T12:30:04.353218Z"
    },
    "papermill": {
     "duration": 0.127249,
     "end_time": "2022-04-21T12:30:04.356590",
     "exception": false,
     "start_time": "2022-04-21T12:30:04.229341",
     "status": "completed"
    },
    "tags": []
   },
   "outputs": [
    {
     "data": {
      "text/html": [
       "<table>\n",
       "<thead>\n",
       "<tr><th>model_id                                               </th><th style=\"text-align: right;\">  mean_residual_deviance</th><th style=\"text-align: right;\">    rmse</th><th style=\"text-align: right;\">     mse</th><th style=\"text-align: right;\">     mae</th><th style=\"text-align: right;\">   rmsle</th></tr>\n",
       "</thead>\n",
       "<tbody>\n",
       "<tr><td>StackedEnsemble_AllModels_3_AutoML_1_20220421_120959   </td><td style=\"text-align: right;\">                0.657614</td><td style=\"text-align: right;\">0.810934</td><td style=\"text-align: right;\">0.657614</td><td style=\"text-align: right;\">0.575834</td><td style=\"text-align: right;\">0.122766</td></tr>\n",
       "<tr><td>StackedEnsemble_AllModels_4_AutoML_1_20220421_120959   </td><td style=\"text-align: right;\">                0.657908</td><td style=\"text-align: right;\">0.811116</td><td style=\"text-align: right;\">0.657908</td><td style=\"text-align: right;\">0.575888</td><td style=\"text-align: right;\">0.122797</td></tr>\n",
       "<tr><td>StackedEnsemble_BestOfFamily_4_AutoML_1_20220421_120959</td><td style=\"text-align: right;\">                0.670165</td><td style=\"text-align: right;\">0.818636</td><td style=\"text-align: right;\">0.670165</td><td style=\"text-align: right;\">0.582948</td><td style=\"text-align: right;\">0.123836</td></tr>\n",
       "<tr><td>StackedEnsemble_BestOfFamily_5_AutoML_1_20220421_120959</td><td style=\"text-align: right;\">                0.670245</td><td style=\"text-align: right;\">0.818685</td><td style=\"text-align: right;\">0.670245</td><td style=\"text-align: right;\">0.582975</td><td style=\"text-align: right;\">0.123839</td></tr>\n",
       "<tr><td>StackedEnsemble_BestOfFamily_7_AutoML_1_20220421_120959</td><td style=\"text-align: right;\">                0.671203</td><td style=\"text-align: right;\">0.81927 </td><td style=\"text-align: right;\">0.671203</td><td style=\"text-align: right;\">0.581809</td><td style=\"text-align: right;\">0.124151</td></tr>\n",
       "<tr><td>StackedEnsemble_AllModels_2_AutoML_1_20220421_120959   </td><td style=\"text-align: right;\">                0.678093</td><td style=\"text-align: right;\">0.823464</td><td style=\"text-align: right;\">0.678093</td><td style=\"text-align: right;\">0.587891</td><td style=\"text-align: right;\">0.124539</td></tr>\n",
       "<tr><td>StackedEnsemble_AllModels_1_AutoML_1_20220421_120959   </td><td style=\"text-align: right;\">                0.678437</td><td style=\"text-align: right;\">0.823673</td><td style=\"text-align: right;\">0.678437</td><td style=\"text-align: right;\">0.587553</td><td style=\"text-align: right;\">0.124593</td></tr>\n",
       "<tr><td>StackedEnsemble_BestOfFamily_2_AutoML_1_20220421_120959</td><td style=\"text-align: right;\">                0.679864</td><td style=\"text-align: right;\">0.824539</td><td style=\"text-align: right;\">0.679864</td><td style=\"text-align: right;\">0.587369</td><td style=\"text-align: right;\">0.124788</td></tr>\n",
       "<tr><td>StackedEnsemble_BestOfFamily_3_AutoML_1_20220421_120959</td><td style=\"text-align: right;\">                0.6806  </td><td style=\"text-align: right;\">0.824985</td><td style=\"text-align: right;\">0.6806  </td><td style=\"text-align: right;\">0.588722</td><td style=\"text-align: right;\">0.124771</td></tr>\n",
       "<tr><td>XGBoost_grid_1_AutoML_1_20220421_120959_model_6        </td><td style=\"text-align: right;\">                0.691719</td><td style=\"text-align: right;\">0.831697</td><td style=\"text-align: right;\">0.691719</td><td style=\"text-align: right;\">0.594304</td><td style=\"text-align: right;\">0.125731</td></tr>\n",
       "</tbody>\n",
       "</table>"
      ]
     },
     "metadata": {},
     "output_type": "display_data"
    },
    {
     "data": {
      "text/plain": []
     },
     "execution_count": 23,
     "metadata": {},
     "output_type": "execute_result"
    }
   ],
   "source": [
    "## check leaderboard\n",
    "model_h2o.leaderboard"
   ]
  },
  {
   "cell_type": "code",
   "execution_count": null,
   "id": "86be70ed",
   "metadata": {
    "papermill": {
     "duration": 0.080396,
     "end_time": "2022-04-21T12:30:04.517213",
     "exception": false,
     "start_time": "2022-04-21T12:30:04.436817",
     "status": "completed"
    },
    "tags": []
   },
   "outputs": [],
   "source": []
  },
  {
   "cell_type": "code",
   "execution_count": null,
   "id": "6cef7376",
   "metadata": {
    "papermill": {
     "duration": 0.080256,
     "end_time": "2022-04-21T12:30:04.677517",
     "exception": false,
     "start_time": "2022-04-21T12:30:04.597261",
     "status": "completed"
    },
    "tags": []
   },
   "outputs": [],
   "source": []
  },
  {
   "cell_type": "code",
   "execution_count": null,
   "id": "8f417b61",
   "metadata": {
    "papermill": {
     "duration": 0.080424,
     "end_time": "2022-04-21T12:30:04.838296",
     "exception": false,
     "start_time": "2022-04-21T12:30:04.757872",
     "status": "completed"
    },
    "tags": []
   },
   "outputs": [],
   "source": []
  },
  {
   "cell_type": "markdown",
   "id": "1d348994",
   "metadata": {
    "papermill": {
     "duration": 0.07984,
     "end_time": "2022-04-21T12:30:04.997135",
     "exception": false,
     "start_time": "2022-04-21T12:30:04.917295",
     "status": "completed"
    },
    "tags": []
   },
   "source": [
    "# Test"
   ]
  },
  {
   "cell_type": "code",
   "execution_count": 24,
   "id": "284ff138",
   "metadata": {
    "execution": {
     "iopub.execute_input": "2022-04-21T12:30:05.160578Z",
     "iopub.status.busy": "2022-04-21T12:30:05.160255Z",
     "iopub.status.idle": "2022-04-21T12:30:05.550472Z",
     "shell.execute_reply": "2022-04-21T12:30:05.549441Z"
    },
    "papermill": {
     "duration": 0.47562,
     "end_time": "2022-04-21T12:30:05.553716",
     "exception": false,
     "start_time": "2022-04-21T12:30:05.078096",
     "status": "completed"
    },
    "tags": []
   },
   "outputs": [
    {
     "name": "stdout",
     "output_type": "stream",
     "text": [
      "stackedensemble prediction progress: |███████████████████████████████████████████| (done) 100%\n"
     ]
    },
    {
     "data": {
      "text/html": [
       "<div>\n",
       "<style scoped>\n",
       "    .dataframe tbody tr th:only-of-type {\n",
       "        vertical-align: middle;\n",
       "    }\n",
       "\n",
       "    .dataframe tbody tr th {\n",
       "        vertical-align: top;\n",
       "    }\n",
       "\n",
       "    .dataframe thead th {\n",
       "        text-align: right;\n",
       "    }\n",
       "</style>\n",
       "<table border=\"1\" class=\"dataframe\">\n",
       "  <thead>\n",
       "    <tr style=\"text-align: right;\">\n",
       "      <th></th>\n",
       "      <th>predict</th>\n",
       "    </tr>\n",
       "  </thead>\n",
       "  <tbody>\n",
       "    <tr>\n",
       "      <th>0</th>\n",
       "      <td>6.224972</td>\n",
       "    </tr>\n",
       "    <tr>\n",
       "      <th>1</th>\n",
       "      <td>5.825169</td>\n",
       "    </tr>\n",
       "    <tr>\n",
       "      <th>2</th>\n",
       "      <td>6.575671</td>\n",
       "    </tr>\n",
       "    <tr>\n",
       "      <th>3</th>\n",
       "      <td>5.253024</td>\n",
       "    </tr>\n",
       "    <tr>\n",
       "      <th>4</th>\n",
       "      <td>6.888264</td>\n",
       "    </tr>\n",
       "    <tr>\n",
       "      <th>...</th>\n",
       "      <td>...</td>\n",
       "    </tr>\n",
       "    <tr>\n",
       "      <th>1820</th>\n",
       "      <td>6.294739</td>\n",
       "    </tr>\n",
       "    <tr>\n",
       "      <th>1821</th>\n",
       "      <td>6.562093</td>\n",
       "    </tr>\n",
       "    <tr>\n",
       "      <th>1822</th>\n",
       "      <td>6.480877</td>\n",
       "    </tr>\n",
       "    <tr>\n",
       "      <th>1823</th>\n",
       "      <td>6.444521</td>\n",
       "    </tr>\n",
       "    <tr>\n",
       "      <th>1824</th>\n",
       "      <td>7.066691</td>\n",
       "    </tr>\n",
       "  </tbody>\n",
       "</table>\n",
       "<p>1825 rows × 1 columns</p>\n",
       "</div>"
      ],
      "text/plain": [
       "       predict\n",
       "0     6.224972\n",
       "1     5.825169\n",
       "2     6.575671\n",
       "3     5.253024\n",
       "4     6.888264\n",
       "...        ...\n",
       "1820  6.294739\n",
       "1821  6.562093\n",
       "1822  6.480877\n",
       "1823  6.444521\n",
       "1824  7.066691\n",
       "\n",
       "[1825 rows x 1 columns]"
      ]
     },
     "execution_count": 24,
     "metadata": {},
     "output_type": "execute_result"
    }
   ],
   "source": [
    "## generate predictions\n",
    "preds_h2o = model_h2o.leader.predict(h2o_test).as_data_frame()\n",
    "preds_h2o"
   ]
  },
  {
   "cell_type": "code",
   "execution_count": null,
   "id": "4bedbbef",
   "metadata": {
    "papermill": {
     "duration": 0.080374,
     "end_time": "2022-04-21T12:30:05.714359",
     "exception": false,
     "start_time": "2022-04-21T12:30:05.633985",
     "status": "completed"
    },
    "tags": []
   },
   "outputs": [],
   "source": []
  },
  {
   "cell_type": "markdown",
   "id": "5d37c1b9",
   "metadata": {
    "papermill": {
     "duration": 0.079906,
     "end_time": "2022-04-21T12:30:05.873765",
     "exception": false,
     "start_time": "2022-04-21T12:30:05.793859",
     "status": "completed"
    },
    "tags": []
   },
   "source": [
    "# Submission"
   ]
  },
  {
   "cell_type": "code",
   "execution_count": 25,
   "id": "bc3e9a2f",
   "metadata": {
    "execution": {
     "iopub.execute_input": "2022-04-21T12:30:06.040256Z",
     "iopub.status.busy": "2022-04-21T12:30:06.039079Z",
     "iopub.status.idle": "2022-04-21T12:30:06.066416Z",
     "shell.execute_reply": "2022-04-21T12:30:06.065216Z"
    },
    "papermill": {
     "duration": 0.112977,
     "end_time": "2022-04-21T12:30:06.068481",
     "exception": false,
     "start_time": "2022-04-21T12:30:05.955504",
     "status": "completed"
    },
    "tags": []
   },
   "outputs": [
    {
     "name": "stdout",
     "output_type": "stream",
     "text": [
      "1    1825\n",
      "Name: rating, dtype: int64 \n",
      "\n"
     ]
    },
    {
     "data": {
      "text/html": [
       "<div>\n",
       "<style scoped>\n",
       "    .dataframe tbody tr th:only-of-type {\n",
       "        vertical-align: middle;\n",
       "    }\n",
       "\n",
       "    .dataframe tbody tr th {\n",
       "        vertical-align: top;\n",
       "    }\n",
       "\n",
       "    .dataframe thead th {\n",
       "        text-align: right;\n",
       "    }\n",
       "</style>\n",
       "<table border=\"1\" class=\"dataframe\">\n",
       "  <thead>\n",
       "    <tr style=\"text-align: right;\">\n",
       "      <th></th>\n",
       "      <th>userID</th>\n",
       "      <th>rating</th>\n",
       "    </tr>\n",
       "  </thead>\n",
       "  <tbody>\n",
       "    <tr>\n",
       "      <th>0</th>\n",
       "      <td>8001</td>\n",
       "      <td>1</td>\n",
       "    </tr>\n",
       "    <tr>\n",
       "      <th>1</th>\n",
       "      <td>8002</td>\n",
       "      <td>1</td>\n",
       "    </tr>\n",
       "    <tr>\n",
       "      <th>2</th>\n",
       "      <td>8003</td>\n",
       "      <td>1</td>\n",
       "    </tr>\n",
       "    <tr>\n",
       "      <th>3</th>\n",
       "      <td>8004</td>\n",
       "      <td>1</td>\n",
       "    </tr>\n",
       "    <tr>\n",
       "      <th>4</th>\n",
       "      <td>8005</td>\n",
       "      <td>1</td>\n",
       "    </tr>\n",
       "  </tbody>\n",
       "</table>\n",
       "</div>"
      ],
      "text/plain": [
       "   userID  rating\n",
       "0    8001       1\n",
       "1    8002       1\n",
       "2    8003       1\n",
       "3    8004       1\n",
       "4    8005       1"
      ]
     },
     "execution_count": 25,
     "metadata": {},
     "output_type": "execute_result"
    }
   ],
   "source": [
    "sub = pd.read_csv('../input/ctrl-shift-intelligence-2k22/sample_sub.csv')\n",
    "print(sub['rating'].value_counts(),'\\n')\n",
    "sub.head()"
   ]
  },
  {
   "cell_type": "markdown",
   "id": "8f68623c",
   "metadata": {
    "papermill": {
     "duration": 0.082061,
     "end_time": "2022-04-21T12:30:06.231416",
     "exception": false,
     "start_time": "2022-04-21T12:30:06.149355",
     "status": "completed"
    },
    "tags": []
   },
   "source": [
    "Save Submission File"
   ]
  },
  {
   "cell_type": "code",
   "execution_count": 26,
   "id": "020f487d",
   "metadata": {
    "execution": {
     "iopub.execute_input": "2022-04-21T12:30:06.396036Z",
     "iopub.status.busy": "2022-04-21T12:30:06.395233Z",
     "iopub.status.idle": "2022-04-21T12:30:06.417937Z",
     "shell.execute_reply": "2022-04-21T12:30:06.417086Z"
    },
    "papermill": {
     "duration": 0.107308,
     "end_time": "2022-04-21T12:30:06.420065",
     "exception": false,
     "start_time": "2022-04-21T12:30:06.312757",
     "status": "completed"
    },
    "tags": []
   },
   "outputs": [
    {
     "data": {
      "text/html": [
       "<div>\n",
       "<style scoped>\n",
       "    .dataframe tbody tr th:only-of-type {\n",
       "        vertical-align: middle;\n",
       "    }\n",
       "\n",
       "    .dataframe tbody tr th {\n",
       "        vertical-align: top;\n",
       "    }\n",
       "\n",
       "    .dataframe thead th {\n",
       "        text-align: right;\n",
       "    }\n",
       "</style>\n",
       "<table border=\"1\" class=\"dataframe\">\n",
       "  <thead>\n",
       "    <tr style=\"text-align: right;\">\n",
       "      <th></th>\n",
       "      <th>userID</th>\n",
       "      <th>rating</th>\n",
       "    </tr>\n",
       "  </thead>\n",
       "  <tbody>\n",
       "    <tr>\n",
       "      <th>0</th>\n",
       "      <td>8001</td>\n",
       "      <td>6.224972</td>\n",
       "    </tr>\n",
       "    <tr>\n",
       "      <th>1</th>\n",
       "      <td>8002</td>\n",
       "      <td>5.825169</td>\n",
       "    </tr>\n",
       "    <tr>\n",
       "      <th>2</th>\n",
       "      <td>8003</td>\n",
       "      <td>6.575671</td>\n",
       "    </tr>\n",
       "    <tr>\n",
       "      <th>3</th>\n",
       "      <td>8004</td>\n",
       "      <td>5.253024</td>\n",
       "    </tr>\n",
       "    <tr>\n",
       "      <th>4</th>\n",
       "      <td>8005</td>\n",
       "      <td>6.888264</td>\n",
       "    </tr>\n",
       "    <tr>\n",
       "      <th>...</th>\n",
       "      <td>...</td>\n",
       "      <td>...</td>\n",
       "    </tr>\n",
       "    <tr>\n",
       "      <th>1820</th>\n",
       "      <td>9821</td>\n",
       "      <td>6.294739</td>\n",
       "    </tr>\n",
       "    <tr>\n",
       "      <th>1821</th>\n",
       "      <td>9822</td>\n",
       "      <td>6.562093</td>\n",
       "    </tr>\n",
       "    <tr>\n",
       "      <th>1822</th>\n",
       "      <td>9823</td>\n",
       "      <td>6.480877</td>\n",
       "    </tr>\n",
       "    <tr>\n",
       "      <th>1823</th>\n",
       "      <td>9824</td>\n",
       "      <td>6.444521</td>\n",
       "    </tr>\n",
       "    <tr>\n",
       "      <th>1824</th>\n",
       "      <td>9825</td>\n",
       "      <td>7.066691</td>\n",
       "    </tr>\n",
       "  </tbody>\n",
       "</table>\n",
       "<p>1825 rows × 2 columns</p>\n",
       "</div>"
      ],
      "text/plain": [
       "      userID    rating\n",
       "0       8001  6.224972\n",
       "1       8002  5.825169\n",
       "2       8003  6.575671\n",
       "3       8004  5.253024\n",
       "4       8005  6.888264\n",
       "...      ...       ...\n",
       "1820    9821  6.294739\n",
       "1821    9822  6.562093\n",
       "1822    9823  6.480877\n",
       "1823    9824  6.444521\n",
       "1824    9825  7.066691\n",
       "\n",
       "[1825 rows x 2 columns]"
      ]
     },
     "execution_count": 26,
     "metadata": {},
     "output_type": "execute_result"
    }
   ],
   "source": [
    "sub['rating'] = preds_h2o\n",
    "\n",
    "sub.to_csv('submission.csv', index=False)\n",
    "sub"
   ]
  }
 ],
 "metadata": {
  "kernelspec": {
   "display_name": "Python 3",
   "language": "python",
   "name": "python3"
  },
  "language_info": {
   "codemirror_mode": {
    "name": "ipython",
    "version": 3
   },
   "file_extension": ".py",
   "mimetype": "text/x-python",
   "name": "python",
   "nbconvert_exporter": "python",
   "pygments_lexer": "ipython3",
   "version": "3.7.12"
  },
  "papermill": {
   "default_parameters": {},
   "duration": 1245.2999,
   "end_time": "2022-04-21T12:30:08.231539",
   "environment_variables": {},
   "exception": null,
   "input_path": "__notebook__.ipynb",
   "output_path": "__notebook__.ipynb",
   "parameters": {},
   "start_time": "2022-04-21T12:09:22.931639",
   "version": "2.3.4"
  }
 },
 "nbformat": 4,
 "nbformat_minor": 5
}
