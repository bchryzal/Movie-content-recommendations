{
 "cells": [
  {
   "cell_type": "markdown",
   "id": "6795b546",
   "metadata": {
    "papermill": {
     "duration": 0.042474,
     "end_time": "2022-04-20T12:30:17.524762",
     "exception": false,
     "start_time": "2022-04-20T12:30:17.482288",
     "status": "completed"
    },
    "tags": []
   },
   "source": [
    "## Build your own Recommendation Systems !!!"
   ]
  },
  {
   "cell_type": "code",
   "execution_count": 1,
   "id": "f78ba859",
   "metadata": {
    "_cell_guid": "b1076dfc-b9ad-4769-8c92-a6c4dae69d19",
    "_uuid": "8f2839f25d086af736a60e9eeb907d3b93b6e0e5",
    "execution": {
     "iopub.execute_input": "2022-04-20T12:30:17.608111Z",
     "iopub.status.busy": "2022-04-20T12:30:17.607523Z",
     "iopub.status.idle": "2022-04-20T12:30:17.617952Z",
     "shell.execute_reply": "2022-04-20T12:30:17.616968Z"
    },
    "papermill": {
     "duration": 0.054472,
     "end_time": "2022-04-20T12:30:17.620080",
     "exception": false,
     "start_time": "2022-04-20T12:30:17.565608",
     "status": "completed"
    },
    "tags": []
   },
   "outputs": [],
   "source": [
    "import numpy as np # linear algebra\n",
    "import pandas as pd # data processing, CSV file I/O (e.g. pd.read_csv)\n"
   ]
  },
  {
   "cell_type": "markdown",
   "id": "bed15c8f",
   "metadata": {
    "papermill": {
     "duration": 0.039869,
     "end_time": "2022-04-20T12:30:17.700915",
     "exception": false,
     "start_time": "2022-04-20T12:30:17.661046",
     "status": "completed"
    },
    "tags": []
   },
   "source": [
    "# Load Data"
   ]
  },
  {
   "cell_type": "code",
   "execution_count": 2,
   "id": "1fc58e10",
   "metadata": {
    "execution": {
     "iopub.execute_input": "2022-04-20T12:30:17.786528Z",
     "iopub.status.busy": "2022-04-20T12:30:17.785844Z",
     "iopub.status.idle": "2022-04-20T12:30:18.025930Z",
     "shell.execute_reply": "2022-04-20T12:30:18.025312Z"
    },
    "papermill": {
     "duration": 0.283641,
     "end_time": "2022-04-20T12:30:18.028287",
     "exception": false,
     "start_time": "2022-04-20T12:30:17.744646",
     "status": "completed"
    },
    "tags": []
   },
   "outputs": [
    {
     "data": {
      "text/plain": [
       "((8001, 15), (1825, 14))"
      ]
     },
     "execution_count": 2,
     "metadata": {},
     "output_type": "execute_result"
    }
   ],
   "source": [
    "train = pd.read_csv('../input/ctrl-shift-intelligence-2k22/train.csv')\n",
    "test = pd.read_csv('../input/ctrl-shift-intelligence-2k22/test.csv')\n",
    "\n",
    "train.shape, test.shape"
   ]
  },
  {
   "cell_type": "markdown",
   "id": "1b7146e4",
   "metadata": {
    "papermill": {
     "duration": 0.040574,
     "end_time": "2022-04-20T12:30:18.110470",
     "exception": false,
     "start_time": "2022-04-20T12:30:18.069896",
     "status": "completed"
    },
    "tags": []
   },
   "source": [
    "# Understanding Data"
   ]
  },
  {
   "cell_type": "code",
   "execution_count": 3,
   "id": "6aef0acb",
   "metadata": {
    "execution": {
     "iopub.execute_input": "2022-04-20T12:30:18.193870Z",
     "iopub.status.busy": "2022-04-20T12:30:18.193291Z",
     "iopub.status.idle": "2022-04-20T12:30:18.229090Z",
     "shell.execute_reply": "2022-04-20T12:30:18.228041Z"
    },
    "papermill": {
     "duration": 0.079915,
     "end_time": "2022-04-20T12:30:18.231136",
     "exception": false,
     "start_time": "2022-04-20T12:30:18.151221",
     "status": "completed"
    },
    "tags": []
   },
   "outputs": [
    {
     "name": "stdout",
     "output_type": "stream",
     "text": [
      "<class 'pandas.core.frame.DataFrame'>\n",
      "RangeIndex: 8001 entries, 0 to 8000\n",
      "Data columns (total 15 columns):\n",
      " #   Column      Non-Null Count  Dtype  \n",
      "---  ------      --------------  -----  \n",
      " 0   Unnamed: 0  8001 non-null   int64  \n",
      " 1   userID      8001 non-null   int64  \n",
      " 2   title       8000 non-null   object \n",
      " 3   year        7946 non-null   float64\n",
      " 4   kind        7971 non-null   object \n",
      " 5   genre       7916 non-null   object \n",
      " 6   vote        7228 non-null   float64\n",
      " 7   country     7415 non-null   object \n",
      " 8   language    7305 non-null   object \n",
      " 9   cast        7694 non-null   object \n",
      " 10  director    6368 non-null   object \n",
      " 11  composer    4852 non-null   object \n",
      " 12  writer      6532 non-null   object \n",
      " 13  runtime     7073 non-null   float64\n",
      " 14  rating      7228 non-null   float64\n",
      "dtypes: float64(4), int64(2), object(9)\n",
      "memory usage: 937.7+ KB\n"
     ]
    }
   ],
   "source": [
    "train.info()"
   ]
  },
  {
   "cell_type": "code",
   "execution_count": 4,
   "id": "e21ea9b0",
   "metadata": {
    "execution": {
     "iopub.execute_input": "2022-04-20T12:30:18.316990Z",
     "iopub.status.busy": "2022-04-20T12:30:18.316523Z",
     "iopub.status.idle": "2022-04-20T12:30:18.353147Z",
     "shell.execute_reply": "2022-04-20T12:30:18.352111Z"
    },
    "papermill": {
     "duration": 0.081798,
     "end_time": "2022-04-20T12:30:18.355609",
     "exception": false,
     "start_time": "2022-04-20T12:30:18.273811",
     "status": "completed"
    },
    "tags": []
   },
   "outputs": [
    {
     "data": {
      "text/html": [
       "<div>\n",
       "<style scoped>\n",
       "    .dataframe tbody tr th:only-of-type {\n",
       "        vertical-align: middle;\n",
       "    }\n",
       "\n",
       "    .dataframe tbody tr th {\n",
       "        vertical-align: top;\n",
       "    }\n",
       "\n",
       "    .dataframe thead th {\n",
       "        text-align: right;\n",
       "    }\n",
       "</style>\n",
       "<table border=\"1\" class=\"dataframe\">\n",
       "  <thead>\n",
       "    <tr style=\"text-align: right;\">\n",
       "      <th></th>\n",
       "      <th>Unnamed: 0</th>\n",
       "      <th>userID</th>\n",
       "      <th>year</th>\n",
       "      <th>vote</th>\n",
       "      <th>runtime</th>\n",
       "      <th>rating</th>\n",
       "    </tr>\n",
       "  </thead>\n",
       "  <tbody>\n",
       "    <tr>\n",
       "      <th>count</th>\n",
       "      <td>8001.000000</td>\n",
       "      <td>8001.000000</td>\n",
       "      <td>7946.000000</td>\n",
       "      <td>7.228000e+03</td>\n",
       "      <td>7073.000000</td>\n",
       "      <td>7228.000000</td>\n",
       "    </tr>\n",
       "    <tr>\n",
       "      <th>mean</th>\n",
       "      <td>4000.000000</td>\n",
       "      <td>4000.000000</td>\n",
       "      <td>1995.146111</td>\n",
       "      <td>1.902652e+04</td>\n",
       "      <td>97.644140</td>\n",
       "      <td>6.716146</td>\n",
       "    </tr>\n",
       "    <tr>\n",
       "      <th>std</th>\n",
       "      <td>2309.834085</td>\n",
       "      <td>2309.834085</td>\n",
       "      <td>15.829040</td>\n",
       "      <td>9.951044e+04</td>\n",
       "      <td>64.906578</td>\n",
       "      <td>1.291765</td>\n",
       "    </tr>\n",
       "    <tr>\n",
       "      <th>min</th>\n",
       "      <td>0.000000</td>\n",
       "      <td>0.000000</td>\n",
       "      <td>1905.000000</td>\n",
       "      <td>5.000000e+00</td>\n",
       "      <td>1.000000</td>\n",
       "      <td>1.200000</td>\n",
       "    </tr>\n",
       "    <tr>\n",
       "      <th>25%</th>\n",
       "      <td>2000.000000</td>\n",
       "      <td>2000.000000</td>\n",
       "      <td>1990.000000</td>\n",
       "      <td>2.427500e+02</td>\n",
       "      <td>75.000000</td>\n",
       "      <td>6.100000</td>\n",
       "    </tr>\n",
       "    <tr>\n",
       "      <th>50%</th>\n",
       "      <td>4000.000000</td>\n",
       "      <td>4000.000000</td>\n",
       "      <td>1999.000000</td>\n",
       "      <td>1.266500e+03</td>\n",
       "      <td>93.000000</td>\n",
       "      <td>6.900000</td>\n",
       "    </tr>\n",
       "    <tr>\n",
       "      <th>75%</th>\n",
       "      <td>6000.000000</td>\n",
       "      <td>6000.000000</td>\n",
       "      <td>2003.000000</td>\n",
       "      <td>6.138500e+03</td>\n",
       "      <td>109.000000</td>\n",
       "      <td>7.600000</td>\n",
       "    </tr>\n",
       "    <tr>\n",
       "      <th>max</th>\n",
       "      <td>8000.000000</td>\n",
       "      <td>8000.000000</td>\n",
       "      <td>2023.000000</td>\n",
       "      <td>2.462087e+06</td>\n",
       "      <td>1620.000000</td>\n",
       "      <td>9.600000</td>\n",
       "    </tr>\n",
       "  </tbody>\n",
       "</table>\n",
       "</div>"
      ],
      "text/plain": [
       "        Unnamed: 0       userID         year          vote      runtime  \\\n",
       "count  8001.000000  8001.000000  7946.000000  7.228000e+03  7073.000000   \n",
       "mean   4000.000000  4000.000000  1995.146111  1.902652e+04    97.644140   \n",
       "std    2309.834085  2309.834085    15.829040  9.951044e+04    64.906578   \n",
       "min       0.000000     0.000000  1905.000000  5.000000e+00     1.000000   \n",
       "25%    2000.000000  2000.000000  1990.000000  2.427500e+02    75.000000   \n",
       "50%    4000.000000  4000.000000  1999.000000  1.266500e+03    93.000000   \n",
       "75%    6000.000000  6000.000000  2003.000000  6.138500e+03   109.000000   \n",
       "max    8000.000000  8000.000000  2023.000000  2.462087e+06  1620.000000   \n",
       "\n",
       "            rating  \n",
       "count  7228.000000  \n",
       "mean      6.716146  \n",
       "std       1.291765  \n",
       "min       1.200000  \n",
       "25%       6.100000  \n",
       "50%       6.900000  \n",
       "75%       7.600000  \n",
       "max       9.600000  "
      ]
     },
     "execution_count": 4,
     "metadata": {},
     "output_type": "execute_result"
    }
   ],
   "source": [
    "train.describe()"
   ]
  },
  {
   "cell_type": "code",
   "execution_count": 5,
   "id": "5373f550",
   "metadata": {
    "execution": {
     "iopub.execute_input": "2022-04-20T12:30:18.440344Z",
     "iopub.status.busy": "2022-04-20T12:30:18.440025Z",
     "iopub.status.idle": "2022-04-20T12:30:18.461290Z",
     "shell.execute_reply": "2022-04-20T12:30:18.460290Z"
    },
    "papermill": {
     "duration": 0.065681,
     "end_time": "2022-04-20T12:30:18.463130",
     "exception": false,
     "start_time": "2022-04-20T12:30:18.397449",
     "status": "completed"
    },
    "tags": []
   },
   "outputs": [
    {
     "data": {
      "text/html": [
       "<div>\n",
       "<style scoped>\n",
       "    .dataframe tbody tr th:only-of-type {\n",
       "        vertical-align: middle;\n",
       "    }\n",
       "\n",
       "    .dataframe tbody tr th {\n",
       "        vertical-align: top;\n",
       "    }\n",
       "\n",
       "    .dataframe thead th {\n",
       "        text-align: right;\n",
       "    }\n",
       "</style>\n",
       "<table border=\"1\" class=\"dataframe\">\n",
       "  <thead>\n",
       "    <tr style=\"text-align: right;\">\n",
       "      <th></th>\n",
       "      <th>Unnamed: 0</th>\n",
       "      <th>userID</th>\n",
       "      <th>title</th>\n",
       "      <th>year</th>\n",
       "      <th>kind</th>\n",
       "      <th>genre</th>\n",
       "      <th>vote</th>\n",
       "      <th>country</th>\n",
       "      <th>language</th>\n",
       "      <th>cast</th>\n",
       "      <th>director</th>\n",
       "      <th>composer</th>\n",
       "      <th>writer</th>\n",
       "      <th>runtime</th>\n",
       "      <th>rating</th>\n",
       "    </tr>\n",
       "  </thead>\n",
       "  <tbody>\n",
       "    <tr>\n",
       "      <th>0</th>\n",
       "      <td>0</td>\n",
       "      <td>0</td>\n",
       "      <td>Dinosaur Planet</td>\n",
       "      <td>2003.0</td>\n",
       "      <td>tv mini series</td>\n",
       "      <td>['Documentary', 'Animation', 'Family']</td>\n",
       "      <td>474.0</td>\n",
       "      <td>['United States']</td>\n",
       "      <td>['English']</td>\n",
       "      <td>['Christian Slater', 'Scott Sampson']</td>\n",
       "      <td>NaN</td>\n",
       "      <td>NaN</td>\n",
       "      <td>['Mike Carrol', 'Mike Carroll', 'Georgann Kane']</td>\n",
       "      <td>50.0</td>\n",
       "      <td>7.7</td>\n",
       "    </tr>\n",
       "    <tr>\n",
       "      <th>1</th>\n",
       "      <td>1</td>\n",
       "      <td>1</td>\n",
       "      <td>Character</td>\n",
       "      <td>2021.0</td>\n",
       "      <td>movie</td>\n",
       "      <td>['Crime', 'Horror', 'Thriller']</td>\n",
       "      <td>46.0</td>\n",
       "      <td>['Japan']</td>\n",
       "      <td>['Japanese']</td>\n",
       "      <td>['Masaki Suda', 'Fukase', 'Mitsuki Takahata', ...</td>\n",
       "      <td>['Akira Nagai']</td>\n",
       "      <td>['Youki Kojima']</td>\n",
       "      <td>['Takashi Nagasaki', 'Takashi Nagasaki', 'Anna...</td>\n",
       "      <td>125.0</td>\n",
       "      <td>8.3</td>\n",
       "    </tr>\n",
       "    <tr>\n",
       "      <th>2</th>\n",
       "      <td>2</td>\n",
       "      <td>2</td>\n",
       "      <td>Get Up and Dance!</td>\n",
       "      <td>1994.0</td>\n",
       "      <td>video movie</td>\n",
       "      <td>['Family']</td>\n",
       "      <td>18.0</td>\n",
       "      <td>['United States']</td>\n",
       "      <td>['English']</td>\n",
       "      <td>['Paula Abdul', 'Aurorah Allain', 'Bill Bohl',...</td>\n",
       "      <td>['Steve Purcell']</td>\n",
       "      <td>NaN</td>\n",
       "      <td>NaN</td>\n",
       "      <td>54.0</td>\n",
       "      <td>8.1</td>\n",
       "    </tr>\n",
       "    <tr>\n",
       "      <th>3</th>\n",
       "      <td>3</td>\n",
       "      <td>3</td>\n",
       "      <td>The Rise and Fall of El Chapo</td>\n",
       "      <td>2016.0</td>\n",
       "      <td>tv movie</td>\n",
       "      <td>['Documentary']</td>\n",
       "      <td>42.0</td>\n",
       "      <td>['United States']</td>\n",
       "      <td>NaN</td>\n",
       "      <td>NaN</td>\n",
       "      <td>NaN</td>\n",
       "      <td>NaN</td>\n",
       "      <td>NaN</td>\n",
       "      <td>85.0</td>\n",
       "      <td>6.9</td>\n",
       "    </tr>\n",
       "    <tr>\n",
       "      <th>4</th>\n",
       "      <td>4</td>\n",
       "      <td>4</td>\n",
       "      <td>Sick - IMDb</td>\n",
       "      <td>NaN</td>\n",
       "      <td>NaN</td>\n",
       "      <td>['Thriller']</td>\n",
       "      <td>NaN</td>\n",
       "      <td>['United States']</td>\n",
       "      <td>NaN</td>\n",
       "      <td>['Marc Menchaca', 'Gideon Adlon', 'Dylan Spray...</td>\n",
       "      <td>['John Hyams']</td>\n",
       "      <td>NaN</td>\n",
       "      <td>['Katelyn Crabb', 'Kevin Williamson']</td>\n",
       "      <td>NaN</td>\n",
       "      <td>NaN</td>\n",
       "    </tr>\n",
       "  </tbody>\n",
       "</table>\n",
       "</div>"
      ],
      "text/plain": [
       "   Unnamed: 0  userID                          title    year            kind  \\\n",
       "0           0       0                Dinosaur Planet  2003.0  tv mini series   \n",
       "1           1       1                      Character  2021.0           movie   \n",
       "2           2       2              Get Up and Dance!  1994.0     video movie   \n",
       "3           3       3  The Rise and Fall of El Chapo  2016.0        tv movie   \n",
       "4           4       4                    Sick - IMDb     NaN             NaN   \n",
       "\n",
       "                                    genre   vote            country  \\\n",
       "0  ['Documentary', 'Animation', 'Family']  474.0  ['United States']   \n",
       "1         ['Crime', 'Horror', 'Thriller']   46.0          ['Japan']   \n",
       "2                              ['Family']   18.0  ['United States']   \n",
       "3                         ['Documentary']   42.0  ['United States']   \n",
       "4                            ['Thriller']    NaN  ['United States']   \n",
       "\n",
       "       language                                               cast  \\\n",
       "0   ['English']              ['Christian Slater', 'Scott Sampson']   \n",
       "1  ['Japanese']  ['Masaki Suda', 'Fukase', 'Mitsuki Takahata', ...   \n",
       "2   ['English']  ['Paula Abdul', 'Aurorah Allain', 'Bill Bohl',...   \n",
       "3           NaN                                                NaN   \n",
       "4           NaN  ['Marc Menchaca', 'Gideon Adlon', 'Dylan Spray...   \n",
       "\n",
       "            director          composer  \\\n",
       "0                NaN               NaN   \n",
       "1    ['Akira Nagai']  ['Youki Kojima']   \n",
       "2  ['Steve Purcell']               NaN   \n",
       "3                NaN               NaN   \n",
       "4     ['John Hyams']               NaN   \n",
       "\n",
       "                                              writer  runtime  rating  \n",
       "0   ['Mike Carrol', 'Mike Carroll', 'Georgann Kane']     50.0     7.7  \n",
       "1  ['Takashi Nagasaki', 'Takashi Nagasaki', 'Anna...    125.0     8.3  \n",
       "2                                                NaN     54.0     8.1  \n",
       "3                                                NaN     85.0     6.9  \n",
       "4              ['Katelyn Crabb', 'Kevin Williamson']      NaN     NaN  "
      ]
     },
     "execution_count": 5,
     "metadata": {},
     "output_type": "execute_result"
    }
   ],
   "source": [
    "train.head()"
   ]
  },
  {
   "cell_type": "code",
   "execution_count": 6,
   "id": "1d7f7f93",
   "metadata": {
    "execution": {
     "iopub.execute_input": "2022-04-20T12:30:18.548906Z",
     "iopub.status.busy": "2022-04-20T12:30:18.548339Z",
     "iopub.status.idle": "2022-04-20T12:30:18.558600Z",
     "shell.execute_reply": "2022-04-20T12:30:18.557965Z"
    },
    "papermill": {
     "duration": 0.055452,
     "end_time": "2022-04-20T12:30:18.560578",
     "exception": false,
     "start_time": "2022-04-20T12:30:18.505126",
     "status": "completed"
    },
    "tags": []
   },
   "outputs": [
    {
     "data": {
      "text/plain": [
       "['Kevin Dunn']                                    33\n",
       "['Akira Kurosawa']                                16\n",
       "['Tom Clegg']                                     14\n",
       "['Werner Herzog']                                 14\n",
       "['Takashi Miike']                                 14\n",
       "                                                  ..\n",
       "['Clive Donner']                                   1\n",
       "['Margaret Selby', 'Tex Avery', 'Chuck Jones']     1\n",
       "['Elio Petri']                                     1\n",
       "['Gary Dauberman']                                 1\n",
       "['Arthur Wong', 'Brandy Yuen']                     1\n",
       "Name: director, Length: 4241, dtype: int64"
      ]
     },
     "execution_count": 6,
     "metadata": {},
     "output_type": "execute_result"
    }
   ],
   "source": [
    "train['director'].value_counts()"
   ]
  },
  {
   "cell_type": "markdown",
   "id": "606e95d6",
   "metadata": {
    "papermill": {
     "duration": 0.041918,
     "end_time": "2022-04-20T12:30:18.645232",
     "exception": false,
     "start_time": "2022-04-20T12:30:18.603314",
     "status": "completed"
    },
    "tags": []
   },
   "source": [
    "## Check Missing Values"
   ]
  },
  {
   "cell_type": "code",
   "execution_count": 7,
   "id": "7f10f11f",
   "metadata": {
    "execution": {
     "iopub.execute_input": "2022-04-20T12:30:18.737333Z",
     "iopub.status.busy": "2022-04-20T12:30:18.736818Z",
     "iopub.status.idle": "2022-04-20T12:30:18.751893Z",
     "shell.execute_reply": "2022-04-20T12:30:18.751338Z"
    },
    "papermill": {
     "duration": 0.06025,
     "end_time": "2022-04-20T12:30:18.753654",
     "exception": false,
     "start_time": "2022-04-20T12:30:18.693404",
     "status": "completed"
    },
    "tags": []
   },
   "outputs": [
    {
     "data": {
      "text/plain": [
       "Unnamed: 0       0\n",
       "userID           0\n",
       "title            1\n",
       "year            55\n",
       "kind            30\n",
       "genre           85\n",
       "vote           773\n",
       "country        586\n",
       "language       696\n",
       "cast           307\n",
       "director      1633\n",
       "composer      3149\n",
       "writer        1469\n",
       "runtime        928\n",
       "rating         773\n",
       "dtype: int64"
      ]
     },
     "execution_count": 7,
     "metadata": {},
     "output_type": "execute_result"
    }
   ],
   "source": [
    "train.isnull().sum()"
   ]
  },
  {
   "cell_type": "code",
   "execution_count": 8,
   "id": "4bb14d8d",
   "metadata": {
    "execution": {
     "iopub.execute_input": "2022-04-20T12:30:18.840837Z",
     "iopub.status.busy": "2022-04-20T12:30:18.840332Z",
     "iopub.status.idle": "2022-04-20T12:30:18.849655Z",
     "shell.execute_reply": "2022-04-20T12:30:18.848903Z"
    },
    "papermill": {
     "duration": 0.055063,
     "end_time": "2022-04-20T12:30:18.851592",
     "exception": false,
     "start_time": "2022-04-20T12:30:18.796529",
     "status": "completed"
    },
    "tags": []
   },
   "outputs": [
    {
     "data": {
      "text/plain": [
       "Unnamed: 0      0\n",
       "userID          0\n",
       "title           0\n",
       "year           15\n",
       "kind            8\n",
       "genre           8\n",
       "vote          104\n",
       "country        79\n",
       "language       97\n",
       "cast           37\n",
       "director      227\n",
       "composer      473\n",
       "writer        187\n",
       "runtime       128\n",
       "dtype: int64"
      ]
     },
     "execution_count": 8,
     "metadata": {},
     "output_type": "execute_result"
    }
   ],
   "source": [
    "test.isnull().sum()"
   ]
  },
  {
   "cell_type": "markdown",
   "id": "f62f8789",
   "metadata": {
    "papermill": {
     "duration": 0.042807,
     "end_time": "2022-04-20T12:30:18.937457",
     "exception": false,
     "start_time": "2022-04-20T12:30:18.894650",
     "status": "completed"
    },
    "tags": []
   },
   "source": [
    "# Data Clean"
   ]
  },
  {
   "cell_type": "code",
   "execution_count": 9,
   "id": "888e54cf",
   "metadata": {
    "execution": {
     "iopub.execute_input": "2022-04-20T12:30:19.025290Z",
     "iopub.status.busy": "2022-04-20T12:30:19.024751Z",
     "iopub.status.idle": "2022-04-20T12:30:19.032228Z",
     "shell.execute_reply": "2022-04-20T12:30:19.031435Z"
    },
    "papermill": {
     "duration": 0.053558,
     "end_time": "2022-04-20T12:30:19.034157",
     "exception": false,
     "start_time": "2022-04-20T12:30:18.980599",
     "status": "completed"
    },
    "tags": []
   },
   "outputs": [
    {
     "data": {
      "text/plain": [
       "True    8001\n",
       "dtype: int64"
      ]
     },
     "execution_count": 9,
     "metadata": {},
     "output_type": "execute_result"
    }
   ],
   "source": [
    "verif = train['Unnamed: 0'] == train['userID']\n",
    "verif.value_counts()"
   ]
  },
  {
   "cell_type": "markdown",
   "id": "dc2cffd3",
   "metadata": {
    "papermill": {
     "duration": 0.044034,
     "end_time": "2022-04-20T12:30:19.122094",
     "exception": false,
     "start_time": "2022-04-20T12:30:19.078060",
     "status": "completed"
    },
    "tags": []
   },
   "source": [
    "So, we are going to delete this feature"
   ]
  },
  {
   "cell_type": "code",
   "execution_count": 10,
   "id": "85df9133",
   "metadata": {
    "execution": {
     "iopub.execute_input": "2022-04-20T12:30:19.211457Z",
     "iopub.status.busy": "2022-04-20T12:30:19.210912Z",
     "iopub.status.idle": "2022-04-20T12:30:19.215447Z",
     "shell.execute_reply": "2022-04-20T12:30:19.214752Z"
    },
    "papermill": {
     "duration": 0.051651,
     "end_time": "2022-04-20T12:30:19.217631",
     "exception": false,
     "start_time": "2022-04-20T12:30:19.165980",
     "status": "completed"
    },
    "tags": []
   },
   "outputs": [],
   "source": [
    "del train['Unnamed: 0']\n",
    "del test['Unnamed: 0']"
   ]
  },
  {
   "cell_type": "markdown",
   "id": "5f1e6642",
   "metadata": {
    "papermill": {
     "duration": 0.045159,
     "end_time": "2022-04-20T12:30:19.306767",
     "exception": false,
     "start_time": "2022-04-20T12:30:19.261608",
     "status": "completed"
    },
    "tags": []
   },
   "source": [
    "### Object cols"
   ]
  },
  {
   "cell_type": "code",
   "execution_count": 11,
   "id": "9f42e6e6",
   "metadata": {
    "_kg_hide-output": true,
    "execution": {
     "iopub.execute_input": "2022-04-20T12:30:19.399702Z",
     "iopub.status.busy": "2022-04-20T12:30:19.399167Z",
     "iopub.status.idle": "2022-04-20T12:30:19.405469Z",
     "shell.execute_reply": "2022-04-20T12:30:19.404885Z"
    },
    "papermill": {
     "duration": 0.054968,
     "end_time": "2022-04-20T12:30:19.407227",
     "exception": false,
     "start_time": "2022-04-20T12:30:19.352259",
     "status": "completed"
    },
    "tags": []
   },
   "outputs": [
    {
     "data": {
      "text/plain": [
       "['title',\n",
       " 'kind',\n",
       " 'genre',\n",
       " 'country',\n",
       " 'language',\n",
       " 'cast',\n",
       " 'director',\n",
       " 'composer',\n",
       " 'writer']"
      ]
     },
     "execution_count": 11,
     "metadata": {},
     "output_type": "execute_result"
    }
   ],
   "source": [
    "obj_cols = []\n",
    "\n",
    "for i in train.columns:\n",
    "    if train[i].dtypes == 'object':\n",
    "        obj_cols.append(i)\n",
    "        \n",
    "        \n",
    "obj_cols"
   ]
  },
  {
   "cell_type": "markdown",
   "id": "0e63ddda",
   "metadata": {
    "papermill": {
     "duration": 0.044229,
     "end_time": "2022-04-20T12:30:19.495706",
     "exception": false,
     "start_time": "2022-04-20T12:30:19.451477",
     "status": "completed"
    },
    "tags": []
   },
   "source": [
    "### Encode Label"
   ]
  },
  {
   "cell_type": "code",
   "execution_count": 12,
   "id": "df1efd06",
   "metadata": {
    "execution": {
     "iopub.execute_input": "2022-04-20T12:30:19.585596Z",
     "iopub.status.busy": "2022-04-20T12:30:19.585072Z",
     "iopub.status.idle": "2022-04-20T12:30:20.654989Z",
     "shell.execute_reply": "2022-04-20T12:30:20.653946Z"
    },
    "papermill": {
     "duration": 1.117826,
     "end_time": "2022-04-20T12:30:20.657521",
     "exception": false,
     "start_time": "2022-04-20T12:30:19.539695",
     "status": "completed"
    },
    "tags": []
   },
   "outputs": [],
   "source": [
    "from sklearn import preprocessing\n",
    "le = preprocessing.LabelEncoder()"
   ]
  },
  {
   "cell_type": "code",
   "execution_count": 13,
   "id": "c841bc1a",
   "metadata": {
    "execution": {
     "iopub.execute_input": "2022-04-20T12:30:20.747481Z",
     "iopub.status.busy": "2022-04-20T12:30:20.747159Z",
     "iopub.status.idle": "2022-04-20T12:30:20.886298Z",
     "shell.execute_reply": "2022-04-20T12:30:20.885301Z"
    },
    "papermill": {
     "duration": 0.186454,
     "end_time": "2022-04-20T12:30:20.888412",
     "exception": false,
     "start_time": "2022-04-20T12:30:20.701958",
     "status": "completed"
    },
    "tags": []
   },
   "outputs": [
    {
     "name": "stdout",
     "output_type": "stream",
     "text": [
      "<class 'pandas.core.frame.DataFrame'>\n",
      "RangeIndex: 8001 entries, 0 to 8000\n",
      "Data columns (total 14 columns):\n",
      " #   Column    Non-Null Count  Dtype  \n",
      "---  ------    --------------  -----  \n",
      " 0   userID    8001 non-null   int64  \n",
      " 1   title     8001 non-null   int64  \n",
      " 2   year      7946 non-null   float64\n",
      " 3   kind      8001 non-null   int64  \n",
      " 4   genre     8001 non-null   int64  \n",
      " 5   vote      7228 non-null   float64\n",
      " 6   country   8001 non-null   int64  \n",
      " 7   language  8001 non-null   int64  \n",
      " 8   cast      8001 non-null   int64  \n",
      " 9   director  8001 non-null   int64  \n",
      " 10  composer  8001 non-null   int64  \n",
      " 11  writer    8001 non-null   int64  \n",
      " 12  runtime   7073 non-null   float64\n",
      " 13  rating    7228 non-null   float64\n",
      "dtypes: float64(4), int64(10)\n",
      "memory usage: 875.2 KB\n"
     ]
    }
   ],
   "source": [
    "for col in obj_cols:\n",
    "    train[col] = le.fit_transform(train[col])\n",
    "    test[col] = le.fit_transform(test[col])\n",
    "    \n",
    "train.info()"
   ]
  },
  {
   "cell_type": "markdown",
   "id": "208b4cc5",
   "metadata": {
    "papermill": {
     "duration": 0.044349,
     "end_time": "2022-04-20T12:30:20.977150",
     "exception": false,
     "start_time": "2022-04-20T12:30:20.932801",
     "status": "completed"
    },
    "tags": []
   },
   "source": [
    "### Imputer Data"
   ]
  },
  {
   "cell_type": "code",
   "execution_count": 14,
   "id": "9a2f885d",
   "metadata": {
    "execution": {
     "iopub.execute_input": "2022-04-20T12:30:21.067869Z",
     "iopub.status.busy": "2022-04-20T12:30:21.067575Z",
     "iopub.status.idle": "2022-04-20T12:30:21.263000Z",
     "shell.execute_reply": "2022-04-20T12:30:21.262099Z"
    },
    "papermill": {
     "duration": 0.243568,
     "end_time": "2022-04-20T12:30:21.265289",
     "exception": false,
     "start_time": "2022-04-20T12:30:21.021721",
     "status": "completed"
    },
    "tags": []
   },
   "outputs": [],
   "source": [
    "from sklearn.impute import KNNImputer\n",
    "\n",
    "knni = KNNImputer(n_neighbors=5)"
   ]
  },
  {
   "cell_type": "code",
   "execution_count": 15,
   "id": "a93d2ec0",
   "metadata": {
    "execution": {
     "iopub.execute_input": "2022-04-20T12:30:21.357203Z",
     "iopub.status.busy": "2022-04-20T12:30:21.356848Z",
     "iopub.status.idle": "2022-04-20T12:30:21.372918Z",
     "shell.execute_reply": "2022-04-20T12:30:21.371946Z"
    },
    "papermill": {
     "duration": 0.064069,
     "end_time": "2022-04-20T12:30:21.374969",
     "exception": false,
     "start_time": "2022-04-20T12:30:21.310900",
     "status": "completed"
    },
    "tags": []
   },
   "outputs": [
    {
     "data": {
      "text/plain": [
       "(4, 3)"
      ]
     },
     "execution_count": 15,
     "metadata": {},
     "output_type": "execute_result"
    }
   ],
   "source": [
    "null_train_cols = []\n",
    "for col in train.columns:\n",
    "    if train[col].isnull().sum().any():\n",
    "        null_train_cols.append(col)\n",
    "        \n",
    "null_test_cols = []\n",
    "for col in test.columns:\n",
    "    if test[col].isnull().sum().any():\n",
    "        null_test_cols.append(col)\n",
    "        \n",
    "len(null_train_cols), len(null_test_cols)"
   ]
  },
  {
   "cell_type": "code",
   "execution_count": 16,
   "id": "e52cf80c",
   "metadata": {
    "execution": {
     "iopub.execute_input": "2022-04-20T12:30:21.466005Z",
     "iopub.status.busy": "2022-04-20T12:30:21.465705Z",
     "iopub.status.idle": "2022-04-20T12:30:21.470112Z",
     "shell.execute_reply": "2022-04-20T12:30:21.469574Z"
    },
    "papermill": {
     "duration": 0.052319,
     "end_time": "2022-04-20T12:30:21.471897",
     "exception": false,
     "start_time": "2022-04-20T12:30:21.419578",
     "status": "completed"
    },
    "tags": []
   },
   "outputs": [
    {
     "data": {
      "text/plain": [
       "['year', 'vote', 'runtime', 'rating']"
      ]
     },
     "execution_count": 16,
     "metadata": {},
     "output_type": "execute_result"
    }
   ],
   "source": [
    "null_train_cols"
   ]
  },
  {
   "cell_type": "markdown",
   "id": "1f12d1de",
   "metadata": {
    "papermill": {
     "duration": 0.044771,
     "end_time": "2022-04-20T12:30:21.561643",
     "exception": false,
     "start_time": "2022-04-20T12:30:21.516872",
     "status": "completed"
    },
    "tags": []
   },
   "source": [
    "- Impute Train Data"
   ]
  },
  {
   "cell_type": "code",
   "execution_count": 17,
   "id": "951e5860",
   "metadata": {
    "execution": {
     "iopub.execute_input": "2022-04-20T12:30:21.652752Z",
     "iopub.status.busy": "2022-04-20T12:30:21.652267Z",
     "iopub.status.idle": "2022-04-20T12:30:22.682050Z",
     "shell.execute_reply": "2022-04-20T12:30:22.681303Z"
    },
    "papermill": {
     "duration": 1.07767,
     "end_time": "2022-04-20T12:30:22.684003",
     "exception": false,
     "start_time": "2022-04-20T12:30:21.606333",
     "status": "completed"
    },
    "tags": []
   },
   "outputs": [
    {
     "data": {
      "text/plain": [
       "userID      0\n",
       "title       0\n",
       "year        0\n",
       "kind        0\n",
       "genre       0\n",
       "vote        0\n",
       "country     0\n",
       "language    0\n",
       "cast        0\n",
       "director    0\n",
       "composer    0\n",
       "writer      0\n",
       "runtime     0\n",
       "rating      0\n",
       "dtype: int64"
      ]
     },
     "execution_count": 17,
     "metadata": {},
     "output_type": "execute_result"
    }
   ],
   "source": [
    "imput_train = pd.DataFrame(knni.fit_transform(train[null_train_cols]))\n",
    "\n",
    "iterate = 0\n",
    "for col in null_train_cols:\n",
    "    train[col] = imput_train[iterate]\n",
    "    iterate +=1\n",
    "    \n",
    "del imput_train\n",
    "train.isnull().sum()"
   ]
  },
  {
   "cell_type": "markdown",
   "id": "ee967870",
   "metadata": {
    "papermill": {
     "duration": 0.048018,
     "end_time": "2022-04-20T12:30:22.778019",
     "exception": false,
     "start_time": "2022-04-20T12:30:22.730001",
     "status": "completed"
    },
    "tags": []
   },
   "source": [
    "- Impute Test Data"
   ]
  },
  {
   "cell_type": "code",
   "execution_count": 18,
   "id": "50bbab05",
   "metadata": {
    "execution": {
     "iopub.execute_input": "2022-04-20T12:30:22.871085Z",
     "iopub.status.busy": "2022-04-20T12:30:22.870746Z",
     "iopub.status.idle": "2022-04-20T12:30:22.919870Z",
     "shell.execute_reply": "2022-04-20T12:30:22.918895Z"
    },
    "papermill": {
     "duration": 0.098759,
     "end_time": "2022-04-20T12:30:22.922527",
     "exception": false,
     "start_time": "2022-04-20T12:30:22.823768",
     "status": "completed"
    },
    "tags": []
   },
   "outputs": [
    {
     "data": {
      "text/plain": [
       "userID      0\n",
       "title       0\n",
       "year        0\n",
       "kind        0\n",
       "genre       0\n",
       "vote        0\n",
       "country     0\n",
       "language    0\n",
       "cast        0\n",
       "director    0\n",
       "composer    0\n",
       "writer      0\n",
       "runtime     0\n",
       "dtype: int64"
      ]
     },
     "execution_count": 18,
     "metadata": {},
     "output_type": "execute_result"
    }
   ],
   "source": [
    "imput_test = pd.DataFrame(knni.fit_transform(test[null_test_cols]))\n",
    "\n",
    "iterate = 0\n",
    "for col in null_test_cols:\n",
    "    test[col] = imput_test[iterate]\n",
    "    iterate +=1\n",
    "    \n",
    "test.isnull().sum()"
   ]
  },
  {
   "cell_type": "markdown",
   "id": "0fde344e",
   "metadata": {
    "papermill": {
     "duration": 0.045787,
     "end_time": "2022-04-20T12:30:23.053837",
     "exception": false,
     "start_time": "2022-04-20T12:30:23.008050",
     "status": "completed"
    },
    "tags": []
   },
   "source": [
    "# Modeling"
   ]
  },
  {
   "cell_type": "markdown",
   "id": "dfcf6047",
   "metadata": {
    "papermill": {
     "duration": 0.045894,
     "end_time": "2022-04-20T12:30:23.146489",
     "exception": false,
     "start_time": "2022-04-20T12:30:23.100595",
     "status": "completed"
    },
    "tags": []
   },
   "source": [
    "### Split Data"
   ]
  },
  {
   "cell_type": "code",
   "execution_count": 19,
   "id": "9d31ef29",
   "metadata": {
    "execution": {
     "iopub.execute_input": "2022-04-20T12:30:23.242344Z",
     "iopub.status.busy": "2022-04-20T12:30:23.242016Z",
     "iopub.status.idle": "2022-04-20T12:30:23.250680Z",
     "shell.execute_reply": "2022-04-20T12:30:23.249905Z"
    },
    "papermill": {
     "duration": 0.059483,
     "end_time": "2022-04-20T12:30:23.252721",
     "exception": false,
     "start_time": "2022-04-20T12:30:23.193238",
     "status": "completed"
    },
    "tags": []
   },
   "outputs": [
    {
     "data": {
      "text/plain": [
       "(8001, 12)"
      ]
     },
     "execution_count": 19,
     "metadata": {},
     "output_type": "execute_result"
    }
   ],
   "source": [
    "del train['userID']\n",
    "del test['userID']\n",
    "\n",
    "X = train.copy()\n",
    "y = X.pop('rating')\n",
    "\n",
    "X.shape"
   ]
  },
  {
   "cell_type": "markdown",
   "id": "e7eda97e",
   "metadata": {
    "papermill": {
     "duration": 0.046043,
     "end_time": "2022-04-20T12:30:23.346024",
     "exception": false,
     "start_time": "2022-04-20T12:30:23.299981",
     "status": "completed"
    },
    "tags": []
   },
   "source": [
    "### Try FLAML"
   ]
  },
  {
   "cell_type": "code",
   "execution_count": 20,
   "id": "d27e98a9",
   "metadata": {
    "_kg_hide-output": true,
    "execution": {
     "iopub.execute_input": "2022-04-20T12:30:23.440940Z",
     "iopub.status.busy": "2022-04-20T12:30:23.440613Z",
     "iopub.status.idle": "2022-04-20T12:30:45.852500Z",
     "shell.execute_reply": "2022-04-20T12:30:45.851576Z"
    },
    "papermill": {
     "duration": 22.462103,
     "end_time": "2022-04-20T12:30:45.854849",
     "exception": false,
     "start_time": "2022-04-20T12:30:23.392746",
     "status": "completed"
    },
    "tags": []
   },
   "outputs": [
    {
     "name": "stdout",
     "output_type": "stream",
     "text": [
      "Collecting flaml\r\n",
      "  Downloading FLAML-1.0.0-py3-none-any.whl (157 kB)\r\n",
      "\u001b[2K     \u001b[90m━━━━━━━━━━━━━━━━━━━━━━━━━━━━━━━━━━━━━━━\u001b[0m \u001b[32m157.2/157.2 KB\u001b[0m \u001b[31m4.1 MB/s\u001b[0m eta \u001b[36m0:00:00\u001b[0m\r\n",
      "\u001b[?25hRequirement already satisfied: lightgbm>=2.3.1 in /opt/conda/lib/python3.7/site-packages (from flaml) (3.3.1)\r\n",
      "Requirement already satisfied: scikit-learn>=0.24 in /opt/conda/lib/python3.7/site-packages (from flaml) (1.0.2)\r\n",
      "Requirement already satisfied: pandas>=1.1.4 in /opt/conda/lib/python3.7/site-packages (from flaml) (1.3.5)\r\n",
      "Requirement already satisfied: scipy>=1.4.1 in /opt/conda/lib/python3.7/site-packages (from flaml) (1.7.3)\r\n",
      "Collecting xgboost<=1.3.3,>=0.90\r\n",
      "  Downloading xgboost-1.3.3-py3-none-manylinux2010_x86_64.whl (157.5 MB)\r\n",
      "\u001b[2K     \u001b[90m━━━━━━━━━━━━━━━━━━━━━━━━━━━━━━━━━━━━━━━\u001b[0m \u001b[32m157.5/157.5 MB\u001b[0m \u001b[31m7.3 MB/s\u001b[0m eta \u001b[36m0:00:00\u001b[0m\r\n",
      "\u001b[?25hRequirement already satisfied: NumPy>=1.16.2 in /opt/conda/lib/python3.7/site-packages (from flaml) (1.21.5)\r\n",
      "Requirement already satisfied: wheel in /opt/conda/lib/python3.7/site-packages (from lightgbm>=2.3.1->flaml) (0.37.1)\r\n",
      "Requirement already satisfied: python-dateutil>=2.7.3 in /opt/conda/lib/python3.7/site-packages (from pandas>=1.1.4->flaml) (2.8.2)\r\n",
      "Requirement already satisfied: pytz>=2017.3 in /opt/conda/lib/python3.7/site-packages (from pandas>=1.1.4->flaml) (2021.3)\r\n",
      "Requirement already satisfied: threadpoolctl>=2.0.0 in /opt/conda/lib/python3.7/site-packages (from scikit-learn>=0.24->flaml) (3.1.0)\r\n",
      "Requirement already satisfied: joblib>=0.11 in /opt/conda/lib/python3.7/site-packages (from scikit-learn>=0.24->flaml) (1.0.1)\r\n",
      "Requirement already satisfied: six>=1.5 in /opt/conda/lib/python3.7/site-packages (from python-dateutil>=2.7.3->pandas>=1.1.4->flaml) (1.16.0)\r\n",
      "Installing collected packages: xgboost, flaml\r\n",
      "  Attempting uninstall: xgboost\r\n",
      "    Found existing installation: xgboost 1.5.2\r\n",
      "    Uninstalling xgboost-1.5.2:\r\n",
      "      Successfully uninstalled xgboost-1.5.2\r\n",
      "Successfully installed flaml-1.0.0 xgboost-1.3.3\r\n",
      "\u001b[33mWARNING: Running pip as the 'root' user can result in broken permissions and conflicting behaviour with the system package manager. It is recommended to use a virtual environment instead: https://pip.pypa.io/warnings/venv\u001b[0m\u001b[33m\r\n",
      "\u001b[0m"
     ]
    }
   ],
   "source": [
    "!pip install flaml"
   ]
  },
  {
   "cell_type": "code",
   "execution_count": 21,
   "id": "302c31c2",
   "metadata": {
    "execution": {
     "iopub.execute_input": "2022-04-20T12:30:45.997841Z",
     "iopub.status.busy": "2022-04-20T12:30:45.996472Z",
     "iopub.status.idle": "2022-04-20T12:30:48.438572Z",
     "shell.execute_reply": "2022-04-20T12:30:48.437552Z"
    },
    "papermill": {
     "duration": 2.516421,
     "end_time": "2022-04-20T12:30:48.441011",
     "exception": false,
     "start_time": "2022-04-20T12:30:45.924590",
     "status": "completed"
    },
    "tags": []
   },
   "outputs": [
    {
     "data": {
      "text/html": [
       "<style type='text/css'>\n",
       ".datatable table.frame { margin-bottom: 0; }\n",
       ".datatable table.frame thead { border-bottom: none; }\n",
       ".datatable table.frame tr.coltypes td {  color: #FFFFFF;  line-height: 6px;  padding: 0 0.5em;}\n",
       ".datatable .bool    { background: #DDDD99; }\n",
       ".datatable .object  { background: #565656; }\n",
       ".datatable .int     { background: #5D9E5D; }\n",
       ".datatable .float   { background: #4040CC; }\n",
       ".datatable .str     { background: #CC4040; }\n",
       ".datatable .time    { background: #40CC40; }\n",
       ".datatable .row_index {  background: var(--jp-border-color3);  border-right: 1px solid var(--jp-border-color0);  color: var(--jp-ui-font-color3);  font-size: 9px;}\n",
       ".datatable .frame tbody td { text-align: left; }\n",
       ".datatable .frame tr.coltypes .row_index {  background: var(--jp-border-color0);}\n",
       ".datatable th:nth-child(2) { padding-left: 12px; }\n",
       ".datatable .hellipsis {  color: var(--jp-cell-editor-border-color);}\n",
       ".datatable .vellipsis {  background: var(--jp-layout-color0);  color: var(--jp-cell-editor-border-color);}\n",
       ".datatable .na {  color: var(--jp-cell-editor-border-color);  font-size: 80%;}\n",
       ".datatable .sp {  opacity: 0.25;}\n",
       ".datatable .footer { font-size: 9px; }\n",
       ".datatable .frame_dimensions {  background: var(--jp-border-color3);  border-top: 1px solid var(--jp-border-color0);  color: var(--jp-ui-font-color3);  display: inline-block;  opacity: 0.6;  padding: 1px 10px 1px 5px;}\n",
       "</style>\n"
      ],
      "text/plain": [
       "<IPython.core.display.HTML object>"
      ]
     },
     "metadata": {},
     "output_type": "display_data"
    }
   ],
   "source": [
    "from flaml import AutoML\n",
    "automl = AutoML()\n",
    "\n",
    "from sklearn.model_selection import train_test_split\n",
    "X_train, X_test, y_train, y_test = train_test_split(X, y, test_size=0.20, random_state=42)"
   ]
  },
  {
   "cell_type": "markdown",
   "id": "663091dc",
   "metadata": {
    "papermill": {
     "duration": 0.070347,
     "end_time": "2022-04-20T12:30:48.580336",
     "exception": false,
     "start_time": "2022-04-20T12:30:48.509989",
     "status": "completed"
    },
    "tags": []
   },
   "source": [
    "### Train Model"
   ]
  },
  {
   "cell_type": "code",
   "execution_count": 22,
   "id": "5fb7867c",
   "metadata": {
    "_kg_hide-output": true,
    "collapsed": true,
    "execution": {
     "iopub.execute_input": "2022-04-20T12:30:48.719541Z",
     "iopub.status.busy": "2022-04-20T12:30:48.719259Z",
     "iopub.status.idle": "2022-04-20T13:01:07.176329Z",
     "shell.execute_reply": "2022-04-20T13:01:07.175002Z"
    },
    "jupyter": {
     "outputs_hidden": true
    },
    "papermill": {
     "duration": 1818.530329,
     "end_time": "2022-04-20T13:01:07.179340",
     "exception": false,
     "start_time": "2022-04-20T12:30:48.649011",
     "status": "completed"
    },
    "tags": []
   },
   "outputs": [
    {
     "name": "stderr",
     "output_type": "stream",
     "text": [
      "[flaml.automl: 04-20 12:30:48] {2105} INFO - task = regression\n",
      "[flaml.automl: 04-20 12:30:48] {2107} INFO - Data split method: uniform\n",
      "[flaml.automl: 04-20 12:30:48] {2111} INFO - Evaluation method: cv\n",
      "[flaml.automl: 04-20 12:30:48] {2188} INFO - Minimizing error metric: rmse\n",
      "[flaml.automl: 04-20 12:30:48] {2281} INFO - List of ML learners in AutoML Run: ['lgbm', 'rf', 'catboost', 'xgboost', 'extra_tree', 'xgb_limitdepth']\n",
      "[flaml.automl: 04-20 12:30:48] {2567} INFO - iteration 0, current learner lgbm\n",
      "[flaml.automl: 04-20 12:30:49] {2698} INFO - Estimated sufficient time budget=1969s. Estimated necessary time budget=17s.\n",
      "[flaml.automl: 04-20 12:30:49] {2750} INFO -  at 0.4s,\testimator lgbm's best error=1.1805,\tbest estimator lgbm's best error=1.1805\n",
      "[flaml.automl: 04-20 12:30:49] {2567} INFO - iteration 1, current learner lgbm\n",
      "[flaml.automl: 04-20 12:30:49] {2750} INFO -  at 0.5s,\testimator lgbm's best error=1.1805,\tbest estimator lgbm's best error=1.1805\n",
      "[flaml.automl: 04-20 12:30:49] {2567} INFO - iteration 2, current learner lgbm\n",
      "[flaml.automl: 04-20 12:30:49] {2750} INFO -  at 0.6s,\testimator lgbm's best error=1.1253,\tbest estimator lgbm's best error=1.1253\n",
      "[flaml.automl: 04-20 12:30:49] {2567} INFO - iteration 3, current learner lgbm\n",
      "[flaml.automl: 04-20 12:30:49] {2750} INFO -  at 0.7s,\testimator lgbm's best error=0.9674,\tbest estimator lgbm's best error=0.9674\n",
      "[flaml.automl: 04-20 12:30:49] {2567} INFO - iteration 4, current learner lgbm\n",
      "[flaml.automl: 04-20 12:30:49] {2750} INFO -  at 0.9s,\testimator lgbm's best error=0.9674,\tbest estimator lgbm's best error=0.9674\n",
      "[flaml.automl: 04-20 12:30:49] {2567} INFO - iteration 5, current learner lgbm\n",
      "[flaml.automl: 04-20 12:30:49] {2750} INFO -  at 1.0s,\testimator lgbm's best error=0.9492,\tbest estimator lgbm's best error=0.9492\n",
      "[flaml.automl: 04-20 12:30:49] {2567} INFO - iteration 6, current learner lgbm\n",
      "[flaml.automl: 04-20 12:30:50] {2750} INFO -  at 1.7s,\testimator lgbm's best error=0.9492,\tbest estimator lgbm's best error=0.9492\n",
      "[flaml.automl: 04-20 12:30:50] {2567} INFO - iteration 7, current learner xgboost\n",
      "[flaml.automl: 04-20 12:30:50] {2750} INFO -  at 1.9s,\testimator xgboost's best error=4.2596,\tbest estimator lgbm's best error=0.9492\n",
      "[flaml.automl: 04-20 12:30:50] {2567} INFO - iteration 8, current learner lgbm\n",
      "[flaml.automl: 04-20 12:30:50] {2750} INFO -  at 2.0s,\testimator lgbm's best error=0.9492,\tbest estimator lgbm's best error=0.9492\n",
      "[flaml.automl: 04-20 12:30:50] {2567} INFO - iteration 9, current learner xgboost\n",
      "[flaml.automl: 04-20 12:30:50] {2750} INFO -  at 2.1s,\testimator xgboost's best error=4.2596,\tbest estimator lgbm's best error=0.9492\n",
      "[flaml.automl: 04-20 12:30:50] {2567} INFO - iteration 10, current learner extra_tree\n",
      "[flaml.automl: 04-20 12:30:52] {2750} INFO -  at 3.5s,\testimator extra_tree's best error=1.1696,\tbest estimator lgbm's best error=0.9492\n",
      "[flaml.automl: 04-20 12:30:52] {2567} INFO - iteration 11, current learner rf\n",
      "[flaml.automl: 04-20 12:30:53] {2750} INFO -  at 4.7s,\testimator rf's best error=1.1231,\tbest estimator lgbm's best error=0.9492\n",
      "[flaml.automl: 04-20 12:30:53] {2567} INFO - iteration 12, current learner rf\n",
      "[flaml.automl: 04-20 12:30:54] {2750} INFO -  at 6.0s,\testimator rf's best error=1.0307,\tbest estimator lgbm's best error=0.9492\n",
      "[flaml.automl: 04-20 12:30:54] {2567} INFO - iteration 13, current learner xgboost\n",
      "[flaml.automl: 04-20 12:30:54] {2750} INFO -  at 6.1s,\testimator xgboost's best error=2.1912,\tbest estimator lgbm's best error=0.9492\n",
      "[flaml.automl: 04-20 12:30:54] {2567} INFO - iteration 14, current learner xgboost\n",
      "[flaml.automl: 04-20 12:30:54] {2750} INFO -  at 6.2s,\testimator xgboost's best error=1.0460,\tbest estimator lgbm's best error=0.9492\n",
      "[flaml.automl: 04-20 12:30:54] {2567} INFO - iteration 15, current learner xgboost\n",
      "[flaml.automl: 04-20 12:30:55] {2750} INFO -  at 6.4s,\testimator xgboost's best error=1.0460,\tbest estimator lgbm's best error=0.9492\n",
      "[flaml.automl: 04-20 12:30:55] {2567} INFO - iteration 16, current learner xgboost\n",
      "[flaml.automl: 04-20 12:30:55] {2750} INFO -  at 6.5s,\testimator xgboost's best error=1.0460,\tbest estimator lgbm's best error=0.9492\n",
      "[flaml.automl: 04-20 12:30:55] {2567} INFO - iteration 17, current learner extra_tree\n",
      "[flaml.automl: 04-20 12:30:56] {2750} INFO -  at 7.8s,\testimator extra_tree's best error=1.1033,\tbest estimator lgbm's best error=0.9492\n",
      "[flaml.automl: 04-20 12:30:56] {2567} INFO - iteration 18, current learner lgbm\n",
      "[flaml.automl: 04-20 12:30:56] {2750} INFO -  at 8.0s,\testimator lgbm's best error=0.9210,\tbest estimator lgbm's best error=0.9210\n",
      "[flaml.automl: 04-20 12:30:56] {2567} INFO - iteration 19, current learner xgboost\n",
      "[flaml.automl: 04-20 12:30:56] {2750} INFO -  at 8.2s,\testimator xgboost's best error=0.9808,\tbest estimator lgbm's best error=0.9210\n",
      "[flaml.automl: 04-20 12:30:56] {2567} INFO - iteration 20, current learner rf\n",
      "[flaml.automl: 04-20 12:30:58] {2750} INFO -  at 9.6s,\testimator rf's best error=1.0307,\tbest estimator lgbm's best error=0.9210\n",
      "[flaml.automl: 04-20 12:30:58] {2567} INFO - iteration 21, current learner xgboost\n",
      "[flaml.automl: 04-20 12:30:58] {2750} INFO -  at 9.9s,\testimator xgboost's best error=0.9502,\tbest estimator lgbm's best error=0.9210\n",
      "[flaml.automl: 04-20 12:30:58] {2567} INFO - iteration 22, current learner lgbm\n",
      "[flaml.automl: 04-20 12:30:58] {2750} INFO -  at 10.0s,\testimator lgbm's best error=0.9210,\tbest estimator lgbm's best error=0.9210\n",
      "[flaml.automl: 04-20 12:30:58] {2567} INFO - iteration 23, current learner lgbm\n",
      "[flaml.automl: 04-20 12:30:59] {2750} INFO -  at 10.5s,\testimator lgbm's best error=0.8480,\tbest estimator lgbm's best error=0.8480\n",
      "[flaml.automl: 04-20 12:30:59] {2567} INFO - iteration 24, current learner xgboost\n",
      "[flaml.automl: 04-20 12:30:59] {2750} INFO -  at 10.7s,\testimator xgboost's best error=0.9502,\tbest estimator lgbm's best error=0.8480\n",
      "[flaml.automl: 04-20 12:30:59] {2567} INFO - iteration 25, current learner extra_tree\n",
      "[flaml.automl: 04-20 12:31:00] {2750} INFO -  at 12.0s,\testimator extra_tree's best error=1.1033,\tbest estimator lgbm's best error=0.8480\n",
      "[flaml.automl: 04-20 12:31:00] {2567} INFO - iteration 26, current learner lgbm\n",
      "[flaml.automl: 04-20 12:31:01] {2750} INFO -  at 12.9s,\testimator lgbm's best error=0.8480,\tbest estimator lgbm's best error=0.8480\n",
      "[flaml.automl: 04-20 12:31:01] {2567} INFO - iteration 27, current learner lgbm\n",
      "[flaml.automl: 04-20 12:31:01] {2750} INFO -  at 13.3s,\testimator lgbm's best error=0.8480,\tbest estimator lgbm's best error=0.8480\n",
      "[flaml.automl: 04-20 12:31:01] {2567} INFO - iteration 28, current learner xgboost\n",
      "[flaml.automl: 04-20 12:31:02] {2750} INFO -  at 13.5s,\testimator xgboost's best error=0.9334,\tbest estimator lgbm's best error=0.8480\n",
      "[flaml.automl: 04-20 12:31:02] {2567} INFO - iteration 29, current learner xgboost\n",
      "[flaml.automl: 04-20 12:31:02] {2750} INFO -  at 13.8s,\testimator xgboost's best error=0.9334,\tbest estimator lgbm's best error=0.8480\n",
      "[flaml.automl: 04-20 12:31:02] {2567} INFO - iteration 30, current learner lgbm\n",
      "[flaml.automl: 04-20 12:31:02] {2750} INFO -  at 14.3s,\testimator lgbm's best error=0.8480,\tbest estimator lgbm's best error=0.8480\n",
      "[flaml.automl: 04-20 12:31:02] {2567} INFO - iteration 31, current learner lgbm\n",
      "[flaml.automl: 04-20 12:31:03] {2750} INFO -  at 15.0s,\testimator lgbm's best error=0.8335,\tbest estimator lgbm's best error=0.8335\n",
      "[flaml.automl: 04-20 12:31:03] {2567} INFO - iteration 32, current learner lgbm\n",
      "[flaml.automl: 04-20 12:31:05] {2750} INFO -  at 16.7s,\testimator lgbm's best error=0.8335,\tbest estimator lgbm's best error=0.8335\n",
      "[flaml.automl: 04-20 12:31:05] {2567} INFO - iteration 33, current learner xgboost\n",
      "[flaml.automl: 04-20 12:31:05] {2750} INFO -  at 16.9s,\testimator xgboost's best error=0.9334,\tbest estimator lgbm's best error=0.8335\n",
      "[flaml.automl: 04-20 12:31:05] {2567} INFO - iteration 34, current learner lgbm\n",
      "[flaml.automl: 04-20 12:31:06] {2750} INFO -  at 17.3s,\testimator lgbm's best error=0.8335,\tbest estimator lgbm's best error=0.8335\n",
      "[flaml.automl: 04-20 12:31:06] {2567} INFO - iteration 35, current learner lgbm\n",
      "[flaml.automl: 04-20 12:31:08] {2750} INFO -  at 19.5s,\testimator lgbm's best error=0.8335,\tbest estimator lgbm's best error=0.8335\n",
      "[flaml.automl: 04-20 12:31:08] {2567} INFO - iteration 36, current learner catboost\n",
      "[flaml.automl: 04-20 12:31:11] {2750} INFO -  at 22.5s,\testimator catboost's best error=0.8587,\tbest estimator lgbm's best error=0.8335\n",
      "[flaml.automl: 04-20 12:31:11] {2567} INFO - iteration 37, current learner extra_tree\n",
      "[flaml.automl: 04-20 12:31:12] {2750} INFO -  at 23.8s,\testimator extra_tree's best error=1.0377,\tbest estimator lgbm's best error=0.8335\n",
      "[flaml.automl: 04-20 12:31:12] {2567} INFO - iteration 38, current learner catboost\n",
      "[flaml.automl: 04-20 12:31:16] {2750} INFO -  at 28.1s,\testimator catboost's best error=0.8587,\tbest estimator lgbm's best error=0.8335\n",
      "[flaml.automl: 04-20 12:31:16] {2567} INFO - iteration 39, current learner catboost\n",
      "[flaml.automl: 04-20 12:31:19] {2750} INFO -  at 30.4s,\testimator catboost's best error=0.8587,\tbest estimator lgbm's best error=0.8335\n",
      "[flaml.automl: 04-20 12:31:19] {2567} INFO - iteration 40, current learner lgbm\n",
      "[flaml.automl: 04-20 12:31:19] {2750} INFO -  at 31.0s,\testimator lgbm's best error=0.8335,\tbest estimator lgbm's best error=0.8335\n",
      "[flaml.automl: 04-20 12:31:19] {2567} INFO - iteration 41, current learner catboost\n",
      "[flaml.automl: 04-20 12:31:25] {2750} INFO -  at 36.7s,\testimator catboost's best error=0.8495,\tbest estimator lgbm's best error=0.8335\n",
      "[flaml.automl: 04-20 12:31:25] {2567} INFO - iteration 42, current learner xgboost\n",
      "[flaml.automl: 04-20 12:31:25] {2750} INFO -  at 37.0s,\testimator xgboost's best error=0.8934,\tbest estimator lgbm's best error=0.8335\n",
      "[flaml.automl: 04-20 12:31:25] {2567} INFO - iteration 43, current learner lgbm\n",
      "[flaml.automl: 04-20 12:31:26] {2750} INFO -  at 37.4s,\testimator lgbm's best error=0.8335,\tbest estimator lgbm's best error=0.8335\n",
      "[flaml.automl: 04-20 12:31:26] {2567} INFO - iteration 44, current learner xgboost\n",
      "[flaml.automl: 04-20 12:31:26] {2750} INFO -  at 37.7s,\testimator xgboost's best error=0.8934,\tbest estimator lgbm's best error=0.8335\n",
      "[flaml.automl: 04-20 12:31:26] {2567} INFO - iteration 45, current learner extra_tree\n",
      "[flaml.automl: 04-20 12:31:27] {2750} INFO -  at 39.0s,\testimator extra_tree's best error=0.9838,\tbest estimator lgbm's best error=0.8335\n",
      "[flaml.automl: 04-20 12:31:27] {2567} INFO - iteration 46, current learner xgboost\n",
      "[flaml.automl: 04-20 12:31:28] {2750} INFO -  at 39.6s,\testimator xgboost's best error=0.8799,\tbest estimator lgbm's best error=0.8335\n",
      "[flaml.automl: 04-20 12:31:28] {2567} INFO - iteration 47, current learner lgbm\n",
      "[flaml.automl: 04-20 12:31:30] {2750} INFO -  at 41.5s,\testimator lgbm's best error=0.8335,\tbest estimator lgbm's best error=0.8335\n",
      "[flaml.automl: 04-20 12:31:30] {2567} INFO - iteration 48, current learner extra_tree\n",
      "[flaml.automl: 04-20 12:31:31] {2750} INFO -  at 42.8s,\testimator extra_tree's best error=0.9838,\tbest estimator lgbm's best error=0.8335\n",
      "[flaml.automl: 04-20 12:31:31] {2567} INFO - iteration 49, current learner lgbm\n",
      "[flaml.automl: 04-20 12:31:32] {2750} INFO -  at 43.8s,\testimator lgbm's best error=0.8318,\tbest estimator lgbm's best error=0.8318\n",
      "[flaml.automl: 04-20 12:31:32] {2567} INFO - iteration 50, current learner rf\n",
      "[flaml.automl: 04-20 12:31:33] {2750} INFO -  at 45.1s,\testimator rf's best error=0.9645,\tbest estimator lgbm's best error=0.8318\n",
      "[flaml.automl: 04-20 12:31:33] {2567} INFO - iteration 51, current learner extra_tree\n",
      "[flaml.automl: 04-20 12:31:35] {2750} INFO -  at 46.4s,\testimator extra_tree's best error=0.9640,\tbest estimator lgbm's best error=0.8318\n",
      "[flaml.automl: 04-20 12:31:35] {2567} INFO - iteration 52, current learner rf\n",
      "[flaml.automl: 04-20 12:31:36] {2750} INFO -  at 47.7s,\testimator rf's best error=0.9292,\tbest estimator lgbm's best error=0.8318\n",
      "[flaml.automl: 04-20 12:31:36] {2567} INFO - iteration 53, current learner rf\n",
      "[flaml.automl: 04-20 12:31:38] {2750} INFO -  at 49.4s,\testimator rf's best error=0.9292,\tbest estimator lgbm's best error=0.8318\n",
      "[flaml.automl: 04-20 12:31:38] {2567} INFO - iteration 54, current learner lgbm\n",
      "[flaml.automl: 04-20 12:31:38] {2750} INFO -  at 50.1s,\testimator lgbm's best error=0.8318,\tbest estimator lgbm's best error=0.8318\n",
      "[flaml.automl: 04-20 12:31:38] {2567} INFO - iteration 55, current learner lgbm\n",
      "[flaml.automl: 04-20 12:31:39] {2750} INFO -  at 51.0s,\testimator lgbm's best error=0.8318,\tbest estimator lgbm's best error=0.8318\n",
      "[flaml.automl: 04-20 12:31:39] {2567} INFO - iteration 56, current learner xgboost\n",
      "[flaml.automl: 04-20 12:31:40] {2750} INFO -  at 51.4s,\testimator xgboost's best error=0.8799,\tbest estimator lgbm's best error=0.8318\n",
      "[flaml.automl: 04-20 12:31:40] {2567} INFO - iteration 57, current learner lgbm\n",
      "[flaml.automl: 04-20 12:31:41] {2750} INFO -  at 52.6s,\testimator lgbm's best error=0.8318,\tbest estimator lgbm's best error=0.8318\n",
      "[flaml.automl: 04-20 12:31:41] {2567} INFO - iteration 58, current learner lgbm\n",
      "[flaml.automl: 04-20 12:31:44] {2750} INFO -  at 55.4s,\testimator lgbm's best error=0.8199,\tbest estimator lgbm's best error=0.8199\n",
      "[flaml.automl: 04-20 12:31:44] {2567} INFO - iteration 59, current learner lgbm\n",
      "[flaml.automl: 04-20 12:31:46] {2750} INFO -  at 57.4s,\testimator lgbm's best error=0.8199,\tbest estimator lgbm's best error=0.8199\n",
      "[flaml.automl: 04-20 12:31:46] {2567} INFO - iteration 60, current learner lgbm\n",
      "[flaml.automl: 04-20 12:31:52] {2750} INFO -  at 63.7s,\testimator lgbm's best error=0.8199,\tbest estimator lgbm's best error=0.8199\n",
      "[flaml.automl: 04-20 12:31:52] {2567} INFO - iteration 61, current learner rf\n",
      "[flaml.automl: 04-20 12:31:53] {2750} INFO -  at 65.3s,\testimator rf's best error=0.9243,\tbest estimator lgbm's best error=0.8199\n",
      "[flaml.automl: 04-20 12:31:53] {2567} INFO - iteration 62, current learner lgbm\n",
      "[flaml.automl: 04-20 12:31:55] {2750} INFO -  at 66.7s,\testimator lgbm's best error=0.8199,\tbest estimator lgbm's best error=0.8199\n",
      "[flaml.automl: 04-20 12:31:55] {2567} INFO - iteration 63, current learner xgboost\n",
      "[flaml.automl: 04-20 12:31:56] {2750} INFO -  at 67.8s,\testimator xgboost's best error=0.8636,\tbest estimator lgbm's best error=0.8199\n",
      "[flaml.automl: 04-20 12:31:56] {2567} INFO - iteration 64, current learner xgboost\n",
      "[flaml.automl: 04-20 12:31:56] {2750} INFO -  at 68.2s,\testimator xgboost's best error=0.8636,\tbest estimator lgbm's best error=0.8199\n",
      "[flaml.automl: 04-20 12:31:56] {2567} INFO - iteration 65, current learner lgbm\n",
      "[flaml.automl: 04-20 12:31:57] {2750} INFO -  at 68.9s,\testimator lgbm's best error=0.8199,\tbest estimator lgbm's best error=0.8199\n",
      "[flaml.automl: 04-20 12:31:57] {2567} INFO - iteration 66, current learner rf\n",
      "[flaml.automl: 04-20 12:31:59] {2750} INFO -  at 70.5s,\testimator rf's best error=0.9243,\tbest estimator lgbm's best error=0.8199\n",
      "[flaml.automl: 04-20 12:31:59] {2567} INFO - iteration 67, current learner xgboost\n",
      "[flaml.automl: 04-20 12:32:01] {2750} INFO -  at 73.2s,\testimator xgboost's best error=0.8360,\tbest estimator lgbm's best error=0.8199\n",
      "[flaml.automl: 04-20 12:32:01] {2567} INFO - iteration 68, current learner xgboost\n",
      "[flaml.automl: 04-20 12:32:02] {2750} INFO -  at 74.1s,\testimator xgboost's best error=0.8360,\tbest estimator lgbm's best error=0.8199\n",
      "[flaml.automl: 04-20 12:32:02] {2567} INFO - iteration 69, current learner lgbm\n",
      "[flaml.automl: 04-20 12:32:19] {2750} INFO -  at 90.9s,\testimator lgbm's best error=0.8199,\tbest estimator lgbm's best error=0.8199\n",
      "[flaml.automl: 04-20 12:32:19] {2567} INFO - iteration 70, current learner xgboost\n",
      "[flaml.automl: 04-20 12:32:35] {2750} INFO -  at 107.2s,\testimator xgboost's best error=0.8360,\tbest estimator lgbm's best error=0.8199\n",
      "[flaml.automl: 04-20 12:32:35] {2567} INFO - iteration 71, current learner xgb_limitdepth\n",
      "[flaml.automl: 04-20 12:32:36] {2750} INFO -  at 107.8s,\testimator xgb_limitdepth's best error=0.9183,\tbest estimator lgbm's best error=0.8199\n",
      "[flaml.automl: 04-20 12:32:36] {2567} INFO - iteration 72, current learner xgb_limitdepth\n",
      "[flaml.automl: 04-20 12:32:36] {2750} INFO -  at 108.1s,\testimator xgb_limitdepth's best error=0.9183,\tbest estimator lgbm's best error=0.8199\n",
      "[flaml.automl: 04-20 12:32:36] {2567} INFO - iteration 73, current learner xgb_limitdepth\n",
      "[flaml.automl: 04-20 12:32:37] {2750} INFO -  at 108.6s,\testimator xgb_limitdepth's best error=0.9183,\tbest estimator lgbm's best error=0.8199\n",
      "[flaml.automl: 04-20 12:32:37] {2567} INFO - iteration 74, current learner xgb_limitdepth\n",
      "[flaml.automl: 04-20 12:32:37] {2750} INFO -  at 108.9s,\testimator xgb_limitdepth's best error=0.9183,\tbest estimator lgbm's best error=0.8199\n",
      "[flaml.automl: 04-20 12:32:37] {2567} INFO - iteration 75, current learner xgb_limitdepth\n",
      "[flaml.automl: 04-20 12:32:38] {2750} INFO -  at 109.4s,\testimator xgb_limitdepth's best error=0.9183,\tbest estimator lgbm's best error=0.8199\n",
      "[flaml.automl: 04-20 12:32:38] {2567} INFO - iteration 76, current learner xgb_limitdepth\n",
      "[flaml.automl: 04-20 12:32:38] {2750} INFO -  at 109.6s,\testimator xgb_limitdepth's best error=0.9183,\tbest estimator lgbm's best error=0.8199\n",
      "[flaml.automl: 04-20 12:32:38] {2567} INFO - iteration 77, current learner xgboost\n",
      "[flaml.automl: 04-20 12:32:40] {2750} INFO -  at 111.5s,\testimator xgboost's best error=0.8360,\tbest estimator lgbm's best error=0.8199\n",
      "[flaml.automl: 04-20 12:32:40] {2567} INFO - iteration 78, current learner extra_tree\n",
      "[flaml.automl: 04-20 12:32:41] {2750} INFO -  at 112.8s,\testimator extra_tree's best error=0.9640,\tbest estimator lgbm's best error=0.8199\n",
      "[flaml.automl: 04-20 12:32:41] {2567} INFO - iteration 79, current learner xgb_limitdepth\n",
      "[flaml.automl: 04-20 12:32:42] {2750} INFO -  at 113.7s,\testimator xgb_limitdepth's best error=0.8986,\tbest estimator lgbm's best error=0.8199\n",
      "[flaml.automl: 04-20 12:32:42] {2567} INFO - iteration 80, current learner xgboost\n",
      "[flaml.automl: 04-20 12:32:46] {2750} INFO -  at 118.2s,\testimator xgboost's best error=0.8344,\tbest estimator lgbm's best error=0.8199\n",
      "[flaml.automl: 04-20 12:32:46] {2567} INFO - iteration 81, current learner lgbm\n",
      "[flaml.automl: 04-20 12:32:48] {2750} INFO -  at 119.9s,\testimator lgbm's best error=0.8199,\tbest estimator lgbm's best error=0.8199\n",
      "[flaml.automl: 04-20 12:32:48] {2567} INFO - iteration 82, current learner xgb_limitdepth\n",
      "[flaml.automl: 04-20 12:32:49] {2750} INFO -  at 121.1s,\testimator xgb_limitdepth's best error=0.8986,\tbest estimator lgbm's best error=0.8199\n",
      "[flaml.automl: 04-20 12:32:49] {2567} INFO - iteration 83, current learner rf\n",
      "[flaml.automl: 04-20 12:32:51] {2750} INFO -  at 123.0s,\testimator rf's best error=0.8829,\tbest estimator lgbm's best error=0.8199\n",
      "[flaml.automl: 04-20 12:32:51] {2567} INFO - iteration 84, current learner extra_tree\n",
      "[flaml.automl: 04-20 12:32:53] {2750} INFO -  at 124.3s,\testimator extra_tree's best error=0.9445,\tbest estimator lgbm's best error=0.8199\n",
      "[flaml.automl: 04-20 12:32:53] {2567} INFO - iteration 85, current learner extra_tree\n",
      "[flaml.automl: 04-20 12:32:54] {2750} INFO -  at 125.6s,\testimator extra_tree's best error=0.9445,\tbest estimator lgbm's best error=0.8199\n",
      "[flaml.automl: 04-20 12:32:54] {2567} INFO - iteration 86, current learner xgb_limitdepth\n",
      "[flaml.automl: 04-20 12:32:54] {2750} INFO -  at 126.2s,\testimator xgb_limitdepth's best error=0.8986,\tbest estimator lgbm's best error=0.8199\n",
      "[flaml.automl: 04-20 12:32:54] {2567} INFO - iteration 87, current learner rf\n",
      "[flaml.automl: 04-20 12:32:56] {2750} INFO -  at 127.5s,\testimator rf's best error=0.8829,\tbest estimator lgbm's best error=0.8199\n",
      "[flaml.automl: 04-20 12:32:56] {2567} INFO - iteration 88, current learner extra_tree\n",
      "[flaml.automl: 04-20 12:32:57] {2750} INFO -  at 128.8s,\testimator extra_tree's best error=0.9392,\tbest estimator lgbm's best error=0.8199\n",
      "[flaml.automl: 04-20 12:32:57] {2567} INFO - iteration 89, current learner rf\n",
      "[flaml.automl: 04-20 12:32:58] {2750} INFO -  at 130.1s,\testimator rf's best error=0.8829,\tbest estimator lgbm's best error=0.8199\n",
      "[flaml.automl: 04-20 12:32:58] {2567} INFO - iteration 90, current learner rf\n",
      "[flaml.automl: 04-20 12:33:01] {2750} INFO -  at 132.4s,\testimator rf's best error=0.8789,\tbest estimator lgbm's best error=0.8199\n",
      "[flaml.automl: 04-20 12:33:01] {2567} INFO - iteration 91, current learner xgb_limitdepth\n",
      "[flaml.automl: 04-20 12:33:02] {2750} INFO -  at 133.5s,\testimator xgb_limitdepth's best error=0.8986,\tbest estimator lgbm's best error=0.8199\n",
      "[flaml.automl: 04-20 12:33:02] {2567} INFO - iteration 92, current learner rf\n",
      "[flaml.automl: 04-20 12:33:04] {2750} INFO -  at 135.6s,\testimator rf's best error=0.8789,\tbest estimator lgbm's best error=0.8199\n",
      "[flaml.automl: 04-20 12:33:04] {2567} INFO - iteration 93, current learner xgb_limitdepth\n",
      "[flaml.automl: 04-20 12:33:05] {2750} INFO -  at 136.4s,\testimator xgb_limitdepth's best error=0.8849,\tbest estimator lgbm's best error=0.8199\n",
      "[flaml.automl: 04-20 12:33:05] {2567} INFO - iteration 94, current learner extra_tree\n",
      "[flaml.automl: 04-20 12:33:06] {2750} INFO -  at 137.6s,\testimator extra_tree's best error=0.9392,\tbest estimator lgbm's best error=0.8199\n",
      "[flaml.automl: 04-20 12:33:06] {2567} INFO - iteration 95, current learner extra_tree\n",
      "[flaml.automl: 04-20 12:33:07] {2750} INFO -  at 138.9s,\testimator extra_tree's best error=0.8987,\tbest estimator lgbm's best error=0.8199\n",
      "[flaml.automl: 04-20 12:33:07] {2567} INFO - iteration 96, current learner lgbm\n",
      "[flaml.automl: 04-20 12:33:12] {2750} INFO -  at 143.7s,\testimator lgbm's best error=0.8125,\tbest estimator lgbm's best error=0.8125\n",
      "[flaml.automl: 04-20 12:33:12] {2567} INFO - iteration 97, current learner xgb_limitdepth\n",
      "[flaml.automl: 04-20 12:33:13] {2750} INFO -  at 144.3s,\testimator xgb_limitdepth's best error=0.8849,\tbest estimator lgbm's best error=0.8125\n",
      "[flaml.automl: 04-20 12:33:13] {2567} INFO - iteration 98, current learner extra_tree\n",
      "[flaml.automl: 04-20 12:33:14] {2750} INFO -  at 146.1s,\testimator extra_tree's best error=0.8987,\tbest estimator lgbm's best error=0.8125\n",
      "[flaml.automl: 04-20 12:33:14] {2567} INFO - iteration 99, current learner extra_tree\n",
      "[flaml.automl: 04-20 12:33:16] {2750} INFO -  at 148.1s,\testimator extra_tree's best error=0.8793,\tbest estimator lgbm's best error=0.8125\n",
      "[flaml.automl: 04-20 12:33:16] {2567} INFO - iteration 100, current learner catboost\n",
      "[flaml.automl: 04-20 12:33:23] {2750} INFO -  at 155.1s,\testimator catboost's best error=0.8495,\tbest estimator lgbm's best error=0.8125\n",
      "[flaml.automl: 04-20 12:33:23] {2567} INFO - iteration 101, current learner lgbm\n",
      "[flaml.automl: 04-20 12:33:27] {2750} INFO -  at 159.2s,\testimator lgbm's best error=0.8125,\tbest estimator lgbm's best error=0.8125\n",
      "[flaml.automl: 04-20 12:33:27] {2567} INFO - iteration 102, current learner xgb_limitdepth\n",
      "[flaml.automl: 04-20 12:33:29] {2750} INFO -  at 160.4s,\testimator xgb_limitdepth's best error=0.8563,\tbest estimator lgbm's best error=0.8125\n",
      "[flaml.automl: 04-20 12:33:29] {2567} INFO - iteration 103, current learner xgb_limitdepth\n",
      "[flaml.automl: 04-20 12:33:29] {2750} INFO -  at 161.0s,\testimator xgb_limitdepth's best error=0.8563,\tbest estimator lgbm's best error=0.8125\n",
      "[flaml.automl: 04-20 12:33:29] {2567} INFO - iteration 104, current learner lgbm\n",
      "[flaml.automl: 04-20 12:33:32] {2750} INFO -  at 163.6s,\testimator lgbm's best error=0.8125,\tbest estimator lgbm's best error=0.8125\n",
      "[flaml.automl: 04-20 12:33:32] {2567} INFO - iteration 105, current learner xgb_limitdepth\n",
      "[flaml.automl: 04-20 12:33:34] {2750} INFO -  at 165.8s,\testimator xgb_limitdepth's best error=0.8563,\tbest estimator lgbm's best error=0.8125\n",
      "[flaml.automl: 04-20 12:33:34] {2567} INFO - iteration 106, current learner extra_tree\n",
      "[flaml.automl: 04-20 12:33:35] {2750} INFO -  at 167.1s,\testimator extra_tree's best error=0.8793,\tbest estimator lgbm's best error=0.8125\n",
      "[flaml.automl: 04-20 12:33:35] {2567} INFO - iteration 107, current learner xgb_limitdepth\n",
      "[flaml.automl: 04-20 12:33:36] {2750} INFO -  at 167.7s,\testimator xgb_limitdepth's best error=0.8563,\tbest estimator lgbm's best error=0.8125\n",
      "[flaml.automl: 04-20 12:33:36] {2567} INFO - iteration 108, current learner xgb_limitdepth\n",
      "[flaml.automl: 04-20 12:33:38] {2750} INFO -  at 169.8s,\testimator xgb_limitdepth's best error=0.8563,\tbest estimator lgbm's best error=0.8125\n",
      "[flaml.automl: 04-20 12:33:38] {2567} INFO - iteration 109, current learner xgboost\n",
      "[flaml.automl: 04-20 12:33:40] {2750} INFO -  at 172.2s,\testimator xgboost's best error=0.8344,\tbest estimator lgbm's best error=0.8125\n",
      "[flaml.automl: 04-20 12:33:40] {2567} INFO - iteration 110, current learner xgb_limitdepth\n",
      "[flaml.automl: 04-20 12:33:41] {2750} INFO -  at 172.8s,\testimator xgb_limitdepth's best error=0.8563,\tbest estimator lgbm's best error=0.8125\n",
      "[flaml.automl: 04-20 12:33:41] {2567} INFO - iteration 111, current learner extra_tree\n",
      "[flaml.automl: 04-20 12:33:44] {2750} INFO -  at 175.4s,\testimator extra_tree's best error=0.8674,\tbest estimator lgbm's best error=0.8125\n",
      "[flaml.automl: 04-20 12:33:44] {2567} INFO - iteration 112, current learner lgbm\n",
      "[flaml.automl: 04-20 12:34:00] {2750} INFO -  at 192.0s,\testimator lgbm's best error=0.8119,\tbest estimator lgbm's best error=0.8119\n",
      "[flaml.automl: 04-20 12:34:00] {2567} INFO - iteration 113, current learner xgb_limitdepth\n",
      "[flaml.automl: 04-20 12:34:03] {2750} INFO -  at 194.5s,\testimator xgb_limitdepth's best error=0.8370,\tbest estimator lgbm's best error=0.8119\n",
      "[flaml.automl: 04-20 12:34:03] {2567} INFO - iteration 114, current learner xgb_limitdepth\n",
      "[flaml.automl: 04-20 12:34:04] {2750} INFO -  at 195.5s,\testimator xgb_limitdepth's best error=0.8370,\tbest estimator lgbm's best error=0.8119\n",
      "[flaml.automl: 04-20 12:34:04] {2567} INFO - iteration 115, current learner xgb_limitdepth\n",
      "[flaml.automl: 04-20 12:34:09] {2750} INFO -  at 201.2s,\testimator xgb_limitdepth's best error=0.8159,\tbest estimator lgbm's best error=0.8119\n",
      "[flaml.automl: 04-20 12:34:09] {2567} INFO - iteration 116, current learner lgbm\n",
      "[flaml.automl: 04-20 12:34:14] {2750} INFO -  at 206.2s,\testimator lgbm's best error=0.8119,\tbest estimator lgbm's best error=0.8119\n",
      "[flaml.automl: 04-20 12:34:14] {2567} INFO - iteration 117, current learner lgbm\n",
      "[flaml.automl: 04-20 12:34:51] {2750} INFO -  at 242.8s,\testimator lgbm's best error=0.8035,\tbest estimator lgbm's best error=0.8035\n",
      "[flaml.automl: 04-20 12:34:51] {2567} INFO - iteration 118, current learner xgb_limitdepth\n",
      "[flaml.automl: 04-20 12:34:56] {2750} INFO -  at 247.4s,\testimator xgb_limitdepth's best error=0.8159,\tbest estimator lgbm's best error=0.8035\n",
      "[flaml.automl: 04-20 12:34:56] {2567} INFO - iteration 119, current learner xgb_limitdepth\n",
      "[flaml.automl: 04-20 12:35:04] {2750} INFO -  at 256.0s,\testimator xgb_limitdepth's best error=0.8159,\tbest estimator lgbm's best error=0.8035\n",
      "[flaml.automl: 04-20 12:35:04] {2567} INFO - iteration 120, current learner lgbm\n",
      "[flaml.automl: 04-20 12:36:47] {2750} INFO -  at 358.8s,\testimator lgbm's best error=0.8035,\tbest estimator lgbm's best error=0.8035\n",
      "[flaml.automl: 04-20 12:36:47] {2567} INFO - iteration 121, current learner xgb_limitdepth\n",
      "[flaml.automl: 04-20 12:36:51] {2750} INFO -  at 362.4s,\testimator xgb_limitdepth's best error=0.8159,\tbest estimator lgbm's best error=0.8035\n",
      "[flaml.automl: 04-20 12:36:51] {2567} INFO - iteration 122, current learner xgb_limitdepth\n",
      "[flaml.automl: 04-20 12:37:01] {2750} INFO -  at 372.7s,\testimator xgb_limitdepth's best error=0.8159,\tbest estimator lgbm's best error=0.8035\n",
      "[flaml.automl: 04-20 12:37:01] {2567} INFO - iteration 123, current learner xgb_limitdepth\n",
      "[flaml.automl: 04-20 12:37:03] {2750} INFO -  at 374.5s,\testimator xgb_limitdepth's best error=0.8159,\tbest estimator lgbm's best error=0.8035\n",
      "[flaml.automl: 04-20 12:37:03] {2567} INFO - iteration 124, current learner xgb_limitdepth\n",
      "[flaml.automl: 04-20 12:37:25] {2750} INFO -  at 396.8s,\testimator xgb_limitdepth's best error=0.8149,\tbest estimator lgbm's best error=0.8035\n",
      "[flaml.automl: 04-20 12:37:25] {2567} INFO - iteration 125, current learner lgbm\n",
      "[flaml.automl: 04-20 12:37:30] {2750} INFO -  at 401.3s,\testimator lgbm's best error=0.8035,\tbest estimator lgbm's best error=0.8035\n",
      "[flaml.automl: 04-20 12:37:30] {2567} INFO - iteration 126, current learner lgbm\n",
      "[flaml.automl: 04-20 12:37:34] {2750} INFO -  at 405.8s,\testimator lgbm's best error=0.8035,\tbest estimator lgbm's best error=0.8035\n",
      "[flaml.automl: 04-20 12:37:34] {2567} INFO - iteration 127, current learner lgbm\n",
      "[flaml.automl: 04-20 12:40:18] {2750} INFO -  at 569.5s,\testimator lgbm's best error=0.8031,\tbest estimator lgbm's best error=0.8031\n",
      "[flaml.automl: 04-20 12:40:18] {2567} INFO - iteration 128, current learner lgbm\n",
      "[flaml.automl: 04-20 12:46:03] {2750} INFO -  at 914.9s,\testimator lgbm's best error=0.8031,\tbest estimator lgbm's best error=0.8031\n",
      "[flaml.automl: 04-20 12:46:03] {2567} INFO - iteration 129, current learner catboost\n",
      "[flaml.automl: 04-20 12:46:06] {2750} INFO -  at 917.9s,\testimator catboost's best error=0.8495,\tbest estimator lgbm's best error=0.8031\n",
      "[flaml.automl: 04-20 12:46:06] {2567} INFO - iteration 130, current learner extra_tree\n",
      "[flaml.automl: 04-20 12:46:11] {2750} INFO -  at 922.5s,\testimator extra_tree's best error=0.8636,\tbest estimator lgbm's best error=0.8031\n",
      "[flaml.automl: 04-20 12:46:11] {2567} INFO - iteration 131, current learner catboost\n",
      "[flaml.automl: 04-20 12:46:16] {2750} INFO -  at 928.0s,\testimator catboost's best error=0.8495,\tbest estimator lgbm's best error=0.8031\n",
      "[flaml.automl: 04-20 12:46:16] {2567} INFO - iteration 132, current learner xgboost\n",
      "[flaml.automl: 04-20 12:46:22] {2750} INFO -  at 934.3s,\testimator xgboost's best error=0.8344,\tbest estimator lgbm's best error=0.8031\n",
      "[flaml.automl: 04-20 12:46:22] {2567} INFO - iteration 133, current learner extra_tree\n",
      "[flaml.automl: 04-20 12:46:25] {2750} INFO -  at 936.7s,\testimator extra_tree's best error=0.8636,\tbest estimator lgbm's best error=0.8031\n",
      "[flaml.automl: 04-20 12:46:25] {2567} INFO - iteration 134, current learner lgbm\n",
      "[flaml.automl: 04-20 12:47:26] {2750} INFO -  at 998.0s,\testimator lgbm's best error=0.8031,\tbest estimator lgbm's best error=0.8031\n",
      "[flaml.automl: 04-20 12:47:26] {2567} INFO - iteration 135, current learner rf\n",
      "[flaml.automl: 04-20 12:47:30] {2750} INFO -  at 1001.9s,\testimator rf's best error=0.8542,\tbest estimator lgbm's best error=0.8031\n",
      "[flaml.automl: 04-20 12:47:30] {2567} INFO - iteration 136, current learner rf\n",
      "[flaml.automl: 04-20 12:47:33] {2750} INFO -  at 1005.3s,\testimator rf's best error=0.8542,\tbest estimator lgbm's best error=0.8031\n",
      "[flaml.automl: 04-20 12:47:33] {2567} INFO - iteration 137, current learner extra_tree\n",
      "[flaml.automl: 04-20 12:47:42] {2750} INFO -  at 1013.3s,\testimator extra_tree's best error=0.8601,\tbest estimator lgbm's best error=0.8031\n",
      "[flaml.automl: 04-20 12:47:42] {2567} INFO - iteration 138, current learner rf\n",
      "[flaml.automl: 04-20 12:47:49] {2750} INFO -  at 1020.9s,\testimator rf's best error=0.8463,\tbest estimator lgbm's best error=0.8031\n",
      "[flaml.automl: 04-20 12:47:49] {2567} INFO - iteration 139, current learner lgbm\n",
      "[flaml.automl: 04-20 12:48:09] {2750} INFO -  at 1040.8s,\testimator lgbm's best error=0.8031,\tbest estimator lgbm's best error=0.8031\n",
      "[flaml.automl: 04-20 12:48:09] {2567} INFO - iteration 140, current learner xgboost\n",
      "[flaml.automl: 04-20 12:48:11] {2750} INFO -  at 1042.5s,\testimator xgboost's best error=0.8344,\tbest estimator lgbm's best error=0.8031\n",
      "[flaml.automl: 04-20 12:48:11] {2567} INFO - iteration 141, current learner rf\n",
      "[flaml.automl: 04-20 12:48:15] {2750} INFO -  at 1046.3s,\testimator rf's best error=0.8463,\tbest estimator lgbm's best error=0.8031\n",
      "[flaml.automl: 04-20 12:48:15] {2567} INFO - iteration 142, current learner extra_tree\n",
      "[flaml.automl: 04-20 12:48:19] {2750} INFO -  at 1050.9s,\testimator extra_tree's best error=0.8601,\tbest estimator lgbm's best error=0.8031\n",
      "[flaml.automl: 04-20 12:48:19] {2567} INFO - iteration 143, current learner rf\n",
      "[flaml.automl: 04-20 12:48:37] {2750} INFO -  at 1068.7s,\testimator rf's best error=0.8463,\tbest estimator lgbm's best error=0.8031\n",
      "[flaml.automl: 04-20 12:48:37] {2567} INFO - iteration 144, current learner extra_tree\n",
      "[flaml.automl: 04-20 12:48:41] {2750} INFO -  at 1073.2s,\testimator extra_tree's best error=0.8601,\tbest estimator lgbm's best error=0.8031\n",
      "[flaml.automl: 04-20 12:48:41] {2567} INFO - iteration 145, current learner xgboost\n",
      "[flaml.automl: 04-20 12:49:03] {2750} INFO -  at 1095.1s,\testimator xgboost's best error=0.8288,\tbest estimator lgbm's best error=0.8031\n",
      "[flaml.automl: 04-20 12:49:03] {2567} INFO - iteration 146, current learner catboost\n",
      "[flaml.automl: 04-20 12:49:06] {2750} INFO -  at 1098.3s,\testimator catboost's best error=0.8495,\tbest estimator lgbm's best error=0.8031\n",
      "[flaml.automl: 04-20 12:49:06] {2567} INFO - iteration 147, current learner lgbm\n",
      "[flaml.automl: 04-20 12:54:13] {2750} INFO -  at 1404.9s,\testimator lgbm's best error=0.8031,\tbest estimator lgbm's best error=0.8031\n",
      "[flaml.automl: 04-20 12:54:13] {2567} INFO - iteration 148, current learner lgbm\n",
      "[flaml.automl: 04-20 12:54:34] {2750} INFO -  at 1425.3s,\testimator lgbm's best error=0.8024,\tbest estimator lgbm's best error=0.8024\n",
      "[flaml.automl: 04-20 12:54:34] {2567} INFO - iteration 149, current learner rf\n",
      "[flaml.automl: 04-20 12:54:49] {2750} INFO -  at 1440.4s,\testimator rf's best error=0.8408,\tbest estimator lgbm's best error=0.8024\n",
      "[flaml.automl: 04-20 12:54:49] {2567} INFO - iteration 150, current learner lgbm\n",
      "[flaml.automl: 04-20 12:57:38] {2750} INFO -  at 1609.8s,\testimator lgbm's best error=0.8024,\tbest estimator lgbm's best error=0.8024\n",
      "[flaml.automl: 04-20 12:57:38] {2567} INFO - iteration 151, current learner lgbm\n",
      "[flaml.automl: 04-20 12:57:41] {2750} INFO -  at 1612.6s,\testimator lgbm's best error=0.8024,\tbest estimator lgbm's best error=0.8024\n",
      "[flaml.automl: 04-20 12:57:41] {2567} INFO - iteration 152, current learner rf\n",
      "[flaml.automl: 04-20 12:58:12] {2750} INFO -  at 1643.9s,\testimator rf's best error=0.8408,\tbest estimator lgbm's best error=0.8024\n",
      "[flaml.automl: 04-20 12:58:12] {2567} INFO - iteration 153, current learner xgboost\n",
      "[flaml.automl: 04-20 12:58:27] {2750} INFO -  at 1658.5s,\testimator xgboost's best error=0.8272,\tbest estimator lgbm's best error=0.8024\n",
      "[flaml.automl: 04-20 12:58:27] {2567} INFO - iteration 154, current learner xgboost\n",
      "[flaml.automl: 04-20 12:58:48] {2750} INFO -  at 1679.8s,\testimator xgboost's best error=0.8272,\tbest estimator lgbm's best error=0.8024\n",
      "[flaml.automl: 04-20 12:58:48] {2567} INFO - iteration 155, current learner lgbm\n",
      "[flaml.automl: 04-20 13:01:02] {2750} INFO -  at 1814.0s,\testimator lgbm's best error=0.8024,\tbest estimator lgbm's best error=0.8024\n",
      "[flaml.automl: 04-20 13:01:07] {2976} INFO - retrain lgbm for 4.5s\n",
      "[flaml.automl: 04-20 13:01:07] {2981} INFO - retrained model: LGBMRegressor(colsample_bytree=0.6666423046413956,\n",
      "              learning_rate=0.021801104916566415, max_bin=511,\n",
      "              min_child_samples=13, n_estimators=1084, num_leaves=73,\n",
      "              reg_alpha=0.008104467290434618, reg_lambda=0.263516584458642,\n",
      "              verbose=-1)\n",
      "[flaml.automl: 04-20 13:01:07] {2310} INFO - fit succeeded\n",
      "[flaml.automl: 04-20 13:01:07] {2312} INFO - Time taken to find the best model: 1425.2973172664642\n",
      "[flaml.automl: 04-20 13:01:07] {2326} WARNING - Time taken to find the best model is 79% of the provided time budget and not all estimators' hyperparameter search converged. Consider increasing the time budget.\n"
     ]
    }
   ],
   "source": [
    "automl.fit(X, y, task=\"regression\", metric='rmse', time_budget=1800)"
   ]
  },
  {
   "cell_type": "code",
   "execution_count": 23,
   "id": "38cb8512",
   "metadata": {
    "execution": {
     "iopub.execute_input": "2022-04-20T13:01:07.559085Z",
     "iopub.status.busy": "2022-04-20T13:01:07.558722Z",
     "iopub.status.idle": "2022-04-20T13:01:07.565613Z",
     "shell.execute_reply": "2022-04-20T13:01:07.564953Z"
    },
    "papermill": {
     "duration": 0.199658,
     "end_time": "2022-04-20T13:01:07.567452",
     "exception": false,
     "start_time": "2022-04-20T13:01:07.367794",
     "status": "completed"
    },
    "tags": []
   },
   "outputs": [
    {
     "name": "stdout",
     "output_type": "stream",
     "text": [
      "Best ML leaner: lgbm\n",
      "Best hyperparmeter config: {'n_estimators': 1084, 'num_leaves': 73, 'min_child_samples': 13, 'learning_rate': 0.021801104916566415, 'log_max_bin': 9, 'colsample_bytree': 0.6666423046413956, 'reg_alpha': 0.008104467290434618, 'reg_lambda': 0.263516584458642}\n",
      "Best log_loss on validation data: 0.8024\n",
      "Training duration of best run: 4.478 s\n"
     ]
    }
   ],
   "source": [
    "print('Best ML leaner:', automl.best_estimator)\n",
    "print('Best hyperparmeter config:', automl.best_config)\n",
    "print('Best log_loss on validation data: {0:.4g}'.format(automl.best_loss))\n",
    "print('Training duration of best run: {0:.4g} s'.format(automl.best_config_train_time))"
   ]
  },
  {
   "cell_type": "markdown",
   "id": "439615db",
   "metadata": {
    "papermill": {
     "duration": 0.185644,
     "end_time": "2022-04-20T13:01:07.939216",
     "exception": false,
     "start_time": "2022-04-20T13:01:07.753572",
     "status": "completed"
    },
    "tags": []
   },
   "source": [
    "### Evaluating Model"
   ]
  },
  {
   "cell_type": "code",
   "execution_count": 24,
   "id": "0800b0f3",
   "metadata": {
    "execution": {
     "iopub.execute_input": "2022-04-20T13:01:08.309710Z",
     "iopub.status.busy": "2022-04-20T13:01:08.309449Z",
     "iopub.status.idle": "2022-04-20T13:01:08.313344Z",
     "shell.execute_reply": "2022-04-20T13:01:08.312425Z"
    },
    "papermill": {
     "duration": 0.190952,
     "end_time": "2022-04-20T13:01:08.315297",
     "exception": false,
     "start_time": "2022-04-20T13:01:08.124345",
     "status": "completed"
    },
    "tags": []
   },
   "outputs": [],
   "source": [
    "import math\n",
    "from sklearn.metrics import r2_score, mean_squared_error, mean_absolute_error"
   ]
  },
  {
   "cell_type": "code",
   "execution_count": 25,
   "id": "0f2db7e9",
   "metadata": {
    "execution": {
     "iopub.execute_input": "2022-04-20T13:01:08.687486Z",
     "iopub.status.busy": "2022-04-20T13:01:08.687173Z",
     "iopub.status.idle": "2022-04-20T13:01:08.694146Z",
     "shell.execute_reply": "2022-04-20T13:01:08.693048Z"
    },
    "papermill": {
     "duration": 0.194352,
     "end_time": "2022-04-20T13:01:08.696237",
     "exception": false,
     "start_time": "2022-04-20T13:01:08.501885",
     "status": "completed"
    },
    "tags": []
   },
   "outputs": [],
   "source": [
    "def evaluate_model(y_test, pred):\n",
    "    print(\"*\"*12, \"Evaluations\", \"*\"*12, '\\n')\n",
    "    \n",
    "    print(\"MAE :\", mean_absolute_error(y_test, pred), '\\n')\n",
    "    print(\"MSE :\", mean_squared_error(y_test, pred), '\\n')\n",
    "    print(\"R2_Score :\", r2_score(y_test, pred), '\\n')\n",
    "    \n",
    "    mse_ = np.square(np.subtract(y_test,pred)).mean() \n",
    "    print(\"RMSE :\", math.sqrt(mse_))"
   ]
  },
  {
   "cell_type": "code",
   "execution_count": 26,
   "id": "063d4888",
   "metadata": {
    "execution": {
     "iopub.execute_input": "2022-04-20T13:01:09.068636Z",
     "iopub.status.busy": "2022-04-20T13:01:09.068345Z",
     "iopub.status.idle": "2022-04-20T13:01:09.176549Z",
     "shell.execute_reply": "2022-04-20T13:01:09.175892Z"
    },
    "papermill": {
     "duration": 0.296595,
     "end_time": "2022-04-20T13:01:09.178655",
     "exception": false,
     "start_time": "2022-04-20T13:01:08.882060",
     "status": "completed"
    },
    "tags": []
   },
   "outputs": [
    {
     "name": "stdout",
     "output_type": "stream",
     "text": [
      "************ Evaluations ************ \n",
      "\n",
      "MAE : 0.21339379102755196 \n",
      "\n",
      "MSE : 0.09805540627128095 \n",
      "\n",
      "R2_Score : 0.9387200329611642 \n",
      "\n",
      "RMSE : 0.3131379987661685\n"
     ]
    }
   ],
   "source": [
    "pred = automl.predict(X_test)\n",
    "    \n",
    "evaluate_model(y_test, pred)"
   ]
  },
  {
   "cell_type": "markdown",
   "id": "23ac5722",
   "metadata": {
    "papermill": {
     "duration": 0.184313,
     "end_time": "2022-04-20T13:01:09.548002",
     "exception": false,
     "start_time": "2022-04-20T13:01:09.363689",
     "status": "completed"
    },
    "tags": []
   },
   "source": [
    "# Test"
   ]
  },
  {
   "cell_type": "code",
   "execution_count": 27,
   "id": "945345fc",
   "metadata": {
    "execution": {
     "iopub.execute_input": "2022-04-20T13:01:09.920696Z",
     "iopub.status.busy": "2022-04-20T13:01:09.920411Z",
     "iopub.status.idle": "2022-04-20T13:01:10.029978Z",
     "shell.execute_reply": "2022-04-20T13:01:10.029212Z"
    },
    "papermill": {
     "duration": 0.300409,
     "end_time": "2022-04-20T13:01:10.032333",
     "exception": false,
     "start_time": "2022-04-20T13:01:09.731924",
     "status": "completed"
    },
    "tags": []
   },
   "outputs": [
    {
     "data": {
      "text/plain": [
       "1825"
      ]
     },
     "execution_count": 27,
     "metadata": {},
     "output_type": "execute_result"
    }
   ],
   "source": [
    "pred = automl.predict(test)\n",
    "len(pred)"
   ]
  },
  {
   "cell_type": "markdown",
   "id": "00893e16",
   "metadata": {
    "papermill": {
     "duration": 0.186971,
     "end_time": "2022-04-20T13:01:10.411583",
     "exception": false,
     "start_time": "2022-04-20T13:01:10.224612",
     "status": "completed"
    },
    "tags": []
   },
   "source": [
    "# Submission"
   ]
  },
  {
   "cell_type": "code",
   "execution_count": 28,
   "id": "479d8975",
   "metadata": {
    "execution": {
     "iopub.execute_input": "2022-04-20T13:01:10.784365Z",
     "iopub.status.busy": "2022-04-20T13:01:10.784098Z",
     "iopub.status.idle": "2022-04-20T13:01:10.815106Z",
     "shell.execute_reply": "2022-04-20T13:01:10.814269Z"
    },
    "papermill": {
     "duration": 0.219455,
     "end_time": "2022-04-20T13:01:10.817451",
     "exception": false,
     "start_time": "2022-04-20T13:01:10.597996",
     "status": "completed"
    },
    "tags": []
   },
   "outputs": [
    {
     "name": "stdout",
     "output_type": "stream",
     "text": [
      "1    1825\n",
      "Name: rating, dtype: int64 \n",
      "\n"
     ]
    },
    {
     "data": {
      "text/html": [
       "<div>\n",
       "<style scoped>\n",
       "    .dataframe tbody tr th:only-of-type {\n",
       "        vertical-align: middle;\n",
       "    }\n",
       "\n",
       "    .dataframe tbody tr th {\n",
       "        vertical-align: top;\n",
       "    }\n",
       "\n",
       "    .dataframe thead th {\n",
       "        text-align: right;\n",
       "    }\n",
       "</style>\n",
       "<table border=\"1\" class=\"dataframe\">\n",
       "  <thead>\n",
       "    <tr style=\"text-align: right;\">\n",
       "      <th></th>\n",
       "      <th>userID</th>\n",
       "      <th>rating</th>\n",
       "    </tr>\n",
       "  </thead>\n",
       "  <tbody>\n",
       "    <tr>\n",
       "      <th>0</th>\n",
       "      <td>8001</td>\n",
       "      <td>1</td>\n",
       "    </tr>\n",
       "    <tr>\n",
       "      <th>1</th>\n",
       "      <td>8002</td>\n",
       "      <td>1</td>\n",
       "    </tr>\n",
       "    <tr>\n",
       "      <th>2</th>\n",
       "      <td>8003</td>\n",
       "      <td>1</td>\n",
       "    </tr>\n",
       "    <tr>\n",
       "      <th>3</th>\n",
       "      <td>8004</td>\n",
       "      <td>1</td>\n",
       "    </tr>\n",
       "    <tr>\n",
       "      <th>4</th>\n",
       "      <td>8005</td>\n",
       "      <td>1</td>\n",
       "    </tr>\n",
       "  </tbody>\n",
       "</table>\n",
       "</div>"
      ],
      "text/plain": [
       "   userID  rating\n",
       "0    8001       1\n",
       "1    8002       1\n",
       "2    8003       1\n",
       "3    8004       1\n",
       "4    8005       1"
      ]
     },
     "execution_count": 28,
     "metadata": {},
     "output_type": "execute_result"
    }
   ],
   "source": [
    "sub = pd.read_csv('../input/ctrl-shift-intelligence-2k22/sample_sub.csv')\n",
    "print(sub['rating'].value_counts(),'\\n')\n",
    "sub.head()"
   ]
  },
  {
   "cell_type": "markdown",
   "id": "901ef53a",
   "metadata": {
    "papermill": {
     "duration": 0.187922,
     "end_time": "2022-04-20T13:01:11.201522",
     "exception": false,
     "start_time": "2022-04-20T13:01:11.013600",
     "status": "completed"
    },
    "tags": []
   },
   "source": [
    "Save Submission File"
   ]
  },
  {
   "cell_type": "code",
   "execution_count": 29,
   "id": "6a2517ec",
   "metadata": {
    "execution": {
     "iopub.execute_input": "2022-04-20T13:01:11.579437Z",
     "iopub.status.busy": "2022-04-20T13:01:11.578469Z",
     "iopub.status.idle": "2022-04-20T13:01:11.603157Z",
     "shell.execute_reply": "2022-04-20T13:01:11.602298Z"
    },
    "papermill": {
     "duration": 0.216775,
     "end_time": "2022-04-20T13:01:11.605317",
     "exception": false,
     "start_time": "2022-04-20T13:01:11.388542",
     "status": "completed"
    },
    "tags": []
   },
   "outputs": [
    {
     "data": {
      "text/html": [
       "<div>\n",
       "<style scoped>\n",
       "    .dataframe tbody tr th:only-of-type {\n",
       "        vertical-align: middle;\n",
       "    }\n",
       "\n",
       "    .dataframe tbody tr th {\n",
       "        vertical-align: top;\n",
       "    }\n",
       "\n",
       "    .dataframe thead th {\n",
       "        text-align: right;\n",
       "    }\n",
       "</style>\n",
       "<table border=\"1\" class=\"dataframe\">\n",
       "  <thead>\n",
       "    <tr style=\"text-align: right;\">\n",
       "      <th></th>\n",
       "      <th>userID</th>\n",
       "      <th>rating</th>\n",
       "    </tr>\n",
       "  </thead>\n",
       "  <tbody>\n",
       "    <tr>\n",
       "      <th>0</th>\n",
       "      <td>8001</td>\n",
       "      <td>6.306945</td>\n",
       "    </tr>\n",
       "    <tr>\n",
       "      <th>1</th>\n",
       "      <td>8002</td>\n",
       "      <td>5.761545</td>\n",
       "    </tr>\n",
       "    <tr>\n",
       "      <th>2</th>\n",
       "      <td>8003</td>\n",
       "      <td>6.540046</td>\n",
       "    </tr>\n",
       "    <tr>\n",
       "      <th>3</th>\n",
       "      <td>8004</td>\n",
       "      <td>5.477109</td>\n",
       "    </tr>\n",
       "    <tr>\n",
       "      <th>4</th>\n",
       "      <td>8005</td>\n",
       "      <td>6.503280</td>\n",
       "    </tr>\n",
       "    <tr>\n",
       "      <th>...</th>\n",
       "      <td>...</td>\n",
       "      <td>...</td>\n",
       "    </tr>\n",
       "    <tr>\n",
       "      <th>1820</th>\n",
       "      <td>9821</td>\n",
       "      <td>6.022945</td>\n",
       "    </tr>\n",
       "    <tr>\n",
       "      <th>1821</th>\n",
       "      <td>9822</td>\n",
       "      <td>7.139071</td>\n",
       "    </tr>\n",
       "    <tr>\n",
       "      <th>1822</th>\n",
       "      <td>9823</td>\n",
       "      <td>6.643432</td>\n",
       "    </tr>\n",
       "    <tr>\n",
       "      <th>1823</th>\n",
       "      <td>9824</td>\n",
       "      <td>6.464801</td>\n",
       "    </tr>\n",
       "    <tr>\n",
       "      <th>1824</th>\n",
       "      <td>9825</td>\n",
       "      <td>7.422228</td>\n",
       "    </tr>\n",
       "  </tbody>\n",
       "</table>\n",
       "<p>1825 rows × 2 columns</p>\n",
       "</div>"
      ],
      "text/plain": [
       "      userID    rating\n",
       "0       8001  6.306945\n",
       "1       8002  5.761545\n",
       "2       8003  6.540046\n",
       "3       8004  5.477109\n",
       "4       8005  6.503280\n",
       "...      ...       ...\n",
       "1820    9821  6.022945\n",
       "1821    9822  7.139071\n",
       "1822    9823  6.643432\n",
       "1823    9824  6.464801\n",
       "1824    9825  7.422228\n",
       "\n",
       "[1825 rows x 2 columns]"
      ]
     },
     "execution_count": 29,
     "metadata": {},
     "output_type": "execute_result"
    }
   ],
   "source": [
    "sub['rating'] = pred\n",
    "\n",
    "sub.to_csv('submission.csv', index=False)\n",
    "sub"
   ]
  }
 ],
 "metadata": {
  "kernelspec": {
   "display_name": "Python 3",
   "language": "python",
   "name": "python3"
  },
  "language_info": {
   "codemirror_mode": {
    "name": "ipython",
    "version": 3
   },
   "file_extension": ".py",
   "mimetype": "text/x-python",
   "name": "python",
   "nbconvert_exporter": "python",
   "pygments_lexer": "ipython3",
   "version": "3.7.12"
  },
  "papermill": {
   "default_parameters": {},
   "duration": 1865.626705,
   "end_time": "2022-04-20T13:01:13.225041",
   "environment_variables": {},
   "exception": null,
   "input_path": "__notebook__.ipynb",
   "output_path": "__notebook__.ipynb",
   "parameters": {},
   "start_time": "2022-04-20T12:30:07.598336",
   "version": "2.3.4"
  }
 },
 "nbformat": 4,
 "nbformat_minor": 5
}
