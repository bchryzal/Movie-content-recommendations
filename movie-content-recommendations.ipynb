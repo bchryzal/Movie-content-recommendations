{
 "cells": [
  {
   "cell_type": "markdown",
   "id": "3761c500",
   "metadata": {
    "papermill": {
     "duration": 0.044243,
     "end_time": "2022-04-20T11:05:51.797689",
     "exception": false,
     "start_time": "2022-04-20T11:05:51.753446",
     "status": "completed"
    },
    "tags": []
   },
   "source": [
    "## Build your own Recommendation Systems !!!"
   ]
  },
  {
   "cell_type": "code",
   "execution_count": 1,
   "id": "be2ad0ad",
   "metadata": {
    "_cell_guid": "b1076dfc-b9ad-4769-8c92-a6c4dae69d19",
    "_uuid": "8f2839f25d086af736a60e9eeb907d3b93b6e0e5",
    "execution": {
     "iopub.execute_input": "2022-04-20T11:05:51.883746Z",
     "iopub.status.busy": "2022-04-20T11:05:51.883383Z",
     "iopub.status.idle": "2022-04-20T11:05:51.894547Z",
     "shell.execute_reply": "2022-04-20T11:05:51.893520Z"
    },
    "papermill": {
     "duration": 0.056589,
     "end_time": "2022-04-20T11:05:51.897314",
     "exception": false,
     "start_time": "2022-04-20T11:05:51.840725",
     "status": "completed"
    },
    "tags": []
   },
   "outputs": [],
   "source": [
    "import numpy as np # linear algebra\n",
    "import pandas as pd # data processing, CSV file I/O (e.g. pd.read_csv)\n"
   ]
  },
  {
   "cell_type": "markdown",
   "id": "f0f45cd9",
   "metadata": {
    "papermill": {
     "duration": 0.039909,
     "end_time": "2022-04-20T11:05:51.978410",
     "exception": false,
     "start_time": "2022-04-20T11:05:51.938501",
     "status": "completed"
    },
    "tags": []
   },
   "source": [
    "# Load Data"
   ]
  },
  {
   "cell_type": "code",
   "execution_count": 2,
   "id": "b61d2b72",
   "metadata": {
    "execution": {
     "iopub.execute_input": "2022-04-20T11:05:52.065816Z",
     "iopub.status.busy": "2022-04-20T11:05:52.065285Z",
     "iopub.status.idle": "2022-04-20T11:05:52.326618Z",
     "shell.execute_reply": "2022-04-20T11:05:52.325421Z"
    },
    "papermill": {
     "duration": 0.307167,
     "end_time": "2022-04-20T11:05:52.329592",
     "exception": false,
     "start_time": "2022-04-20T11:05:52.022425",
     "status": "completed"
    },
    "tags": []
   },
   "outputs": [
    {
     "data": {
      "text/plain": [
       "((8001, 15), (1825, 14))"
      ]
     },
     "execution_count": 2,
     "metadata": {},
     "output_type": "execute_result"
    }
   ],
   "source": [
    "train = pd.read_csv('../input/ctrl-shift-intelligence-2k22/train.csv')\n",
    "test = pd.read_csv('../input/ctrl-shift-intelligence-2k22/test.csv')\n",
    "\n",
    "train.shape, test.shape"
   ]
  },
  {
   "cell_type": "markdown",
   "id": "16874e56",
   "metadata": {
    "papermill": {
     "duration": 0.042822,
     "end_time": "2022-04-20T11:05:52.417072",
     "exception": false,
     "start_time": "2022-04-20T11:05:52.374250",
     "status": "completed"
    },
    "tags": []
   },
   "source": [
    "# Understanding Data"
   ]
  },
  {
   "cell_type": "code",
   "execution_count": 3,
   "id": "6f6d1595",
   "metadata": {
    "execution": {
     "iopub.execute_input": "2022-04-20T11:05:52.501712Z",
     "iopub.status.busy": "2022-04-20T11:05:52.501433Z",
     "iopub.status.idle": "2022-04-20T11:05:52.548894Z",
     "shell.execute_reply": "2022-04-20T11:05:52.547779Z"
    },
    "papermill": {
     "duration": 0.092639,
     "end_time": "2022-04-20T11:05:52.551419",
     "exception": false,
     "start_time": "2022-04-20T11:05:52.458780",
     "status": "completed"
    },
    "tags": []
   },
   "outputs": [
    {
     "name": "stdout",
     "output_type": "stream",
     "text": [
      "<class 'pandas.core.frame.DataFrame'>\n",
      "RangeIndex: 8001 entries, 0 to 8000\n",
      "Data columns (total 15 columns):\n",
      " #   Column      Non-Null Count  Dtype  \n",
      "---  ------      --------------  -----  \n",
      " 0   Unnamed: 0  8001 non-null   int64  \n",
      " 1   userID      8001 non-null   int64  \n",
      " 2   title       8000 non-null   object \n",
      " 3   year        7946 non-null   float64\n",
      " 4   kind        7971 non-null   object \n",
      " 5   genre       7916 non-null   object \n",
      " 6   vote        7228 non-null   float64\n",
      " 7   country     7415 non-null   object \n",
      " 8   language    7305 non-null   object \n",
      " 9   cast        7694 non-null   object \n",
      " 10  director    6368 non-null   object \n",
      " 11  composer    4852 non-null   object \n",
      " 12  writer      6532 non-null   object \n",
      " 13  runtime     7073 non-null   float64\n",
      " 14  rating      7228 non-null   float64\n",
      "dtypes: float64(4), int64(2), object(9)\n",
      "memory usage: 937.7+ KB\n"
     ]
    }
   ],
   "source": [
    "train.info()"
   ]
  },
  {
   "cell_type": "code",
   "execution_count": 4,
   "id": "3294ef38",
   "metadata": {
    "execution": {
     "iopub.execute_input": "2022-04-20T11:05:52.636227Z",
     "iopub.status.busy": "2022-04-20T11:05:52.635352Z",
     "iopub.status.idle": "2022-04-20T11:05:52.676806Z",
     "shell.execute_reply": "2022-04-20T11:05:52.675643Z"
    },
    "papermill": {
     "duration": 0.086968,
     "end_time": "2022-04-20T11:05:52.679629",
     "exception": false,
     "start_time": "2022-04-20T11:05:52.592661",
     "status": "completed"
    },
    "tags": []
   },
   "outputs": [
    {
     "data": {
      "text/html": [
       "<div>\n",
       "<style scoped>\n",
       "    .dataframe tbody tr th:only-of-type {\n",
       "        vertical-align: middle;\n",
       "    }\n",
       "\n",
       "    .dataframe tbody tr th {\n",
       "        vertical-align: top;\n",
       "    }\n",
       "\n",
       "    .dataframe thead th {\n",
       "        text-align: right;\n",
       "    }\n",
       "</style>\n",
       "<table border=\"1\" class=\"dataframe\">\n",
       "  <thead>\n",
       "    <tr style=\"text-align: right;\">\n",
       "      <th></th>\n",
       "      <th>Unnamed: 0</th>\n",
       "      <th>userID</th>\n",
       "      <th>year</th>\n",
       "      <th>vote</th>\n",
       "      <th>runtime</th>\n",
       "      <th>rating</th>\n",
       "    </tr>\n",
       "  </thead>\n",
       "  <tbody>\n",
       "    <tr>\n",
       "      <th>count</th>\n",
       "      <td>8001.000000</td>\n",
       "      <td>8001.000000</td>\n",
       "      <td>7946.000000</td>\n",
       "      <td>7.228000e+03</td>\n",
       "      <td>7073.000000</td>\n",
       "      <td>7228.000000</td>\n",
       "    </tr>\n",
       "    <tr>\n",
       "      <th>mean</th>\n",
       "      <td>4000.000000</td>\n",
       "      <td>4000.000000</td>\n",
       "      <td>1995.146111</td>\n",
       "      <td>1.902652e+04</td>\n",
       "      <td>97.644140</td>\n",
       "      <td>6.716146</td>\n",
       "    </tr>\n",
       "    <tr>\n",
       "      <th>std</th>\n",
       "      <td>2309.834085</td>\n",
       "      <td>2309.834085</td>\n",
       "      <td>15.829040</td>\n",
       "      <td>9.951044e+04</td>\n",
       "      <td>64.906578</td>\n",
       "      <td>1.291765</td>\n",
       "    </tr>\n",
       "    <tr>\n",
       "      <th>min</th>\n",
       "      <td>0.000000</td>\n",
       "      <td>0.000000</td>\n",
       "      <td>1905.000000</td>\n",
       "      <td>5.000000e+00</td>\n",
       "      <td>1.000000</td>\n",
       "      <td>1.200000</td>\n",
       "    </tr>\n",
       "    <tr>\n",
       "      <th>25%</th>\n",
       "      <td>2000.000000</td>\n",
       "      <td>2000.000000</td>\n",
       "      <td>1990.000000</td>\n",
       "      <td>2.427500e+02</td>\n",
       "      <td>75.000000</td>\n",
       "      <td>6.100000</td>\n",
       "    </tr>\n",
       "    <tr>\n",
       "      <th>50%</th>\n",
       "      <td>4000.000000</td>\n",
       "      <td>4000.000000</td>\n",
       "      <td>1999.000000</td>\n",
       "      <td>1.266500e+03</td>\n",
       "      <td>93.000000</td>\n",
       "      <td>6.900000</td>\n",
       "    </tr>\n",
       "    <tr>\n",
       "      <th>75%</th>\n",
       "      <td>6000.000000</td>\n",
       "      <td>6000.000000</td>\n",
       "      <td>2003.000000</td>\n",
       "      <td>6.138500e+03</td>\n",
       "      <td>109.000000</td>\n",
       "      <td>7.600000</td>\n",
       "    </tr>\n",
       "    <tr>\n",
       "      <th>max</th>\n",
       "      <td>8000.000000</td>\n",
       "      <td>8000.000000</td>\n",
       "      <td>2023.000000</td>\n",
       "      <td>2.462087e+06</td>\n",
       "      <td>1620.000000</td>\n",
       "      <td>9.600000</td>\n",
       "    </tr>\n",
       "  </tbody>\n",
       "</table>\n",
       "</div>"
      ],
      "text/plain": [
       "        Unnamed: 0       userID         year          vote      runtime  \\\n",
       "count  8001.000000  8001.000000  7946.000000  7.228000e+03  7073.000000   \n",
       "mean   4000.000000  4000.000000  1995.146111  1.902652e+04    97.644140   \n",
       "std    2309.834085  2309.834085    15.829040  9.951044e+04    64.906578   \n",
       "min       0.000000     0.000000  1905.000000  5.000000e+00     1.000000   \n",
       "25%    2000.000000  2000.000000  1990.000000  2.427500e+02    75.000000   \n",
       "50%    4000.000000  4000.000000  1999.000000  1.266500e+03    93.000000   \n",
       "75%    6000.000000  6000.000000  2003.000000  6.138500e+03   109.000000   \n",
       "max    8000.000000  8000.000000  2023.000000  2.462087e+06  1620.000000   \n",
       "\n",
       "            rating  \n",
       "count  7228.000000  \n",
       "mean      6.716146  \n",
       "std       1.291765  \n",
       "min       1.200000  \n",
       "25%       6.100000  \n",
       "50%       6.900000  \n",
       "75%       7.600000  \n",
       "max       9.600000  "
      ]
     },
     "execution_count": 4,
     "metadata": {},
     "output_type": "execute_result"
    }
   ],
   "source": [
    "train.describe()"
   ]
  },
  {
   "cell_type": "code",
   "execution_count": 5,
   "id": "0bf798fd",
   "metadata": {
    "execution": {
     "iopub.execute_input": "2022-04-20T11:05:52.766529Z",
     "iopub.status.busy": "2022-04-20T11:05:52.766163Z",
     "iopub.status.idle": "2022-04-20T11:05:52.788801Z",
     "shell.execute_reply": "2022-04-20T11:05:52.787707Z"
    },
    "papermill": {
     "duration": 0.068826,
     "end_time": "2022-04-20T11:05:52.791064",
     "exception": false,
     "start_time": "2022-04-20T11:05:52.722238",
     "status": "completed"
    },
    "tags": []
   },
   "outputs": [
    {
     "data": {
      "text/html": [
       "<div>\n",
       "<style scoped>\n",
       "    .dataframe tbody tr th:only-of-type {\n",
       "        vertical-align: middle;\n",
       "    }\n",
       "\n",
       "    .dataframe tbody tr th {\n",
       "        vertical-align: top;\n",
       "    }\n",
       "\n",
       "    .dataframe thead th {\n",
       "        text-align: right;\n",
       "    }\n",
       "</style>\n",
       "<table border=\"1\" class=\"dataframe\">\n",
       "  <thead>\n",
       "    <tr style=\"text-align: right;\">\n",
       "      <th></th>\n",
       "      <th>Unnamed: 0</th>\n",
       "      <th>userID</th>\n",
       "      <th>title</th>\n",
       "      <th>year</th>\n",
       "      <th>kind</th>\n",
       "      <th>genre</th>\n",
       "      <th>vote</th>\n",
       "      <th>country</th>\n",
       "      <th>language</th>\n",
       "      <th>cast</th>\n",
       "      <th>director</th>\n",
       "      <th>composer</th>\n",
       "      <th>writer</th>\n",
       "      <th>runtime</th>\n",
       "      <th>rating</th>\n",
       "    </tr>\n",
       "  </thead>\n",
       "  <tbody>\n",
       "    <tr>\n",
       "      <th>0</th>\n",
       "      <td>0</td>\n",
       "      <td>0</td>\n",
       "      <td>Dinosaur Planet</td>\n",
       "      <td>2003.0</td>\n",
       "      <td>tv mini series</td>\n",
       "      <td>['Documentary', 'Animation', 'Family']</td>\n",
       "      <td>474.0</td>\n",
       "      <td>['United States']</td>\n",
       "      <td>['English']</td>\n",
       "      <td>['Christian Slater', 'Scott Sampson']</td>\n",
       "      <td>NaN</td>\n",
       "      <td>NaN</td>\n",
       "      <td>['Mike Carrol', 'Mike Carroll', 'Georgann Kane']</td>\n",
       "      <td>50.0</td>\n",
       "      <td>7.7</td>\n",
       "    </tr>\n",
       "    <tr>\n",
       "      <th>1</th>\n",
       "      <td>1</td>\n",
       "      <td>1</td>\n",
       "      <td>Character</td>\n",
       "      <td>2021.0</td>\n",
       "      <td>movie</td>\n",
       "      <td>['Crime', 'Horror', 'Thriller']</td>\n",
       "      <td>46.0</td>\n",
       "      <td>['Japan']</td>\n",
       "      <td>['Japanese']</td>\n",
       "      <td>['Masaki Suda', 'Fukase', 'Mitsuki Takahata', ...</td>\n",
       "      <td>['Akira Nagai']</td>\n",
       "      <td>['Youki Kojima']</td>\n",
       "      <td>['Takashi Nagasaki', 'Takashi Nagasaki', 'Anna...</td>\n",
       "      <td>125.0</td>\n",
       "      <td>8.3</td>\n",
       "    </tr>\n",
       "    <tr>\n",
       "      <th>2</th>\n",
       "      <td>2</td>\n",
       "      <td>2</td>\n",
       "      <td>Get Up and Dance!</td>\n",
       "      <td>1994.0</td>\n",
       "      <td>video movie</td>\n",
       "      <td>['Family']</td>\n",
       "      <td>18.0</td>\n",
       "      <td>['United States']</td>\n",
       "      <td>['English']</td>\n",
       "      <td>['Paula Abdul', 'Aurorah Allain', 'Bill Bohl',...</td>\n",
       "      <td>['Steve Purcell']</td>\n",
       "      <td>NaN</td>\n",
       "      <td>NaN</td>\n",
       "      <td>54.0</td>\n",
       "      <td>8.1</td>\n",
       "    </tr>\n",
       "    <tr>\n",
       "      <th>3</th>\n",
       "      <td>3</td>\n",
       "      <td>3</td>\n",
       "      <td>The Rise and Fall of El Chapo</td>\n",
       "      <td>2016.0</td>\n",
       "      <td>tv movie</td>\n",
       "      <td>['Documentary']</td>\n",
       "      <td>42.0</td>\n",
       "      <td>['United States']</td>\n",
       "      <td>NaN</td>\n",
       "      <td>NaN</td>\n",
       "      <td>NaN</td>\n",
       "      <td>NaN</td>\n",
       "      <td>NaN</td>\n",
       "      <td>85.0</td>\n",
       "      <td>6.9</td>\n",
       "    </tr>\n",
       "    <tr>\n",
       "      <th>4</th>\n",
       "      <td>4</td>\n",
       "      <td>4</td>\n",
       "      <td>Sick - IMDb</td>\n",
       "      <td>NaN</td>\n",
       "      <td>NaN</td>\n",
       "      <td>['Thriller']</td>\n",
       "      <td>NaN</td>\n",
       "      <td>['United States']</td>\n",
       "      <td>NaN</td>\n",
       "      <td>['Marc Menchaca', 'Gideon Adlon', 'Dylan Spray...</td>\n",
       "      <td>['John Hyams']</td>\n",
       "      <td>NaN</td>\n",
       "      <td>['Katelyn Crabb', 'Kevin Williamson']</td>\n",
       "      <td>NaN</td>\n",
       "      <td>NaN</td>\n",
       "    </tr>\n",
       "  </tbody>\n",
       "</table>\n",
       "</div>"
      ],
      "text/plain": [
       "   Unnamed: 0  userID                          title    year            kind  \\\n",
       "0           0       0                Dinosaur Planet  2003.0  tv mini series   \n",
       "1           1       1                      Character  2021.0           movie   \n",
       "2           2       2              Get Up and Dance!  1994.0     video movie   \n",
       "3           3       3  The Rise and Fall of El Chapo  2016.0        tv movie   \n",
       "4           4       4                    Sick - IMDb     NaN             NaN   \n",
       "\n",
       "                                    genre   vote            country  \\\n",
       "0  ['Documentary', 'Animation', 'Family']  474.0  ['United States']   \n",
       "1         ['Crime', 'Horror', 'Thriller']   46.0          ['Japan']   \n",
       "2                              ['Family']   18.0  ['United States']   \n",
       "3                         ['Documentary']   42.0  ['United States']   \n",
       "4                            ['Thriller']    NaN  ['United States']   \n",
       "\n",
       "       language                                               cast  \\\n",
       "0   ['English']              ['Christian Slater', 'Scott Sampson']   \n",
       "1  ['Japanese']  ['Masaki Suda', 'Fukase', 'Mitsuki Takahata', ...   \n",
       "2   ['English']  ['Paula Abdul', 'Aurorah Allain', 'Bill Bohl',...   \n",
       "3           NaN                                                NaN   \n",
       "4           NaN  ['Marc Menchaca', 'Gideon Adlon', 'Dylan Spray...   \n",
       "\n",
       "            director          composer  \\\n",
       "0                NaN               NaN   \n",
       "1    ['Akira Nagai']  ['Youki Kojima']   \n",
       "2  ['Steve Purcell']               NaN   \n",
       "3                NaN               NaN   \n",
       "4     ['John Hyams']               NaN   \n",
       "\n",
       "                                              writer  runtime  rating  \n",
       "0   ['Mike Carrol', 'Mike Carroll', 'Georgann Kane']     50.0     7.7  \n",
       "1  ['Takashi Nagasaki', 'Takashi Nagasaki', 'Anna...    125.0     8.3  \n",
       "2                                                NaN     54.0     8.1  \n",
       "3                                                NaN     85.0     6.9  \n",
       "4              ['Katelyn Crabb', 'Kevin Williamson']      NaN     NaN  "
      ]
     },
     "execution_count": 5,
     "metadata": {},
     "output_type": "execute_result"
    }
   ],
   "source": [
    "train.head()"
   ]
  },
  {
   "cell_type": "code",
   "execution_count": 6,
   "id": "023e70ac",
   "metadata": {
    "execution": {
     "iopub.execute_input": "2022-04-20T11:05:52.880621Z",
     "iopub.status.busy": "2022-04-20T11:05:52.879722Z",
     "iopub.status.idle": "2022-04-20T11:05:52.891744Z",
     "shell.execute_reply": "2022-04-20T11:05:52.891163Z"
    },
    "papermill": {
     "duration": 0.058764,
     "end_time": "2022-04-20T11:05:52.893654",
     "exception": false,
     "start_time": "2022-04-20T11:05:52.834890",
     "status": "completed"
    },
    "tags": []
   },
   "outputs": [
    {
     "data": {
      "text/plain": [
       "['Kevin Dunn']                                    33\n",
       "['Akira Kurosawa']                                16\n",
       "['Tom Clegg']                                     14\n",
       "['Werner Herzog']                                 14\n",
       "['Takashi Miike']                                 14\n",
       "                                                  ..\n",
       "['Clive Donner']                                   1\n",
       "['Margaret Selby', 'Tex Avery', 'Chuck Jones']     1\n",
       "['Elio Petri']                                     1\n",
       "['Gary Dauberman']                                 1\n",
       "['Arthur Wong', 'Brandy Yuen']                     1\n",
       "Name: director, Length: 4241, dtype: int64"
      ]
     },
     "execution_count": 6,
     "metadata": {},
     "output_type": "execute_result"
    }
   ],
   "source": [
    "train['director'].value_counts()"
   ]
  },
  {
   "cell_type": "markdown",
   "id": "48fada93",
   "metadata": {
    "papermill": {
     "duration": 0.042975,
     "end_time": "2022-04-20T11:05:52.979540",
     "exception": false,
     "start_time": "2022-04-20T11:05:52.936565",
     "status": "completed"
    },
    "tags": []
   },
   "source": [
    "## Check Missing Values"
   ]
  },
  {
   "cell_type": "code",
   "execution_count": 7,
   "id": "f6b79432",
   "metadata": {
    "execution": {
     "iopub.execute_input": "2022-04-20T11:05:53.068043Z",
     "iopub.status.busy": "2022-04-20T11:05:53.067748Z",
     "iopub.status.idle": "2022-04-20T11:05:53.084657Z",
     "shell.execute_reply": "2022-04-20T11:05:53.083622Z"
    },
    "papermill": {
     "duration": 0.063646,
     "end_time": "2022-04-20T11:05:53.087016",
     "exception": false,
     "start_time": "2022-04-20T11:05:53.023370",
     "status": "completed"
    },
    "tags": []
   },
   "outputs": [
    {
     "data": {
      "text/plain": [
       "Unnamed: 0       0\n",
       "userID           0\n",
       "title            1\n",
       "year            55\n",
       "kind            30\n",
       "genre           85\n",
       "vote           773\n",
       "country        586\n",
       "language       696\n",
       "cast           307\n",
       "director      1633\n",
       "composer      3149\n",
       "writer        1469\n",
       "runtime        928\n",
       "rating         773\n",
       "dtype: int64"
      ]
     },
     "execution_count": 7,
     "metadata": {},
     "output_type": "execute_result"
    }
   ],
   "source": [
    "train.isnull().sum()"
   ]
  },
  {
   "cell_type": "code",
   "execution_count": 8,
   "id": "022f6bec",
   "metadata": {
    "execution": {
     "iopub.execute_input": "2022-04-20T11:05:53.177135Z",
     "iopub.status.busy": "2022-04-20T11:05:53.176846Z",
     "iopub.status.idle": "2022-04-20T11:05:53.187737Z",
     "shell.execute_reply": "2022-04-20T11:05:53.186726Z"
    },
    "papermill": {
     "duration": 0.058434,
     "end_time": "2022-04-20T11:05:53.189980",
     "exception": false,
     "start_time": "2022-04-20T11:05:53.131546",
     "status": "completed"
    },
    "tags": []
   },
   "outputs": [
    {
     "data": {
      "text/plain": [
       "Unnamed: 0      0\n",
       "userID          0\n",
       "title           0\n",
       "year           15\n",
       "kind            8\n",
       "genre           8\n",
       "vote          104\n",
       "country        79\n",
       "language       97\n",
       "cast           37\n",
       "director      227\n",
       "composer      473\n",
       "writer        187\n",
       "runtime       128\n",
       "dtype: int64"
      ]
     },
     "execution_count": 8,
     "metadata": {},
     "output_type": "execute_result"
    }
   ],
   "source": [
    "test.isnull().sum()"
   ]
  },
  {
   "cell_type": "markdown",
   "id": "c75b0c46",
   "metadata": {
    "papermill": {
     "duration": 0.043507,
     "end_time": "2022-04-20T11:05:53.278206",
     "exception": false,
     "start_time": "2022-04-20T11:05:53.234699",
     "status": "completed"
    },
    "tags": []
   },
   "source": [
    "# Data Clean"
   ]
  },
  {
   "cell_type": "code",
   "execution_count": 9,
   "id": "2da69d65",
   "metadata": {
    "execution": {
     "iopub.execute_input": "2022-04-20T11:05:53.368275Z",
     "iopub.status.busy": "2022-04-20T11:05:53.367988Z",
     "iopub.status.idle": "2022-04-20T11:05:53.377050Z",
     "shell.execute_reply": "2022-04-20T11:05:53.375888Z"
    },
    "papermill": {
     "duration": 0.057669,
     "end_time": "2022-04-20T11:05:53.379414",
     "exception": false,
     "start_time": "2022-04-20T11:05:53.321745",
     "status": "completed"
    },
    "tags": []
   },
   "outputs": [
    {
     "data": {
      "text/plain": [
       "True    8001\n",
       "dtype: int64"
      ]
     },
     "execution_count": 9,
     "metadata": {},
     "output_type": "execute_result"
    }
   ],
   "source": [
    "verif = train['Unnamed: 0'] == train['userID']\n",
    "verif.value_counts()"
   ]
  },
  {
   "cell_type": "markdown",
   "id": "01f0f290",
   "metadata": {
    "papermill": {
     "duration": 0.044034,
     "end_time": "2022-04-20T11:05:53.469576",
     "exception": false,
     "start_time": "2022-04-20T11:05:53.425542",
     "status": "completed"
    },
    "tags": []
   },
   "source": [
    "So, we are going to delete this feature"
   ]
  },
  {
   "cell_type": "code",
   "execution_count": 10,
   "id": "0f5af561",
   "metadata": {
    "execution": {
     "iopub.execute_input": "2022-04-20T11:05:53.559829Z",
     "iopub.status.busy": "2022-04-20T11:05:53.559547Z",
     "iopub.status.idle": "2022-04-20T11:05:53.565053Z",
     "shell.execute_reply": "2022-04-20T11:05:53.564008Z"
    },
    "papermill": {
     "duration": 0.053398,
     "end_time": "2022-04-20T11:05:53.567320",
     "exception": false,
     "start_time": "2022-04-20T11:05:53.513922",
     "status": "completed"
    },
    "tags": []
   },
   "outputs": [],
   "source": [
    "del train['Unnamed: 0']\n",
    "del test['Unnamed: 0']"
   ]
  },
  {
   "cell_type": "markdown",
   "id": "ab7c6292",
   "metadata": {
    "papermill": {
     "duration": 0.044728,
     "end_time": "2022-04-20T11:05:53.657349",
     "exception": false,
     "start_time": "2022-04-20T11:05:53.612621",
     "status": "completed"
    },
    "tags": []
   },
   "source": [
    "### Object cols"
   ]
  },
  {
   "cell_type": "code",
   "execution_count": 11,
   "id": "d33accbf",
   "metadata": {
    "_kg_hide-output": true,
    "execution": {
     "iopub.execute_input": "2022-04-20T11:05:53.748546Z",
     "iopub.status.busy": "2022-04-20T11:05:53.747923Z",
     "iopub.status.idle": "2022-04-20T11:05:53.755046Z",
     "shell.execute_reply": "2022-04-20T11:05:53.754048Z"
    },
    "papermill": {
     "duration": 0.055087,
     "end_time": "2022-04-20T11:05:53.757237",
     "exception": false,
     "start_time": "2022-04-20T11:05:53.702150",
     "status": "completed"
    },
    "tags": []
   },
   "outputs": [
    {
     "data": {
      "text/plain": [
       "['title',\n",
       " 'kind',\n",
       " 'genre',\n",
       " 'country',\n",
       " 'language',\n",
       " 'cast',\n",
       " 'director',\n",
       " 'composer',\n",
       " 'writer']"
      ]
     },
     "execution_count": 11,
     "metadata": {},
     "output_type": "execute_result"
    }
   ],
   "source": [
    "obj_cols = []\n",
    "\n",
    "for i in train.columns:\n",
    "    if train[i].dtypes == 'object':\n",
    "        obj_cols.append(i)\n",
    "        \n",
    "        \n",
    "obj_cols"
   ]
  },
  {
   "cell_type": "markdown",
   "id": "81acbf90",
   "metadata": {
    "papermill": {
     "duration": 0.047249,
     "end_time": "2022-04-20T11:05:53.849242",
     "exception": false,
     "start_time": "2022-04-20T11:05:53.801993",
     "status": "completed"
    },
    "tags": []
   },
   "source": [
    "### Encode Label"
   ]
  },
  {
   "cell_type": "code",
   "execution_count": 12,
   "id": "bd46946f",
   "metadata": {
    "execution": {
     "iopub.execute_input": "2022-04-20T11:05:53.941696Z",
     "iopub.status.busy": "2022-04-20T11:05:53.941017Z",
     "iopub.status.idle": "2022-04-20T11:05:55.266773Z",
     "shell.execute_reply": "2022-04-20T11:05:55.265841Z"
    },
    "papermill": {
     "duration": 1.376663,
     "end_time": "2022-04-20T11:05:55.270491",
     "exception": false,
     "start_time": "2022-04-20T11:05:53.893828",
     "status": "completed"
    },
    "tags": []
   },
   "outputs": [],
   "source": [
    "from sklearn import preprocessing\n",
    "le = preprocessing.LabelEncoder()"
   ]
  },
  {
   "cell_type": "code",
   "execution_count": 13,
   "id": "7bc3eaee",
   "metadata": {
    "execution": {
     "iopub.execute_input": "2022-04-20T11:05:55.361646Z",
     "iopub.status.busy": "2022-04-20T11:05:55.361306Z",
     "iopub.status.idle": "2022-04-20T11:05:55.513931Z",
     "shell.execute_reply": "2022-04-20T11:05:55.512861Z"
    },
    "papermill": {
     "duration": 0.202144,
     "end_time": "2022-04-20T11:05:55.517338",
     "exception": false,
     "start_time": "2022-04-20T11:05:55.315194",
     "status": "completed"
    },
    "tags": []
   },
   "outputs": [
    {
     "name": "stdout",
     "output_type": "stream",
     "text": [
      "<class 'pandas.core.frame.DataFrame'>\n",
      "RangeIndex: 8001 entries, 0 to 8000\n",
      "Data columns (total 14 columns):\n",
      " #   Column    Non-Null Count  Dtype  \n",
      "---  ------    --------------  -----  \n",
      " 0   userID    8001 non-null   int64  \n",
      " 1   title     8001 non-null   int64  \n",
      " 2   year      7946 non-null   float64\n",
      " 3   kind      8001 non-null   int64  \n",
      " 4   genre     8001 non-null   int64  \n",
      " 5   vote      7228 non-null   float64\n",
      " 6   country   8001 non-null   int64  \n",
      " 7   language  8001 non-null   int64  \n",
      " 8   cast      8001 non-null   int64  \n",
      " 9   director  8001 non-null   int64  \n",
      " 10  composer  8001 non-null   int64  \n",
      " 11  writer    8001 non-null   int64  \n",
      " 12  runtime   7073 non-null   float64\n",
      " 13  rating    7228 non-null   float64\n",
      "dtypes: float64(4), int64(10)\n",
      "memory usage: 875.2 KB\n"
     ]
    }
   ],
   "source": [
    "for col in obj_cols:\n",
    "    train[col] = le.fit_transform(train[col])\n",
    "    test[col] = le.fit_transform(test[col])\n",
    "    \n",
    "train.info()"
   ]
  },
  {
   "cell_type": "markdown",
   "id": "c490c44c",
   "metadata": {
    "papermill": {
     "duration": 0.044861,
     "end_time": "2022-04-20T11:05:55.607411",
     "exception": false,
     "start_time": "2022-04-20T11:05:55.562550",
     "status": "completed"
    },
    "tags": []
   },
   "source": [
    "### Imputer Data"
   ]
  },
  {
   "cell_type": "code",
   "execution_count": 14,
   "id": "b0684d96",
   "metadata": {
    "execution": {
     "iopub.execute_input": "2022-04-20T11:05:55.699091Z",
     "iopub.status.busy": "2022-04-20T11:05:55.698742Z",
     "iopub.status.idle": "2022-04-20T11:05:55.942762Z",
     "shell.execute_reply": "2022-04-20T11:05:55.941636Z"
    },
    "papermill": {
     "duration": 0.293218,
     "end_time": "2022-04-20T11:05:55.945627",
     "exception": false,
     "start_time": "2022-04-20T11:05:55.652409",
     "status": "completed"
    },
    "tags": []
   },
   "outputs": [],
   "source": [
    "from sklearn.impute import KNNImputer\n",
    "\n",
    "knni = KNNImputer(n_neighbors=2)"
   ]
  },
  {
   "cell_type": "code",
   "execution_count": 15,
   "id": "2ccc4180",
   "metadata": {
    "execution": {
     "iopub.execute_input": "2022-04-20T11:05:56.038780Z",
     "iopub.status.busy": "2022-04-20T11:05:56.038452Z",
     "iopub.status.idle": "2022-04-20T11:05:56.054463Z",
     "shell.execute_reply": "2022-04-20T11:05:56.053567Z"
    },
    "papermill": {
     "duration": 0.065795,
     "end_time": "2022-04-20T11:05:56.056469",
     "exception": false,
     "start_time": "2022-04-20T11:05:55.990674",
     "status": "completed"
    },
    "tags": []
   },
   "outputs": [
    {
     "data": {
      "text/plain": [
       "(4, 3)"
      ]
     },
     "execution_count": 15,
     "metadata": {},
     "output_type": "execute_result"
    }
   ],
   "source": [
    "null_train_cols = []\n",
    "for col in train.columns:\n",
    "    if train[col].isnull().sum().any():\n",
    "        null_train_cols.append(col)\n",
    "        \n",
    "null_test_cols = []\n",
    "for col in test.columns:\n",
    "    if test[col].isnull().sum().any():\n",
    "        null_test_cols.append(col)\n",
    "        \n",
    "len(null_train_cols), len(null_test_cols)"
   ]
  },
  {
   "cell_type": "code",
   "execution_count": 16,
   "id": "4b668cce",
   "metadata": {
    "execution": {
     "iopub.execute_input": "2022-04-20T11:05:56.149148Z",
     "iopub.status.busy": "2022-04-20T11:05:56.148307Z",
     "iopub.status.idle": "2022-04-20T11:05:56.153803Z",
     "shell.execute_reply": "2022-04-20T11:05:56.153166Z"
    },
    "papermill": {
     "duration": 0.053646,
     "end_time": "2022-04-20T11:05:56.155579",
     "exception": false,
     "start_time": "2022-04-20T11:05:56.101933",
     "status": "completed"
    },
    "tags": []
   },
   "outputs": [
    {
     "data": {
      "text/plain": [
       "['year', 'vote', 'runtime', 'rating']"
      ]
     },
     "execution_count": 16,
     "metadata": {},
     "output_type": "execute_result"
    }
   ],
   "source": [
    "null_train_cols"
   ]
  },
  {
   "cell_type": "markdown",
   "id": "0a6e555e",
   "metadata": {
    "papermill": {
     "duration": 0.046761,
     "end_time": "2022-04-20T11:05:56.249296",
     "exception": false,
     "start_time": "2022-04-20T11:05:56.202535",
     "status": "completed"
    },
    "tags": []
   },
   "source": [
    "- Impute Train Data"
   ]
  },
  {
   "cell_type": "code",
   "execution_count": 17,
   "id": "3196f4be",
   "metadata": {
    "execution": {
     "iopub.execute_input": "2022-04-20T11:05:56.344569Z",
     "iopub.status.busy": "2022-04-20T11:05:56.343304Z",
     "iopub.status.idle": "2022-04-20T11:05:57.587741Z",
     "shell.execute_reply": "2022-04-20T11:05:57.586738Z"
    },
    "papermill": {
     "duration": 1.296176,
     "end_time": "2022-04-20T11:05:57.590590",
     "exception": false,
     "start_time": "2022-04-20T11:05:56.294414",
     "status": "completed"
    },
    "tags": []
   },
   "outputs": [
    {
     "data": {
      "text/plain": [
       "userID      0\n",
       "title       0\n",
       "year        0\n",
       "kind        0\n",
       "genre       0\n",
       "vote        0\n",
       "country     0\n",
       "language    0\n",
       "cast        0\n",
       "director    0\n",
       "composer    0\n",
       "writer      0\n",
       "runtime     0\n",
       "rating      0\n",
       "dtype: int64"
      ]
     },
     "execution_count": 17,
     "metadata": {},
     "output_type": "execute_result"
    }
   ],
   "source": [
    "imput_train = pd.DataFrame(knni.fit_transform(train[null_train_cols]))\n",
    "\n",
    "iterate = 0\n",
    "for col in null_train_cols:\n",
    "    train[col] = imput_train[iterate]\n",
    "    iterate +=1\n",
    "    \n",
    "del imput_train\n",
    "train.isnull().sum()"
   ]
  },
  {
   "cell_type": "markdown",
   "id": "4f54353f",
   "metadata": {
    "papermill": {
     "duration": 0.046356,
     "end_time": "2022-04-20T11:05:57.684866",
     "exception": false,
     "start_time": "2022-04-20T11:05:57.638510",
     "status": "completed"
    },
    "tags": []
   },
   "source": [
    "- Impute Test Data"
   ]
  },
  {
   "cell_type": "code",
   "execution_count": 18,
   "id": "758708d9",
   "metadata": {
    "execution": {
     "iopub.execute_input": "2022-04-20T11:05:57.777784Z",
     "iopub.status.busy": "2022-04-20T11:05:57.777457Z",
     "iopub.status.idle": "2022-04-20T11:05:57.839302Z",
     "shell.execute_reply": "2022-04-20T11:05:57.838455Z"
    },
    "papermill": {
     "duration": 0.112234,
     "end_time": "2022-04-20T11:05:57.842259",
     "exception": false,
     "start_time": "2022-04-20T11:05:57.730025",
     "status": "completed"
    },
    "tags": []
   },
   "outputs": [
    {
     "data": {
      "text/plain": [
       "userID      0\n",
       "title       0\n",
       "year        0\n",
       "kind        0\n",
       "genre       0\n",
       "vote        0\n",
       "country     0\n",
       "language    0\n",
       "cast        0\n",
       "director    0\n",
       "composer    0\n",
       "writer      0\n",
       "runtime     0\n",
       "dtype: int64"
      ]
     },
     "execution_count": 18,
     "metadata": {},
     "output_type": "execute_result"
    }
   ],
   "source": [
    "imput_test = pd.DataFrame(knni.fit_transform(test[null_test_cols]))\n",
    "\n",
    "iterate = 0\n",
    "for col in null_test_cols:\n",
    "    test[col] = imput_test[iterate]\n",
    "    iterate +=1\n",
    "    \n",
    "test.isnull().sum()"
   ]
  },
  {
   "cell_type": "markdown",
   "id": "85f2a4b2",
   "metadata": {
    "papermill": {
     "duration": 0.046284,
     "end_time": "2022-04-20T11:05:57.971076",
     "exception": false,
     "start_time": "2022-04-20T11:05:57.924792",
     "status": "completed"
    },
    "tags": []
   },
   "source": [
    "# Modeling"
   ]
  },
  {
   "cell_type": "markdown",
   "id": "d7b0ccfa",
   "metadata": {
    "papermill": {
     "duration": 0.048034,
     "end_time": "2022-04-20T11:05:58.068097",
     "exception": false,
     "start_time": "2022-04-20T11:05:58.020063",
     "status": "completed"
    },
    "tags": []
   },
   "source": [
    "### Split Data"
   ]
  },
  {
   "cell_type": "code",
   "execution_count": 19,
   "id": "1e95cac9",
   "metadata": {
    "execution": {
     "iopub.execute_input": "2022-04-20T11:05:58.163378Z",
     "iopub.status.busy": "2022-04-20T11:05:58.163011Z",
     "iopub.status.idle": "2022-04-20T11:05:58.172784Z",
     "shell.execute_reply": "2022-04-20T11:05:58.172180Z"
    },
    "papermill": {
     "duration": 0.059868,
     "end_time": "2022-04-20T11:05:58.174808",
     "exception": false,
     "start_time": "2022-04-20T11:05:58.114940",
     "status": "completed"
    },
    "tags": []
   },
   "outputs": [
    {
     "data": {
      "text/plain": [
       "(8001, 12)"
      ]
     },
     "execution_count": 19,
     "metadata": {},
     "output_type": "execute_result"
    }
   ],
   "source": [
    "del train['userID']\n",
    "del test['userID']\n",
    "\n",
    "X = train.copy()\n",
    "y = X.pop('rating')\n",
    "\n",
    "X.shape"
   ]
  },
  {
   "cell_type": "markdown",
   "id": "f36a4c09",
   "metadata": {
    "papermill": {
     "duration": 0.046714,
     "end_time": "2022-04-20T11:05:58.269671",
     "exception": false,
     "start_time": "2022-04-20T11:05:58.222957",
     "status": "completed"
    },
    "tags": []
   },
   "source": [
    "### Try FLAML"
   ]
  },
  {
   "cell_type": "code",
   "execution_count": 20,
   "id": "c489eec1",
   "metadata": {
    "_kg_hide-output": true,
    "execution": {
     "iopub.execute_input": "2022-04-20T11:05:58.368391Z",
     "iopub.status.busy": "2022-04-20T11:05:58.367892Z",
     "iopub.status.idle": "2022-04-20T11:06:24.071226Z",
     "shell.execute_reply": "2022-04-20T11:06:24.070250Z"
    },
    "papermill": {
     "duration": 25.7571,
     "end_time": "2022-04-20T11:06:24.073992",
     "exception": false,
     "start_time": "2022-04-20T11:05:58.316892",
     "status": "completed"
    },
    "tags": []
   },
   "outputs": [
    {
     "name": "stdout",
     "output_type": "stream",
     "text": [
      "Collecting flaml\r\n",
      "  Downloading FLAML-1.0.0-py3-none-any.whl (157 kB)\r\n",
      "\u001b[2K     \u001b[90m━━━━━━━━━━━━━━━━━━━━━━━━━━━━━━━━━━━━━━━\u001b[0m \u001b[32m157.2/157.2 KB\u001b[0m \u001b[31m1.1 MB/s\u001b[0m eta \u001b[36m0:00:00\u001b[0m\r\n",
      "\u001b[?25hCollecting xgboost<=1.3.3,>=0.90\r\n",
      "  Downloading xgboost-1.3.3-py3-none-manylinux2010_x86_64.whl (157.5 MB)\r\n",
      "\u001b[2K     \u001b[90m━━━━━━━━━━━━━━━━━━━━━━━━━━━━━━━━━━━━━━━\u001b[0m \u001b[32m157.5/157.5 MB\u001b[0m \u001b[31m6.0 MB/s\u001b[0m eta \u001b[36m0:00:00\u001b[0m\r\n",
      "\u001b[?25hRequirement already satisfied: lightgbm>=2.3.1 in /opt/conda/lib/python3.7/site-packages (from flaml) (3.3.1)\r\n",
      "Requirement already satisfied: NumPy>=1.16.2 in /opt/conda/lib/python3.7/site-packages (from flaml) (1.21.5)\r\n",
      "Requirement already satisfied: scipy>=1.4.1 in /opt/conda/lib/python3.7/site-packages (from flaml) (1.7.3)\r\n",
      "Requirement already satisfied: scikit-learn>=0.24 in /opt/conda/lib/python3.7/site-packages (from flaml) (1.0.2)\r\n",
      "Requirement already satisfied: pandas>=1.1.4 in /opt/conda/lib/python3.7/site-packages (from flaml) (1.3.5)\r\n",
      "Requirement already satisfied: wheel in /opt/conda/lib/python3.7/site-packages (from lightgbm>=2.3.1->flaml) (0.37.1)\r\n",
      "Requirement already satisfied: python-dateutil>=2.7.3 in /opt/conda/lib/python3.7/site-packages (from pandas>=1.1.4->flaml) (2.8.2)\r\n",
      "Requirement already satisfied: pytz>=2017.3 in /opt/conda/lib/python3.7/site-packages (from pandas>=1.1.4->flaml) (2021.3)\r\n",
      "Requirement already satisfied: joblib>=0.11 in /opt/conda/lib/python3.7/site-packages (from scikit-learn>=0.24->flaml) (1.0.1)\r\n",
      "Requirement already satisfied: threadpoolctl>=2.0.0 in /opt/conda/lib/python3.7/site-packages (from scikit-learn>=0.24->flaml) (3.1.0)\r\n",
      "Requirement already satisfied: six>=1.5 in /opt/conda/lib/python3.7/site-packages (from python-dateutil>=2.7.3->pandas>=1.1.4->flaml) (1.16.0)\r\n",
      "Installing collected packages: xgboost, flaml\r\n",
      "  Attempting uninstall: xgboost\r\n",
      "    Found existing installation: xgboost 1.5.2\r\n",
      "    Uninstalling xgboost-1.5.2:\r\n",
      "      Successfully uninstalled xgboost-1.5.2\r\n",
      "Successfully installed flaml-1.0.0 xgboost-1.3.3\r\n",
      "\u001b[33mWARNING: Running pip as the 'root' user can result in broken permissions and conflicting behaviour with the system package manager. It is recommended to use a virtual environment instead: https://pip.pypa.io/warnings/venv\u001b[0m\u001b[33m\r\n",
      "\u001b[0m"
     ]
    }
   ],
   "source": [
    "!pip install flaml"
   ]
  },
  {
   "cell_type": "code",
   "execution_count": 21,
   "id": "2d346113",
   "metadata": {
    "execution": {
     "iopub.execute_input": "2022-04-20T11:06:24.242037Z",
     "iopub.status.busy": "2022-04-20T11:06:24.241685Z",
     "iopub.status.idle": "2022-04-20T11:06:27.064692Z",
     "shell.execute_reply": "2022-04-20T11:06:27.063692Z"
    },
    "papermill": {
     "duration": 2.910342,
     "end_time": "2022-04-20T11:06:27.067386",
     "exception": false,
     "start_time": "2022-04-20T11:06:24.157044",
     "status": "completed"
    },
    "tags": []
   },
   "outputs": [
    {
     "data": {
      "text/html": [
       "<style type='text/css'>\n",
       ".datatable table.frame { margin-bottom: 0; }\n",
       ".datatable table.frame thead { border-bottom: none; }\n",
       ".datatable table.frame tr.coltypes td {  color: #FFFFFF;  line-height: 6px;  padding: 0 0.5em;}\n",
       ".datatable .bool    { background: #DDDD99; }\n",
       ".datatable .object  { background: #565656; }\n",
       ".datatable .int     { background: #5D9E5D; }\n",
       ".datatable .float   { background: #4040CC; }\n",
       ".datatable .str     { background: #CC4040; }\n",
       ".datatable .time    { background: #40CC40; }\n",
       ".datatable .row_index {  background: var(--jp-border-color3);  border-right: 1px solid var(--jp-border-color0);  color: var(--jp-ui-font-color3);  font-size: 9px;}\n",
       ".datatable .frame tbody td { text-align: left; }\n",
       ".datatable .frame tr.coltypes .row_index {  background: var(--jp-border-color0);}\n",
       ".datatable th:nth-child(2) { padding-left: 12px; }\n",
       ".datatable .hellipsis {  color: var(--jp-cell-editor-border-color);}\n",
       ".datatable .vellipsis {  background: var(--jp-layout-color0);  color: var(--jp-cell-editor-border-color);}\n",
       ".datatable .na {  color: var(--jp-cell-editor-border-color);  font-size: 80%;}\n",
       ".datatable .sp {  opacity: 0.25;}\n",
       ".datatable .footer { font-size: 9px; }\n",
       ".datatable .frame_dimensions {  background: var(--jp-border-color3);  border-top: 1px solid var(--jp-border-color0);  color: var(--jp-ui-font-color3);  display: inline-block;  opacity: 0.6;  padding: 1px 10px 1px 5px;}\n",
       "</style>\n"
      ],
      "text/plain": [
       "<IPython.core.display.HTML object>"
      ]
     },
     "metadata": {},
     "output_type": "display_data"
    }
   ],
   "source": [
    "from flaml import AutoML\n",
    "automl = AutoML()\n",
    "\n",
    "from sklearn.model_selection import train_test_split\n",
    "X_train, X_test, y_train, y_test = train_test_split(X, y, test_size=0.20, random_state=42)"
   ]
  },
  {
   "cell_type": "markdown",
   "id": "37888c04",
   "metadata": {
    "papermill": {
     "duration": 0.113995,
     "end_time": "2022-04-20T11:06:27.273883",
     "exception": false,
     "start_time": "2022-04-20T11:06:27.159888",
     "status": "completed"
    },
    "tags": []
   },
   "source": [
    "### Train Model"
   ]
  },
  {
   "cell_type": "code",
   "execution_count": 22,
   "id": "9e1357bf",
   "metadata": {
    "_kg_hide-output": true,
    "collapsed": true,
    "execution": {
     "iopub.execute_input": "2022-04-20T11:06:27.482588Z",
     "iopub.status.busy": "2022-04-20T11:06:27.481922Z",
     "iopub.status.idle": "2022-04-20T11:27:32.989258Z",
     "shell.execute_reply": "2022-04-20T11:27:32.987973Z"
    },
    "jupyter": {
     "outputs_hidden": true
    },
    "papermill": {
     "duration": 1265.792058,
     "end_time": "2022-04-20T11:27:33.172192",
     "exception": false,
     "start_time": "2022-04-20T11:06:27.380134",
     "status": "completed"
    },
    "tags": []
   },
   "outputs": [
    {
     "name": "stderr",
     "output_type": "stream",
     "text": [
      "[flaml.automl: 04-20 11:06:27] {2105} INFO - task = regression\n",
      "[flaml.automl: 04-20 11:06:27] {2107} INFO - Data split method: uniform\n",
      "[flaml.automl: 04-20 11:06:27] {2111} INFO - Evaluation method: cv\n",
      "[flaml.automl: 04-20 11:06:27] {2188} INFO - Minimizing error metric: rmse\n",
      "[flaml.automl: 04-20 11:06:27] {2281} INFO - List of ML learners in AutoML Run: ['lgbm', 'rf', 'catboost', 'xgboost', 'extra_tree', 'xgb_limitdepth']\n",
      "[flaml.automl: 04-20 11:06:27] {2567} INFO - iteration 0, current learner lgbm\n",
      "[flaml.automl: 04-20 11:06:28] {2698} INFO - Estimated sufficient time budget=2641s. Estimated necessary time budget=23s.\n",
      "[flaml.automl: 04-20 11:06:28] {2750} INFO -  at 0.5s,\testimator lgbm's best error=1.2084,\tbest estimator lgbm's best error=1.2084\n",
      "[flaml.automl: 04-20 11:06:28] {2567} INFO - iteration 1, current learner lgbm\n",
      "[flaml.automl: 04-20 11:06:28] {2750} INFO -  at 0.7s,\testimator lgbm's best error=1.2084,\tbest estimator lgbm's best error=1.2084\n",
      "[flaml.automl: 04-20 11:06:28] {2567} INFO - iteration 2, current learner lgbm\n",
      "[flaml.automl: 04-20 11:06:28] {2750} INFO -  at 0.8s,\testimator lgbm's best error=1.1449,\tbest estimator lgbm's best error=1.1449\n",
      "[flaml.automl: 04-20 11:06:28] {2567} INFO - iteration 3, current learner lgbm\n",
      "[flaml.automl: 04-20 11:06:28] {2750} INFO -  at 0.9s,\testimator lgbm's best error=0.9969,\tbest estimator lgbm's best error=0.9969\n",
      "[flaml.automl: 04-20 11:06:28] {2567} INFO - iteration 4, current learner lgbm\n",
      "[flaml.automl: 04-20 11:06:28] {2750} INFO -  at 1.0s,\testimator lgbm's best error=0.9969,\tbest estimator lgbm's best error=0.9969\n",
      "[flaml.automl: 04-20 11:06:28] {2567} INFO - iteration 5, current learner lgbm\n",
      "[flaml.automl: 04-20 11:06:28] {2750} INFO -  at 1.1s,\testimator lgbm's best error=0.9678,\tbest estimator lgbm's best error=0.9678\n",
      "[flaml.automl: 04-20 11:06:28] {2567} INFO - iteration 6, current learner lgbm\n",
      "[flaml.automl: 04-20 11:06:28] {2750} INFO -  at 1.3s,\testimator lgbm's best error=0.9678,\tbest estimator lgbm's best error=0.9678\n",
      "[flaml.automl: 04-20 11:06:28] {2567} INFO - iteration 7, current learner lgbm\n",
      "[flaml.automl: 04-20 11:06:28] {2750} INFO -  at 1.4s,\testimator lgbm's best error=0.9678,\tbest estimator lgbm's best error=0.9678\n",
      "[flaml.automl: 04-20 11:06:28] {2567} INFO - iteration 8, current learner lgbm\n",
      "[flaml.automl: 04-20 11:06:29] {2750} INFO -  at 1.6s,\testimator lgbm's best error=0.9350,\tbest estimator lgbm's best error=0.9350\n",
      "[flaml.automl: 04-20 11:06:29] {2567} INFO - iteration 9, current learner xgboost\n",
      "[flaml.automl: 04-20 11:06:29] {2750} INFO -  at 1.8s,\testimator xgboost's best error=4.2581,\tbest estimator lgbm's best error=0.9350\n",
      "[flaml.automl: 04-20 11:06:29] {2567} INFO - iteration 10, current learner xgboost\n",
      "[flaml.automl: 04-20 11:06:29] {2750} INFO -  at 2.0s,\testimator xgboost's best error=4.2581,\tbest estimator lgbm's best error=0.9350\n",
      "[flaml.automl: 04-20 11:06:29] {2567} INFO - iteration 11, current learner extra_tree\n",
      "[flaml.automl: 04-20 11:06:31] {2750} INFO -  at 3.6s,\testimator extra_tree's best error=1.1940,\tbest estimator lgbm's best error=0.9350\n",
      "[flaml.automl: 04-20 11:06:31] {2567} INFO - iteration 12, current learner xgboost\n",
      "[flaml.automl: 04-20 11:06:31] {2750} INFO -  at 3.8s,\testimator xgboost's best error=2.1965,\tbest estimator lgbm's best error=0.9350\n",
      "[flaml.automl: 04-20 11:06:31] {2567} INFO - iteration 13, current learner xgboost\n",
      "[flaml.automl: 04-20 11:06:31] {2750} INFO -  at 4.0s,\testimator xgboost's best error=1.0739,\tbest estimator lgbm's best error=0.9350\n",
      "[flaml.automl: 04-20 11:06:31] {2567} INFO - iteration 14, current learner xgboost\n",
      "[flaml.automl: 04-20 11:06:31] {2750} INFO -  at 4.2s,\testimator xgboost's best error=1.0739,\tbest estimator lgbm's best error=0.9350\n",
      "[flaml.automl: 04-20 11:06:31] {2567} INFO - iteration 15, current learner lgbm\n",
      "[flaml.automl: 04-20 11:06:31] {2750} INFO -  at 4.3s,\testimator lgbm's best error=0.9350,\tbest estimator lgbm's best error=0.9350\n",
      "[flaml.automl: 04-20 11:06:31] {2567} INFO - iteration 16, current learner xgboost\n",
      "[flaml.automl: 04-20 11:06:31] {2750} INFO -  at 4.5s,\testimator xgboost's best error=1.0739,\tbest estimator lgbm's best error=0.9350\n",
      "[flaml.automl: 04-20 11:06:32] {2567} INFO - iteration 17, current learner lgbm\n",
      "[flaml.automl: 04-20 11:06:32] {2750} INFO -  at 5.4s,\testimator lgbm's best error=0.8558,\tbest estimator lgbm's best error=0.8558\n",
      "[flaml.automl: 04-20 11:06:32] {2567} INFO - iteration 18, current learner xgboost\n",
      "[flaml.automl: 04-20 11:06:33] {2750} INFO -  at 5.6s,\testimator xgboost's best error=1.0004,\tbest estimator lgbm's best error=0.8558\n",
      "[flaml.automl: 04-20 11:06:33] {2567} INFO - iteration 19, current learner rf\n",
      "[flaml.automl: 04-20 11:06:34] {2750} INFO -  at 7.1s,\testimator rf's best error=1.1623,\tbest estimator lgbm's best error=0.8558\n",
      "[flaml.automl: 04-20 11:06:34] {2567} INFO - iteration 20, current learner rf\n",
      "[flaml.automl: 04-20 11:06:35] {2750} INFO -  at 8.3s,\testimator rf's best error=1.0517,\tbest estimator lgbm's best error=0.8558\n",
      "[flaml.automl: 04-20 11:06:35] {2567} INFO - iteration 21, current learner xgboost\n",
      "[flaml.automl: 04-20 11:06:36] {2750} INFO -  at 8.6s,\testimator xgboost's best error=0.9558,\tbest estimator lgbm's best error=0.8558\n",
      "[flaml.automl: 04-20 11:06:36] {2567} INFO - iteration 22, current learner lgbm\n",
      "[flaml.automl: 04-20 11:06:37] {2750} INFO -  at 9.6s,\testimator lgbm's best error=0.8558,\tbest estimator lgbm's best error=0.8558\n",
      "[flaml.automl: 04-20 11:06:37] {2567} INFO - iteration 23, current learner lgbm\n",
      "[flaml.automl: 04-20 11:06:37] {2750} INFO -  at 10.1s,\testimator lgbm's best error=0.8558,\tbest estimator lgbm's best error=0.8558\n",
      "[flaml.automl: 04-20 11:06:37] {2567} INFO - iteration 24, current learner extra_tree\n",
      "[flaml.automl: 04-20 11:06:38] {2750} INFO -  at 11.3s,\testimator extra_tree's best error=1.1221,\tbest estimator lgbm's best error=0.8558\n",
      "[flaml.automl: 04-20 11:06:38] {2567} INFO - iteration 25, current learner extra_tree\n",
      "[flaml.automl: 04-20 11:06:40] {2750} INFO -  at 12.5s,\testimator extra_tree's best error=1.1221,\tbest estimator lgbm's best error=0.8558\n",
      "[flaml.automl: 04-20 11:06:40] {2567} INFO - iteration 26, current learner lgbm\n",
      "[flaml.automl: 04-20 11:06:40] {2750} INFO -  at 13.1s,\testimator lgbm's best error=0.8558,\tbest estimator lgbm's best error=0.8558\n",
      "[flaml.automl: 04-20 11:06:40] {2567} INFO - iteration 27, current learner xgboost\n",
      "[flaml.automl: 04-20 11:06:40] {2750} INFO -  at 13.3s,\testimator xgboost's best error=0.9558,\tbest estimator lgbm's best error=0.8558\n",
      "[flaml.automl: 04-20 11:06:40] {2567} INFO - iteration 28, current learner xgboost\n",
      "[flaml.automl: 04-20 11:06:41] {2750} INFO -  at 13.6s,\testimator xgboost's best error=0.9378,\tbest estimator lgbm's best error=0.8558\n",
      "[flaml.automl: 04-20 11:06:41] {2567} INFO - iteration 29, current learner xgboost\n",
      "[flaml.automl: 04-20 11:06:41] {2750} INFO -  at 13.9s,\testimator xgboost's best error=0.9378,\tbest estimator lgbm's best error=0.8558\n",
      "[flaml.automl: 04-20 11:06:41] {2567} INFO - iteration 30, current learner lgbm\n",
      "[flaml.automl: 04-20 11:06:42] {2750} INFO -  at 14.9s,\testimator lgbm's best error=0.8393,\tbest estimator lgbm's best error=0.8393\n",
      "[flaml.automl: 04-20 11:06:42] {2567} INFO - iteration 31, current learner lgbm\n",
      "[flaml.automl: 04-20 11:06:45] {2750} INFO -  at 18.1s,\testimator lgbm's best error=0.8393,\tbest estimator lgbm's best error=0.8393\n",
      "[flaml.automl: 04-20 11:06:45] {2567} INFO - iteration 32, current learner lgbm\n",
      "[flaml.automl: 04-20 11:06:46] {2750} INFO -  at 18.7s,\testimator lgbm's best error=0.8393,\tbest estimator lgbm's best error=0.8393\n",
      "[flaml.automl: 04-20 11:06:46] {2567} INFO - iteration 33, current learner xgboost\n",
      "[flaml.automl: 04-20 11:06:46] {2750} INFO -  at 18.9s,\testimator xgboost's best error=0.9378,\tbest estimator lgbm's best error=0.8393\n",
      "[flaml.automl: 04-20 11:06:46] {2567} INFO - iteration 34, current learner lgbm\n",
      "[flaml.automl: 04-20 11:06:49] {2750} INFO -  at 21.6s,\testimator lgbm's best error=0.8393,\tbest estimator lgbm's best error=0.8393\n",
      "[flaml.automl: 04-20 11:06:49] {2567} INFO - iteration 35, current learner catboost\n",
      "[flaml.automl: 04-20 11:06:54] {2750} INFO -  at 26.7s,\testimator catboost's best error=0.8570,\tbest estimator lgbm's best error=0.8393\n",
      "[flaml.automl: 04-20 11:06:54] {2567} INFO - iteration 36, current learner rf\n",
      "[flaml.automl: 04-20 11:06:55] {2750} INFO -  at 27.9s,\testimator rf's best error=1.0517,\tbest estimator lgbm's best error=0.8393\n",
      "[flaml.automl: 04-20 11:06:55] {2567} INFO - iteration 37, current learner extra_tree\n",
      "[flaml.automl: 04-20 11:06:56] {2750} INFO -  at 29.2s,\testimator extra_tree's best error=1.0620,\tbest estimator lgbm's best error=0.8393\n",
      "[flaml.automl: 04-20 11:06:56] {2567} INFO - iteration 38, current learner catboost\n",
      "[flaml.automl: 04-20 11:07:04] {2750} INFO -  at 37.0s,\testimator catboost's best error=0.8547,\tbest estimator lgbm's best error=0.8393\n",
      "[flaml.automl: 04-20 11:07:04] {2567} INFO - iteration 39, current learner xgboost\n",
      "[flaml.automl: 04-20 11:07:05] {2750} INFO -  at 37.6s,\testimator xgboost's best error=0.9003,\tbest estimator lgbm's best error=0.8393\n",
      "[flaml.automl: 04-20 11:07:05] {2567} INFO - iteration 40, current learner rf\n",
      "[flaml.automl: 04-20 11:07:06] {2750} INFO -  at 39.1s,\testimator rf's best error=0.9880,\tbest estimator lgbm's best error=0.8393\n",
      "[flaml.automl: 04-20 11:07:06] {2567} INFO - iteration 41, current learner xgboost\n",
      "[flaml.automl: 04-20 11:07:06] {2750} INFO -  at 39.4s,\testimator xgboost's best error=0.9003,\tbest estimator lgbm's best error=0.8393\n",
      "[flaml.automl: 04-20 11:07:06] {2567} INFO - iteration 42, current learner xgboost\n",
      "[flaml.automl: 04-20 11:07:07] {2750} INFO -  at 40.1s,\testimator xgboost's best error=0.8891,\tbest estimator lgbm's best error=0.8393\n",
      "[flaml.automl: 04-20 11:07:07] {2567} INFO - iteration 43, current learner lgbm\n",
      "[flaml.automl: 04-20 11:07:08] {2750} INFO -  at 40.7s,\testimator lgbm's best error=0.8393,\tbest estimator lgbm's best error=0.8393\n",
      "[flaml.automl: 04-20 11:07:08] {2567} INFO - iteration 44, current learner xgboost\n",
      "[flaml.automl: 04-20 11:07:08] {2750} INFO -  at 41.2s,\testimator xgboost's best error=0.8891,\tbest estimator lgbm's best error=0.8393\n",
      "[flaml.automl: 04-20 11:07:08] {2567} INFO - iteration 45, current learner extra_tree\n",
      "[flaml.automl: 04-20 11:07:10] {2750} INFO -  at 42.7s,\testimator extra_tree's best error=1.0200,\tbest estimator lgbm's best error=0.8393\n",
      "[flaml.automl: 04-20 11:07:10] {2567} INFO - iteration 46, current learner xgboost\n",
      "[flaml.automl: 04-20 11:07:11] {2750} INFO -  at 43.9s,\testimator xgboost's best error=0.8751,\tbest estimator lgbm's best error=0.8393\n",
      "[flaml.automl: 04-20 11:07:11] {2567} INFO - iteration 47, current learner lgbm\n",
      "[flaml.automl: 04-20 11:07:11] {2750} INFO -  at 44.4s,\testimator lgbm's best error=0.8393,\tbest estimator lgbm's best error=0.8393\n",
      "[flaml.automl: 04-20 11:07:11] {2567} INFO - iteration 48, current learner xgboost\n",
      "[flaml.automl: 04-20 11:07:12] {2750} INFO -  at 45.0s,\testimator xgboost's best error=0.8751,\tbest estimator lgbm's best error=0.8393\n",
      "[flaml.automl: 04-20 11:07:12] {2567} INFO - iteration 49, current learner lgbm\n",
      "[flaml.automl: 04-20 11:07:15] {2750} INFO -  at 48.1s,\testimator lgbm's best error=0.8393,\tbest estimator lgbm's best error=0.8393\n",
      "[flaml.automl: 04-20 11:07:15] {2567} INFO - iteration 50, current learner rf\n",
      "[flaml.automl: 04-20 11:07:17] {2750} INFO -  at 50.0s,\testimator rf's best error=0.9410,\tbest estimator lgbm's best error=0.8393\n",
      "[flaml.automl: 04-20 11:07:17] {2567} INFO - iteration 51, current learner extra_tree\n",
      "[flaml.automl: 04-20 11:07:19] {2750} INFO -  at 51.6s,\testimator extra_tree's best error=1.0200,\tbest estimator lgbm's best error=0.8393\n",
      "[flaml.automl: 04-20 11:07:19] {2567} INFO - iteration 52, current learner rf\n",
      "[flaml.automl: 04-20 11:07:20] {2750} INFO -  at 52.9s,\testimator rf's best error=0.9410,\tbest estimator lgbm's best error=0.8393\n",
      "[flaml.automl: 04-20 11:07:20] {2567} INFO - iteration 53, current learner lgbm\n",
      "[flaml.automl: 04-20 11:07:21] {2750} INFO -  at 54.1s,\testimator lgbm's best error=0.8350,\tbest estimator lgbm's best error=0.8350\n",
      "[flaml.automl: 04-20 11:07:21] {2567} INFO - iteration 54, current learner lgbm\n",
      "[flaml.automl: 04-20 11:07:22] {2750} INFO -  at 55.0s,\testimator lgbm's best error=0.8350,\tbest estimator lgbm's best error=0.8350\n",
      "[flaml.automl: 04-20 11:07:22] {2567} INFO - iteration 55, current learner lgbm\n",
      "[flaml.automl: 04-20 11:07:23] {2750} INFO -  at 56.1s,\testimator lgbm's best error=0.8350,\tbest estimator lgbm's best error=0.8350\n",
      "[flaml.automl: 04-20 11:07:23] {2567} INFO - iteration 56, current learner xgboost\n",
      "[flaml.automl: 04-20 11:07:27] {2750} INFO -  at 59.6s,\testimator xgboost's best error=0.8428,\tbest estimator lgbm's best error=0.8350\n",
      "[flaml.automl: 04-20 11:07:27] {2567} INFO - iteration 57, current learner rf\n",
      "[flaml.automl: 04-20 11:07:28] {2750} INFO -  at 61.0s,\testimator rf's best error=0.9256,\tbest estimator lgbm's best error=0.8350\n",
      "[flaml.automl: 04-20 11:07:28] {2567} INFO - iteration 58, current learner rf\n",
      "[flaml.automl: 04-20 11:07:29] {2750} INFO -  at 62.3s,\testimator rf's best error=0.9256,\tbest estimator lgbm's best error=0.8350\n",
      "[flaml.automl: 04-20 11:07:29] {2567} INFO - iteration 59, current learner xgboost\n",
      "[flaml.automl: 04-20 11:07:30] {2750} INFO -  at 63.3s,\testimator xgboost's best error=0.8428,\tbest estimator lgbm's best error=0.8350\n",
      "[flaml.automl: 04-20 11:07:30] {2567} INFO - iteration 60, current learner lgbm\n",
      "[flaml.automl: 04-20 11:07:32] {2750} INFO -  at 64.8s,\testimator lgbm's best error=0.8350,\tbest estimator lgbm's best error=0.8350\n",
      "[flaml.automl: 04-20 11:07:32] {2567} INFO - iteration 61, current learner xgboost\n",
      "[flaml.automl: 04-20 11:07:55] {2750} INFO -  at 88.2s,\testimator xgboost's best error=0.8318,\tbest estimator xgboost's best error=0.8318\n",
      "[flaml.automl: 04-20 11:07:55] {2567} INFO - iteration 62, current learner xgb_limitdepth\n",
      "[flaml.automl: 04-20 11:07:56] {2750} INFO -  at 88.9s,\testimator xgb_limitdepth's best error=0.9254,\tbest estimator xgboost's best error=0.8318\n",
      "[flaml.automl: 04-20 11:07:56] {2567} INFO - iteration 63, current learner xgb_limitdepth\n",
      "[flaml.automl: 04-20 11:07:56] {2750} INFO -  at 89.2s,\testimator xgb_limitdepth's best error=0.9254,\tbest estimator xgboost's best error=0.8318\n",
      "[flaml.automl: 04-20 11:07:56] {2567} INFO - iteration 64, current learner xgb_limitdepth\n",
      "[flaml.automl: 04-20 11:07:57] {2750} INFO -  at 89.7s,\testimator xgb_limitdepth's best error=0.9254,\tbest estimator xgboost's best error=0.8318\n",
      "[flaml.automl: 04-20 11:07:57] {2567} INFO - iteration 65, current learner xgb_limitdepth\n",
      "[flaml.automl: 04-20 11:07:57] {2750} INFO -  at 90.1s,\testimator xgb_limitdepth's best error=0.9254,\tbest estimator xgboost's best error=0.8318\n",
      "[flaml.automl: 04-20 11:07:57] {2567} INFO - iteration 66, current learner xgboost\n",
      "[flaml.automl: 04-20 11:08:11] {2750} INFO -  at 104.2s,\testimator xgboost's best error=0.8318,\tbest estimator xgboost's best error=0.8318\n",
      "[flaml.automl: 04-20 11:08:11] {2567} INFO - iteration 67, current learner xgb_limitdepth\n",
      "[flaml.automl: 04-20 11:08:12] {2750} INFO -  at 104.7s,\testimator xgb_limitdepth's best error=0.9254,\tbest estimator xgboost's best error=0.8318\n",
      "[flaml.automl: 04-20 11:08:12] {2567} INFO - iteration 68, current learner xgb_limitdepth\n",
      "[flaml.automl: 04-20 11:08:12] {2750} INFO -  at 104.9s,\testimator xgb_limitdepth's best error=0.9254,\tbest estimator xgboost's best error=0.8318\n",
      "[flaml.automl: 04-20 11:08:12] {2567} INFO - iteration 69, current learner xgb_limitdepth\n",
      "[flaml.automl: 04-20 11:08:13] {2750} INFO -  at 106.0s,\testimator xgb_limitdepth's best error=0.9074,\tbest estimator xgboost's best error=0.8318\n",
      "[flaml.automl: 04-20 11:08:13] {2567} INFO - iteration 70, current learner lgbm\n",
      "[flaml.automl: 04-20 11:08:17] {2750} INFO -  at 109.7s,\testimator lgbm's best error=0.8224,\tbest estimator lgbm's best error=0.8224\n",
      "[flaml.automl: 04-20 11:08:17] {2567} INFO - iteration 71, current learner lgbm\n",
      "[flaml.automl: 04-20 11:08:18] {2750} INFO -  at 110.9s,\testimator lgbm's best error=0.8224,\tbest estimator lgbm's best error=0.8224\n",
      "[flaml.automl: 04-20 11:08:18] {2567} INFO - iteration 72, current learner xgboost\n",
      "[flaml.automl: 04-20 11:08:53] {2750} INFO -  at 146.3s,\testimator xgboost's best error=0.8318,\tbest estimator lgbm's best error=0.8224\n",
      "[flaml.automl: 04-20 11:08:53] {2567} INFO - iteration 73, current learner lgbm\n",
      "[flaml.automl: 04-20 11:09:02] {2750} INFO -  at 155.3s,\testimator lgbm's best error=0.8224,\tbest estimator lgbm's best error=0.8224\n",
      "[flaml.automl: 04-20 11:09:02] {2567} INFO - iteration 74, current learner xgb_limitdepth\n",
      "[flaml.automl: 04-20 11:09:04] {2750} INFO -  at 156.8s,\testimator xgb_limitdepth's best error=0.9074,\tbest estimator lgbm's best error=0.8224\n",
      "[flaml.automl: 04-20 11:09:04] {2567} INFO - iteration 75, current learner rf\n",
      "[flaml.automl: 04-20 11:09:06] {2750} INFO -  at 158.8s,\testimator rf's best error=0.8796,\tbest estimator lgbm's best error=0.8224\n",
      "[flaml.automl: 04-20 11:09:06] {2567} INFO - iteration 76, current learner extra_tree\n",
      "[flaml.automl: 04-20 11:09:07] {2750} INFO -  at 160.1s,\testimator extra_tree's best error=0.9888,\tbest estimator lgbm's best error=0.8224\n",
      "[flaml.automl: 04-20 11:09:07] {2567} INFO - iteration 77, current learner lgbm\n",
      "[flaml.automl: 04-20 11:09:09] {2750} INFO -  at 161.8s,\testimator lgbm's best error=0.8224,\tbest estimator lgbm's best error=0.8224\n",
      "[flaml.automl: 04-20 11:09:09] {2567} INFO - iteration 78, current learner lgbm\n",
      "[flaml.automl: 04-20 11:09:10] {2750} INFO -  at 162.6s,\testimator lgbm's best error=0.8224,\tbest estimator lgbm's best error=0.8224\n",
      "[flaml.automl: 04-20 11:09:10] {2567} INFO - iteration 79, current learner extra_tree\n",
      "[flaml.automl: 04-20 11:09:11] {2750} INFO -  at 164.1s,\testimator extra_tree's best error=0.9888,\tbest estimator lgbm's best error=0.8224\n",
      "[flaml.automl: 04-20 11:09:11] {2567} INFO - iteration 80, current learner rf\n",
      "[flaml.automl: 04-20 11:09:12] {2750} INFO -  at 165.5s,\testimator rf's best error=0.8796,\tbest estimator lgbm's best error=0.8224\n",
      "[flaml.automl: 04-20 11:09:12] {2567} INFO - iteration 81, current learner lgbm\n",
      "[flaml.automl: 04-20 11:09:32] {2750} INFO -  at 184.8s,\testimator lgbm's best error=0.8224,\tbest estimator lgbm's best error=0.8224\n",
      "[flaml.automl: 04-20 11:09:32] {2567} INFO - iteration 82, current learner xgb_limitdepth\n",
      "[flaml.automl: 04-20 11:09:33] {2750} INFO -  at 185.6s,\testimator xgb_limitdepth's best error=0.9074,\tbest estimator lgbm's best error=0.8224\n",
      "[flaml.automl: 04-20 11:09:33] {2567} INFO - iteration 83, current learner rf\n",
      "[flaml.automl: 04-20 11:09:34] {2750} INFO -  at 187.4s,\testimator rf's best error=0.8796,\tbest estimator lgbm's best error=0.8224\n",
      "[flaml.automl: 04-20 11:09:34] {2567} INFO - iteration 84, current learner extra_tree\n",
      "[flaml.automl: 04-20 11:09:36] {2750} INFO -  at 188.7s,\testimator extra_tree's best error=0.9622,\tbest estimator lgbm's best error=0.8224\n",
      "[flaml.automl: 04-20 11:09:36] {2567} INFO - iteration 85, current learner extra_tree\n",
      "[flaml.automl: 04-20 11:09:37] {2750} INFO -  at 190.0s,\testimator extra_tree's best error=0.9622,\tbest estimator lgbm's best error=0.8224\n",
      "[flaml.automl: 04-20 11:09:37] {2567} INFO - iteration 86, current learner xgb_limitdepth\n",
      "[flaml.automl: 04-20 11:09:38] {2750} INFO -  at 191.2s,\testimator xgb_limitdepth's best error=0.9074,\tbest estimator lgbm's best error=0.8224\n",
      "[flaml.automl: 04-20 11:09:38] {2567} INFO - iteration 87, current learner rf\n",
      "[flaml.automl: 04-20 11:09:41] {2750} INFO -  at 194.4s,\testimator rf's best error=0.8796,\tbest estimator lgbm's best error=0.8224\n",
      "[flaml.automl: 04-20 11:09:41] {2567} INFO - iteration 88, current learner extra_tree\n",
      "[flaml.automl: 04-20 11:09:43] {2750} INFO -  at 195.8s,\testimator extra_tree's best error=0.9522,\tbest estimator lgbm's best error=0.8224\n",
      "[flaml.automl: 04-20 11:09:43] {2567} INFO - iteration 89, current learner rf\n",
      "[flaml.automl: 04-20 11:09:44] {2750} INFO -  at 197.1s,\testimator rf's best error=0.8796,\tbest estimator lgbm's best error=0.8224\n",
      "[flaml.automl: 04-20 11:09:44] {2567} INFO - iteration 90, current learner lgbm\n",
      "[flaml.automl: 04-20 11:09:46] {2750} INFO -  at 199.4s,\testimator lgbm's best error=0.8224,\tbest estimator lgbm's best error=0.8224\n",
      "[flaml.automl: 04-20 11:09:46] {2567} INFO - iteration 91, current learner xgb_limitdepth\n",
      "[flaml.automl: 04-20 11:09:47] {2750} INFO -  at 200.3s,\testimator xgb_limitdepth's best error=0.8929,\tbest estimator lgbm's best error=0.8224\n",
      "[flaml.automl: 04-20 11:09:47] {2567} INFO - iteration 92, current learner rf\n",
      "[flaml.automl: 04-20 11:09:50] {2750} INFO -  at 203.0s,\testimator rf's best error=0.8651,\tbest estimator lgbm's best error=0.8224\n",
      "[flaml.automl: 04-20 11:09:50] {2567} INFO - iteration 93, current learner xgb_limitdepth\n",
      "[flaml.automl: 04-20 11:09:51] {2750} INFO -  at 203.5s,\testimator xgb_limitdepth's best error=0.8929,\tbest estimator lgbm's best error=0.8224\n",
      "[flaml.automl: 04-20 11:09:51] {2567} INFO - iteration 94, current learner extra_tree\n",
      "[flaml.automl: 04-20 11:09:52] {2750} INFO -  at 204.7s,\testimator extra_tree's best error=0.9522,\tbest estimator lgbm's best error=0.8224\n",
      "[flaml.automl: 04-20 11:09:52] {2567} INFO - iteration 95, current learner xgboost\n",
      "[flaml.automl: 04-20 11:10:12] {2750} INFO -  at 224.8s,\testimator xgboost's best error=0.8318,\tbest estimator lgbm's best error=0.8224\n",
      "[flaml.automl: 04-20 11:10:12] {2567} INFO - iteration 96, current learner lgbm\n",
      "[flaml.automl: 04-20 11:10:18] {2750} INFO -  at 230.7s,\testimator lgbm's best error=0.8194,\tbest estimator lgbm's best error=0.8194\n",
      "[flaml.automl: 04-20 11:10:18] {2567} INFO - iteration 97, current learner xgb_limitdepth\n",
      "[flaml.automl: 04-20 11:10:19] {2750} INFO -  at 232.0s,\testimator xgb_limitdepth's best error=0.8643,\tbest estimator lgbm's best error=0.8194\n",
      "[flaml.automl: 04-20 11:10:19] {2567} INFO - iteration 98, current learner xgb_limitdepth\n",
      "[flaml.automl: 04-20 11:10:20] {2750} INFO -  at 232.8s,\testimator xgb_limitdepth's best error=0.8643,\tbest estimator lgbm's best error=0.8194\n",
      "[flaml.automl: 04-20 11:10:20] {2567} INFO - iteration 99, current learner xgb_limitdepth\n",
      "[flaml.automl: 04-20 11:10:22] {2750} INFO -  at 235.3s,\testimator xgb_limitdepth's best error=0.8643,\tbest estimator lgbm's best error=0.8194\n",
      "[flaml.automl: 04-20 11:10:22] {2567} INFO - iteration 100, current learner extra_tree\n",
      "[flaml.automl: 04-20 11:10:24] {2750} INFO -  at 236.6s,\testimator extra_tree's best error=0.9139,\tbest estimator lgbm's best error=0.8194\n",
      "[flaml.automl: 04-20 11:10:24] {2567} INFO - iteration 101, current learner xgboost\n",
      "[flaml.automl: 04-20 11:10:51] {2750} INFO -  at 264.3s,\testimator xgboost's best error=0.8318,\tbest estimator lgbm's best error=0.8194\n",
      "[flaml.automl: 04-20 11:10:51] {2567} INFO - iteration 102, current learner xgb_limitdepth\n",
      "[flaml.automl: 04-20 11:10:52] {2750} INFO -  at 265.2s,\testimator xgb_limitdepth's best error=0.8643,\tbest estimator lgbm's best error=0.8194\n",
      "[flaml.automl: 04-20 11:10:52] {2567} INFO - iteration 103, current learner extra_tree\n",
      "[flaml.automl: 04-20 11:10:54] {2750} INFO -  at 266.8s,\testimator extra_tree's best error=0.9139,\tbest estimator lgbm's best error=0.8194\n",
      "[flaml.automl: 04-20 11:10:54] {2567} INFO - iteration 104, current learner lgbm\n",
      "[flaml.automl: 04-20 11:10:59] {2750} INFO -  at 272.0s,\testimator lgbm's best error=0.8194,\tbest estimator lgbm's best error=0.8194\n",
      "[flaml.automl: 04-20 11:10:59] {2567} INFO - iteration 105, current learner extra_tree\n",
      "[flaml.automl: 04-20 11:11:01] {2750} INFO -  at 274.0s,\testimator extra_tree's best error=0.8938,\tbest estimator lgbm's best error=0.8194\n",
      "[flaml.automl: 04-20 11:11:01] {2567} INFO - iteration 106, current learner xgboost\n",
      "[flaml.automl: 04-20 11:11:06] {2750} INFO -  at 278.8s,\testimator xgboost's best error=0.8318,\tbest estimator lgbm's best error=0.8194\n",
      "[flaml.automl: 04-20 11:11:06] {2567} INFO - iteration 107, current learner extra_tree\n",
      "[flaml.automl: 04-20 11:11:07] {2750} INFO -  at 280.1s,\testimator extra_tree's best error=0.8938,\tbest estimator lgbm's best error=0.8194\n",
      "[flaml.automl: 04-20 11:11:07] {2567} INFO - iteration 108, current learner xgb_limitdepth\n",
      "[flaml.automl: 04-20 11:11:09] {2750} INFO -  at 282.4s,\testimator xgb_limitdepth's best error=0.8643,\tbest estimator lgbm's best error=0.8194\n",
      "[flaml.automl: 04-20 11:11:09] {2567} INFO - iteration 109, current learner catboost\n",
      "[flaml.automl: 04-20 11:11:14] {2750} INFO -  at 287.4s,\testimator catboost's best error=0.8547,\tbest estimator lgbm's best error=0.8194\n",
      "[flaml.automl: 04-20 11:11:14] {2567} INFO - iteration 110, current learner xgb_limitdepth\n",
      "[flaml.automl: 04-20 11:11:15] {2750} INFO -  at 288.0s,\testimator xgb_limitdepth's best error=0.8643,\tbest estimator lgbm's best error=0.8194\n",
      "[flaml.automl: 04-20 11:11:15] {2567} INFO - iteration 111, current learner extra_tree\n",
      "[flaml.automl: 04-20 11:11:18] {2750} INFO -  at 291.1s,\testimator extra_tree's best error=0.8822,\tbest estimator lgbm's best error=0.8194\n",
      "[flaml.automl: 04-20 11:11:18] {2567} INFO - iteration 112, current learner lgbm\n",
      "[flaml.automl: 04-20 11:11:21] {2750} INFO -  at 294.2s,\testimator lgbm's best error=0.8194,\tbest estimator lgbm's best error=0.8194\n",
      "[flaml.automl: 04-20 11:11:21] {2567} INFO - iteration 113, current learner xgb_limitdepth\n",
      "[flaml.automl: 04-20 11:11:24] {2750} INFO -  at 297.0s,\testimator xgb_limitdepth's best error=0.8427,\tbest estimator lgbm's best error=0.8194\n",
      "[flaml.automl: 04-20 11:11:24] {2567} INFO - iteration 114, current learner xgb_limitdepth\n",
      "[flaml.automl: 04-20 11:11:25] {2750} INFO -  at 298.3s,\testimator xgb_limitdepth's best error=0.8427,\tbest estimator lgbm's best error=0.8194\n",
      "[flaml.automl: 04-20 11:11:25] {2567} INFO - iteration 115, current learner xgb_limitdepth\n",
      "[flaml.automl: 04-20 11:11:32] {2750} INFO -  at 305.2s,\testimator xgb_limitdepth's best error=0.8234,\tbest estimator lgbm's best error=0.8194\n",
      "[flaml.automl: 04-20 11:11:32] {2567} INFO - iteration 116, current learner rf\n",
      "[flaml.automl: 04-20 11:11:34] {2750} INFO -  at 307.0s,\testimator rf's best error=0.8651,\tbest estimator lgbm's best error=0.8194\n",
      "[flaml.automl: 04-20 11:11:34] {2567} INFO - iteration 117, current learner rf\n",
      "[flaml.automl: 04-20 11:11:39] {2750} INFO -  at 311.8s,\testimator rf's best error=0.8558,\tbest estimator lgbm's best error=0.8194\n",
      "[flaml.automl: 04-20 11:11:39] {2567} INFO - iteration 118, current learner xgb_limitdepth\n",
      "[flaml.automl: 04-20 11:11:44] {2750} INFO -  at 317.1s,\testimator xgb_limitdepth's best error=0.8234,\tbest estimator lgbm's best error=0.8194\n",
      "[flaml.automl: 04-20 11:11:44] {2567} INFO - iteration 119, current learner xgb_limitdepth\n",
      "[flaml.automl: 04-20 11:11:53] {2750} INFO -  at 325.9s,\testimator xgb_limitdepth's best error=0.8234,\tbest estimator lgbm's best error=0.8194\n",
      "[flaml.automl: 04-20 11:11:53] {2567} INFO - iteration 120, current learner lgbm\n",
      "[flaml.automl: 04-20 11:12:13] {2750} INFO -  at 346.3s,\testimator lgbm's best error=0.8137,\tbest estimator lgbm's best error=0.8137\n",
      "[flaml.automl: 04-20 11:12:13] {2567} INFO - iteration 121, current learner xgb_limitdepth\n",
      "[flaml.automl: 04-20 11:12:18] {2750} INFO -  at 350.6s,\testimator xgb_limitdepth's best error=0.8234,\tbest estimator lgbm's best error=0.8137\n",
      "[flaml.automl: 04-20 11:12:18] {2567} INFO - iteration 122, current learner xgb_limitdepth\n",
      "[flaml.automl: 04-20 11:12:30] {2750} INFO -  at 363.5s,\testimator xgb_limitdepth's best error=0.8234,\tbest estimator lgbm's best error=0.8137\n",
      "[flaml.automl: 04-20 11:12:30] {2567} INFO - iteration 123, current learner xgb_limitdepth\n",
      "[flaml.automl: 04-20 11:12:32] {2750} INFO -  at 365.3s,\testimator xgb_limitdepth's best error=0.8234,\tbest estimator lgbm's best error=0.8137\n",
      "[flaml.automl: 04-20 11:12:32] {2567} INFO - iteration 124, current learner extra_tree\n",
      "[flaml.automl: 04-20 11:12:37] {2750} INFO -  at 370.4s,\testimator extra_tree's best error=0.8818,\tbest estimator lgbm's best error=0.8137\n",
      "[flaml.automl: 04-20 11:12:37] {2567} INFO - iteration 125, current learner lgbm\n",
      "[flaml.automl: 04-20 11:12:43] {2750} INFO -  at 376.2s,\testimator lgbm's best error=0.8137,\tbest estimator lgbm's best error=0.8137\n",
      "[flaml.automl: 04-20 11:12:43] {2567} INFO - iteration 126, current learner lgbm\n",
      "[flaml.automl: 04-20 11:13:28] {2750} INFO -  at 421.3s,\testimator lgbm's best error=0.8118,\tbest estimator lgbm's best error=0.8118\n",
      "[flaml.automl: 04-20 11:13:28] {2567} INFO - iteration 127, current learner lgbm\n",
      "[flaml.automl: 04-20 11:15:43] {2750} INFO -  at 555.7s,\testimator lgbm's best error=0.8118,\tbest estimator lgbm's best error=0.8118\n",
      "[flaml.automl: 04-20 11:15:43] {2567} INFO - iteration 128, current learner lgbm\n",
      "[flaml.automl: 04-20 11:15:48] {2750} INFO -  at 561.2s,\testimator lgbm's best error=0.8118,\tbest estimator lgbm's best error=0.8118\n",
      "[flaml.automl: 04-20 11:15:48] {2567} INFO - iteration 129, current learner rf\n",
      "[flaml.automl: 04-20 11:15:51] {2750} INFO -  at 563.6s,\testimator rf's best error=0.8558,\tbest estimator lgbm's best error=0.8118\n",
      "[flaml.automl: 04-20 11:15:51] {2567} INFO - iteration 130, current learner xgb_limitdepth\n",
      "[flaml.automl: 04-20 11:16:14] {2750} INFO -  at 587.2s,\testimator xgb_limitdepth's best error=0.8206,\tbest estimator lgbm's best error=0.8118\n",
      "[flaml.automl: 04-20 11:16:14] {2567} INFO - iteration 131, current learner rf\n",
      "[flaml.automl: 04-20 11:16:23] {2750} INFO -  at 595.6s,\testimator rf's best error=0.8485,\tbest estimator lgbm's best error=0.8118\n",
      "[flaml.automl: 04-20 11:16:23] {2567} INFO - iteration 132, current learner rf\n",
      "[flaml.automl: 04-20 11:16:39] {2750} INFO -  at 612.4s,\testimator rf's best error=0.8485,\tbest estimator lgbm's best error=0.8118\n",
      "[flaml.automl: 04-20 11:16:39] {2567} INFO - iteration 133, current learner extra_tree\n",
      "[flaml.automl: 04-20 11:16:42] {2750} INFO -  at 614.8s,\testimator extra_tree's best error=0.8818,\tbest estimator lgbm's best error=0.8118\n",
      "[flaml.automl: 04-20 11:16:42] {2567} INFO - iteration 134, current learner lgbm\n",
      "[flaml.automl: 04-20 11:16:49] {2750} INFO -  at 621.9s,\testimator lgbm's best error=0.8118,\tbest estimator lgbm's best error=0.8118\n",
      "[flaml.automl: 04-20 11:16:49] {2567} INFO - iteration 135, current learner lgbm\n",
      "[flaml.automl: 04-20 11:20:10] {2750} INFO -  at 822.6s,\testimator lgbm's best error=0.8062,\tbest estimator lgbm's best error=0.8062\n",
      "[flaml.automl: 04-20 11:20:10] {2567} INFO - iteration 136, current learner catboost\n",
      "[flaml.automl: 04-20 11:20:17] {2750} INFO -  at 829.5s,\testimator catboost's best error=0.8547,\tbest estimator lgbm's best error=0.8062\n",
      "[flaml.automl: 04-20 11:20:17] {2567} INFO - iteration 137, current learner xgb_limitdepth\n",
      "[flaml.automl: 04-20 11:20:35] {2750} INFO -  at 847.8s,\testimator xgb_limitdepth's best error=0.8206,\tbest estimator lgbm's best error=0.8062\n",
      "[flaml.automl: 04-20 11:20:35] {2567} INFO - iteration 138, current learner rf\n",
      "[flaml.automl: 04-20 11:20:40] {2750} INFO -  at 852.7s,\testimator rf's best error=0.8485,\tbest estimator lgbm's best error=0.8062\n",
      "[flaml.automl: 04-20 11:20:40] {2567} INFO - iteration 139, current learner lgbm\n",
      "[flaml.automl: 04-20 11:26:54] {2750} INFO -  at 1226.9s,\testimator lgbm's best error=0.8062,\tbest estimator lgbm's best error=0.8062\n",
      "[flaml.automl: 04-20 11:27:32] {2976} INFO - retrain lgbm for 38.5s\n",
      "[flaml.automl: 04-20 11:27:32] {2981} INFO - retrained model: LGBMRegressor(colsample_bytree=0.6627836019944721,\n",
      "              learning_rate=0.017485703999232848, max_bin=1023,\n",
      "              min_child_samples=8, n_estimators=5145, num_leaves=91,\n",
      "              reg_alpha=0.004089629988951731, reg_lambda=0.0481664196794399,\n",
      "              verbose=-1)\n",
      "[flaml.automl: 04-20 11:27:32] {2310} INFO - fit succeeded\n",
      "[flaml.automl: 04-20 11:27:32] {2312} INFO - Time taken to find the best model: 822.6197073459625\n"
     ]
    }
   ],
   "source": [
    "automl.fit(X, y, task=\"regression\", metric='rmse', time_budget=1200)"
   ]
  },
  {
   "cell_type": "code",
   "execution_count": 23,
   "id": "50282f51",
   "metadata": {
    "execution": {
     "iopub.execute_input": "2022-04-20T11:27:33.554122Z",
     "iopub.status.busy": "2022-04-20T11:27:33.553476Z",
     "iopub.status.idle": "2022-04-20T11:27:33.560721Z",
     "shell.execute_reply": "2022-04-20T11:27:33.560116Z"
    },
    "papermill": {
     "duration": 0.201314,
     "end_time": "2022-04-20T11:27:33.562893",
     "exception": false,
     "start_time": "2022-04-20T11:27:33.361579",
     "status": "completed"
    },
    "tags": []
   },
   "outputs": [
    {
     "name": "stdout",
     "output_type": "stream",
     "text": [
      "Best ML leaner: lgbm\n",
      "Best hyperparmeter config: {'n_estimators': 5145, 'num_leaves': 91, 'min_child_samples': 8, 'learning_rate': 0.017485703999232848, 'log_max_bin': 10, 'colsample_bytree': 0.6627836019944721, 'reg_alpha': 0.004089629988951731, 'reg_lambda': 0.0481664196794399}\n",
      "Best log_loss on validation data: 0.8062\n",
      "Training duration of best run: 38.54 s\n"
     ]
    }
   ],
   "source": [
    "print('Best ML leaner:', automl.best_estimator)\n",
    "print('Best hyperparmeter config:', automl.best_config)\n",
    "print('Best log_loss on validation data: {0:.4g}'.format(automl.best_loss))\n",
    "print('Training duration of best run: {0:.4g} s'.format(automl.best_config_train_time))"
   ]
  },
  {
   "cell_type": "markdown",
   "id": "5c073a69",
   "metadata": {
    "papermill": {
     "duration": 0.189024,
     "end_time": "2022-04-20T11:27:33.940561",
     "exception": false,
     "start_time": "2022-04-20T11:27:33.751537",
     "status": "completed"
    },
    "tags": []
   },
   "source": [
    "### Evaluating Model"
   ]
  },
  {
   "cell_type": "code",
   "execution_count": 24,
   "id": "f767a5da",
   "metadata": {
    "execution": {
     "iopub.execute_input": "2022-04-20T11:27:34.325455Z",
     "iopub.status.busy": "2022-04-20T11:27:34.324831Z",
     "iopub.status.idle": "2022-04-20T11:27:34.330413Z",
     "shell.execute_reply": "2022-04-20T11:27:34.329445Z"
    },
    "papermill": {
     "duration": 0.199821,
     "end_time": "2022-04-20T11:27:34.332891",
     "exception": false,
     "start_time": "2022-04-20T11:27:34.133070",
     "status": "completed"
    },
    "tags": []
   },
   "outputs": [],
   "source": [
    "import math\n",
    "from sklearn.metrics import r2_score, mean_squared_error, mean_absolute_error"
   ]
  },
  {
   "cell_type": "code",
   "execution_count": 25,
   "id": "ab88c360",
   "metadata": {
    "execution": {
     "iopub.execute_input": "2022-04-20T11:27:34.717515Z",
     "iopub.status.busy": "2022-04-20T11:27:34.716685Z",
     "iopub.status.idle": "2022-04-20T11:27:34.723951Z",
     "shell.execute_reply": "2022-04-20T11:27:34.723212Z"
    },
    "papermill": {
     "duration": 0.201083,
     "end_time": "2022-04-20T11:27:34.726525",
     "exception": false,
     "start_time": "2022-04-20T11:27:34.525442",
     "status": "completed"
    },
    "tags": []
   },
   "outputs": [],
   "source": [
    "def evaluate_model(y_test, pred):\n",
    "    print(\"*\"*12, \"Evaluations\", \"*\"*12, '\\n')\n",
    "    \n",
    "    print(\"MAE :\", mean_absolute_error(y_test, pred), '\\n')\n",
    "    print(\"MSE :\", mean_squared_error(y_test, pred), '\\n')\n",
    "    print(\"R2_Score :\", r2_score(y_test, pred), '\\n')\n",
    "    \n",
    "    mse_ = np.square(np.subtract(y_test,pred)).mean() \n",
    "    print(\"RMSE :\", math.sqrt(mse_))"
   ]
  },
  {
   "cell_type": "code",
   "execution_count": 26,
   "id": "5481115e",
   "metadata": {
    "execution": {
     "iopub.execute_input": "2022-04-20T11:27:35.106704Z",
     "iopub.status.busy": "2022-04-20T11:27:35.106345Z",
     "iopub.status.idle": "2022-04-20T11:27:35.755450Z",
     "shell.execute_reply": "2022-04-20T11:27:35.754742Z"
    },
    "papermill": {
     "duration": 0.841327,
     "end_time": "2022-04-20T11:27:35.758035",
     "exception": false,
     "start_time": "2022-04-20T11:27:34.916708",
     "status": "completed"
    },
    "tags": []
   },
   "outputs": [
    {
     "name": "stdout",
     "output_type": "stream",
     "text": [
      "************ Evaluations ************ \n",
      "\n",
      "MAE : 0.012551768761498673 \n",
      "\n",
      "MSE : 0.0005417227492051437 \n",
      "\n",
      "R2_Score : 0.9996708417307789 \n",
      "\n",
      "RMSE : 0.023274938221295963\n"
     ]
    }
   ],
   "source": [
    "pred = automl.predict(X_test)\n",
    "    \n",
    "evaluate_model(y_test, pred)"
   ]
  },
  {
   "cell_type": "markdown",
   "id": "aaaa978b",
   "metadata": {
    "papermill": {
     "duration": 0.189206,
     "end_time": "2022-04-20T11:27:36.136766",
     "exception": false,
     "start_time": "2022-04-20T11:27:35.947560",
     "status": "completed"
    },
    "tags": []
   },
   "source": [
    "# Test"
   ]
  },
  {
   "cell_type": "code",
   "execution_count": 27,
   "id": "46486275",
   "metadata": {
    "execution": {
     "iopub.execute_input": "2022-04-20T11:27:36.517233Z",
     "iopub.status.busy": "2022-04-20T11:27:36.516906Z",
     "iopub.status.idle": "2022-04-20T11:27:37.090502Z",
     "shell.execute_reply": "2022-04-20T11:27:37.089502Z"
    },
    "papermill": {
     "duration": 0.769413,
     "end_time": "2022-04-20T11:27:37.093058",
     "exception": false,
     "start_time": "2022-04-20T11:27:36.323645",
     "status": "completed"
    },
    "tags": []
   },
   "outputs": [
    {
     "data": {
      "text/plain": [
       "1825"
      ]
     },
     "execution_count": 27,
     "metadata": {},
     "output_type": "execute_result"
    }
   ],
   "source": [
    "pred = automl.predict(test)\n",
    "len(pred)"
   ]
  },
  {
   "cell_type": "markdown",
   "id": "f630fe33",
   "metadata": {
    "papermill": {
     "duration": 0.214406,
     "end_time": "2022-04-20T11:27:37.498131",
     "exception": false,
     "start_time": "2022-04-20T11:27:37.283725",
     "status": "completed"
    },
    "tags": []
   },
   "source": [
    "# Submission"
   ]
  },
  {
   "cell_type": "code",
   "execution_count": 28,
   "id": "7bfbde61",
   "metadata": {
    "execution": {
     "iopub.execute_input": "2022-04-20T11:27:37.880820Z",
     "iopub.status.busy": "2022-04-20T11:27:37.880079Z",
     "iopub.status.idle": "2022-04-20T11:27:37.910288Z",
     "shell.execute_reply": "2022-04-20T11:27:37.909356Z"
    },
    "papermill": {
     "duration": 0.223989,
     "end_time": "2022-04-20T11:27:37.913551",
     "exception": false,
     "start_time": "2022-04-20T11:27:37.689562",
     "status": "completed"
    },
    "tags": []
   },
   "outputs": [
    {
     "name": "stdout",
     "output_type": "stream",
     "text": [
      "1    1825\n",
      "Name: rating, dtype: int64 \n",
      "\n"
     ]
    },
    {
     "data": {
      "text/html": [
       "<div>\n",
       "<style scoped>\n",
       "    .dataframe tbody tr th:only-of-type {\n",
       "        vertical-align: middle;\n",
       "    }\n",
       "\n",
       "    .dataframe tbody tr th {\n",
       "        vertical-align: top;\n",
       "    }\n",
       "\n",
       "    .dataframe thead th {\n",
       "        text-align: right;\n",
       "    }\n",
       "</style>\n",
       "<table border=\"1\" class=\"dataframe\">\n",
       "  <thead>\n",
       "    <tr style=\"text-align: right;\">\n",
       "      <th></th>\n",
       "      <th>userID</th>\n",
       "      <th>rating</th>\n",
       "    </tr>\n",
       "  </thead>\n",
       "  <tbody>\n",
       "    <tr>\n",
       "      <th>0</th>\n",
       "      <td>8001</td>\n",
       "      <td>1</td>\n",
       "    </tr>\n",
       "    <tr>\n",
       "      <th>1</th>\n",
       "      <td>8002</td>\n",
       "      <td>1</td>\n",
       "    </tr>\n",
       "    <tr>\n",
       "      <th>2</th>\n",
       "      <td>8003</td>\n",
       "      <td>1</td>\n",
       "    </tr>\n",
       "    <tr>\n",
       "      <th>3</th>\n",
       "      <td>8004</td>\n",
       "      <td>1</td>\n",
       "    </tr>\n",
       "    <tr>\n",
       "      <th>4</th>\n",
       "      <td>8005</td>\n",
       "      <td>1</td>\n",
       "    </tr>\n",
       "  </tbody>\n",
       "</table>\n",
       "</div>"
      ],
      "text/plain": [
       "   userID  rating\n",
       "0    8001       1\n",
       "1    8002       1\n",
       "2    8003       1\n",
       "3    8004       1\n",
       "4    8005       1"
      ]
     },
     "execution_count": 28,
     "metadata": {},
     "output_type": "execute_result"
    }
   ],
   "source": [
    "sub = pd.read_csv('../input/ctrl-shift-intelligence-2k22/sample_sub.csv')\n",
    "print(sub['rating'].value_counts(),'\\n')\n",
    "sub.head()"
   ]
  },
  {
   "cell_type": "markdown",
   "id": "62af2db2",
   "metadata": {
    "papermill": {
     "duration": 0.188456,
     "end_time": "2022-04-20T11:27:38.297406",
     "exception": false,
     "start_time": "2022-04-20T11:27:38.108950",
     "status": "completed"
    },
    "tags": []
   },
   "source": [
    "Save Submission File"
   ]
  },
  {
   "cell_type": "code",
   "execution_count": 29,
   "id": "ec02f748",
   "metadata": {
    "execution": {
     "iopub.execute_input": "2022-04-20T11:27:38.681009Z",
     "iopub.status.busy": "2022-04-20T11:27:38.680325Z",
     "iopub.status.idle": "2022-04-20T11:27:38.703661Z",
     "shell.execute_reply": "2022-04-20T11:27:38.703137Z"
    },
    "papermill": {
     "duration": 0.21806,
     "end_time": "2022-04-20T11:27:38.705912",
     "exception": false,
     "start_time": "2022-04-20T11:27:38.487852",
     "status": "completed"
    },
    "tags": []
   },
   "outputs": [
    {
     "data": {
      "text/html": [
       "<div>\n",
       "<style scoped>\n",
       "    .dataframe tbody tr th:only-of-type {\n",
       "        vertical-align: middle;\n",
       "    }\n",
       "\n",
       "    .dataframe tbody tr th {\n",
       "        vertical-align: top;\n",
       "    }\n",
       "\n",
       "    .dataframe thead th {\n",
       "        text-align: right;\n",
       "    }\n",
       "</style>\n",
       "<table border=\"1\" class=\"dataframe\">\n",
       "  <thead>\n",
       "    <tr style=\"text-align: right;\">\n",
       "      <th></th>\n",
       "      <th>userID</th>\n",
       "      <th>rating</th>\n",
       "    </tr>\n",
       "  </thead>\n",
       "  <tbody>\n",
       "    <tr>\n",
       "      <th>0</th>\n",
       "      <td>8001</td>\n",
       "      <td>6.249968</td>\n",
       "    </tr>\n",
       "    <tr>\n",
       "      <th>1</th>\n",
       "      <td>8002</td>\n",
       "      <td>5.754599</td>\n",
       "    </tr>\n",
       "    <tr>\n",
       "      <th>2</th>\n",
       "      <td>8003</td>\n",
       "      <td>6.416793</td>\n",
       "    </tr>\n",
       "    <tr>\n",
       "      <th>3</th>\n",
       "      <td>8004</td>\n",
       "      <td>5.328876</td>\n",
       "    </tr>\n",
       "    <tr>\n",
       "      <th>4</th>\n",
       "      <td>8005</td>\n",
       "      <td>6.810848</td>\n",
       "    </tr>\n",
       "    <tr>\n",
       "      <th>...</th>\n",
       "      <td>...</td>\n",
       "      <td>...</td>\n",
       "    </tr>\n",
       "    <tr>\n",
       "      <th>1820</th>\n",
       "      <td>9821</td>\n",
       "      <td>5.965596</td>\n",
       "    </tr>\n",
       "    <tr>\n",
       "      <th>1821</th>\n",
       "      <td>9822</td>\n",
       "      <td>7.250384</td>\n",
       "    </tr>\n",
       "    <tr>\n",
       "      <th>1822</th>\n",
       "      <td>9823</td>\n",
       "      <td>6.126991</td>\n",
       "    </tr>\n",
       "    <tr>\n",
       "      <th>1823</th>\n",
       "      <td>9824</td>\n",
       "      <td>6.506165</td>\n",
       "    </tr>\n",
       "    <tr>\n",
       "      <th>1824</th>\n",
       "      <td>9825</td>\n",
       "      <td>7.280159</td>\n",
       "    </tr>\n",
       "  </tbody>\n",
       "</table>\n",
       "<p>1825 rows × 2 columns</p>\n",
       "</div>"
      ],
      "text/plain": [
       "      userID    rating\n",
       "0       8001  6.249968\n",
       "1       8002  5.754599\n",
       "2       8003  6.416793\n",
       "3       8004  5.328876\n",
       "4       8005  6.810848\n",
       "...      ...       ...\n",
       "1820    9821  5.965596\n",
       "1821    9822  7.250384\n",
       "1822    9823  6.126991\n",
       "1823    9824  6.506165\n",
       "1824    9825  7.280159\n",
       "\n",
       "[1825 rows x 2 columns]"
      ]
     },
     "execution_count": 29,
     "metadata": {},
     "output_type": "execute_result"
    }
   ],
   "source": [
    "sub['rating'] = pred\n",
    "\n",
    "sub.to_csv('submission.csv', index=False)\n",
    "sub"
   ]
  }
 ],
 "metadata": {
  "kernelspec": {
   "display_name": "Python 3",
   "language": "python",
   "name": "python3"
  },
  "language_info": {
   "codemirror_mode": {
    "name": "ipython",
    "version": 3
   },
   "file_extension": ".py",
   "mimetype": "text/x-python",
   "name": "python",
   "nbconvert_exporter": "python",
   "pygments_lexer": "ipython3",
   "version": "3.7.12"
  },
  "papermill": {
   "default_parameters": {},
   "duration": 1320.665513,
   "end_time": "2022-04-20T11:27:40.525325",
   "environment_variables": {},
   "exception": null,
   "input_path": "__notebook__.ipynb",
   "output_path": "__notebook__.ipynb",
   "parameters": {},
   "start_time": "2022-04-20T11:05:39.859812",
   "version": "2.3.4"
  }
 },
 "nbformat": 4,
 "nbformat_minor": 5
}
