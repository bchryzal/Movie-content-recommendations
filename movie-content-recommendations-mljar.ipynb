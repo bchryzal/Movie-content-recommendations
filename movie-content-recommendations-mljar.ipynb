{
 "cells": [
  {
   "cell_type": "markdown",
   "id": "e6cc3715",
   "metadata": {
    "papermill": {
     "duration": 0.041936,
     "end_time": "2022-04-21T12:57:33.293961",
     "exception": false,
     "start_time": "2022-04-21T12:57:33.252025",
     "status": "completed"
    },
    "tags": []
   },
   "source": [
    "## Build your own Recommendation Systems !!!"
   ]
  },
  {
   "cell_type": "code",
   "execution_count": 1,
   "id": "afeffc7f",
   "metadata": {
    "_cell_guid": "b1076dfc-b9ad-4769-8c92-a6c4dae69d19",
    "_uuid": "8f2839f25d086af736a60e9eeb907d3b93b6e0e5",
    "execution": {
     "iopub.execute_input": "2022-04-21T12:57:33.378085Z",
     "iopub.status.busy": "2022-04-21T12:57:33.377261Z",
     "iopub.status.idle": "2022-04-21T12:57:33.389917Z",
     "shell.execute_reply": "2022-04-21T12:57:33.389203Z"
    },
    "papermill": {
     "duration": 0.057644,
     "end_time": "2022-04-21T12:57:33.392613",
     "exception": false,
     "start_time": "2022-04-21T12:57:33.334969",
     "status": "completed"
    },
    "tags": []
   },
   "outputs": [],
   "source": [
    "import numpy as np # linear algebra\n",
    "import pandas as pd # data processing, CSV file I/O (e.g. pd.read_csv)\n"
   ]
  },
  {
   "cell_type": "markdown",
   "id": "fd771bf1",
   "metadata": {
    "papermill": {
     "duration": 0.04306,
     "end_time": "2022-04-21T12:57:33.477025",
     "exception": false,
     "start_time": "2022-04-21T12:57:33.433965",
     "status": "completed"
    },
    "tags": []
   },
   "source": [
    "# Load Data"
   ]
  },
  {
   "cell_type": "code",
   "execution_count": 2,
   "id": "b7cb4b15",
   "metadata": {
    "execution": {
     "iopub.execute_input": "2022-04-21T12:57:33.562687Z",
     "iopub.status.busy": "2022-04-21T12:57:33.562213Z",
     "iopub.status.idle": "2022-04-21T12:57:33.803111Z",
     "shell.execute_reply": "2022-04-21T12:57:33.802222Z"
    },
    "papermill": {
     "duration": 0.285885,
     "end_time": "2022-04-21T12:57:33.805813",
     "exception": false,
     "start_time": "2022-04-21T12:57:33.519928",
     "status": "completed"
    },
    "tags": []
   },
   "outputs": [
    {
     "data": {
      "text/plain": [
       "((8001, 15), (1825, 14))"
      ]
     },
     "execution_count": 2,
     "metadata": {},
     "output_type": "execute_result"
    }
   ],
   "source": [
    "train = pd.read_csv('../input/ctrl-shift-intelligence-2k22/train.csv')\n",
    "test = pd.read_csv('../input/ctrl-shift-intelligence-2k22/test.csv')\n",
    "\n",
    "train.shape, test.shape"
   ]
  },
  {
   "cell_type": "markdown",
   "id": "3b418124",
   "metadata": {
    "papermill": {
     "duration": 0.041787,
     "end_time": "2022-04-21T12:57:33.889407",
     "exception": false,
     "start_time": "2022-04-21T12:57:33.847620",
     "status": "completed"
    },
    "tags": []
   },
   "source": [
    "# Understanding Data"
   ]
  },
  {
   "cell_type": "code",
   "execution_count": 3,
   "id": "be9c0507",
   "metadata": {
    "execution": {
     "iopub.execute_input": "2022-04-21T12:57:33.976358Z",
     "iopub.status.busy": "2022-04-21T12:57:33.975815Z",
     "iopub.status.idle": "2022-04-21T12:57:34.013080Z",
     "shell.execute_reply": "2022-04-21T12:57:34.012170Z"
    },
    "papermill": {
     "duration": 0.083288,
     "end_time": "2022-04-21T12:57:34.015709",
     "exception": false,
     "start_time": "2022-04-21T12:57:33.932421",
     "status": "completed"
    },
    "tags": []
   },
   "outputs": [
    {
     "name": "stdout",
     "output_type": "stream",
     "text": [
      "<class 'pandas.core.frame.DataFrame'>\n",
      "RangeIndex: 8001 entries, 0 to 8000\n",
      "Data columns (total 15 columns):\n",
      " #   Column      Non-Null Count  Dtype  \n",
      "---  ------      --------------  -----  \n",
      " 0   Unnamed: 0  8001 non-null   int64  \n",
      " 1   userID      8001 non-null   int64  \n",
      " 2   title       8000 non-null   object \n",
      " 3   year        7946 non-null   float64\n",
      " 4   kind        7971 non-null   object \n",
      " 5   genre       7916 non-null   object \n",
      " 6   vote        7228 non-null   float64\n",
      " 7   country     7415 non-null   object \n",
      " 8   language    7305 non-null   object \n",
      " 9   cast        7694 non-null   object \n",
      " 10  director    6368 non-null   object \n",
      " 11  composer    4852 non-null   object \n",
      " 12  writer      6532 non-null   object \n",
      " 13  runtime     7073 non-null   float64\n",
      " 14  rating      7228 non-null   float64\n",
      "dtypes: float64(4), int64(2), object(9)\n",
      "memory usage: 937.7+ KB\n"
     ]
    }
   ],
   "source": [
    "train.info()"
   ]
  },
  {
   "cell_type": "code",
   "execution_count": 4,
   "id": "ee613d44",
   "metadata": {
    "execution": {
     "iopub.execute_input": "2022-04-21T12:57:34.104361Z",
     "iopub.status.busy": "2022-04-21T12:57:34.104070Z",
     "iopub.status.idle": "2022-04-21T12:57:34.144761Z",
     "shell.execute_reply": "2022-04-21T12:57:34.144098Z"
    },
    "papermill": {
     "duration": 0.088245,
     "end_time": "2022-04-21T12:57:34.146711",
     "exception": false,
     "start_time": "2022-04-21T12:57:34.058466",
     "status": "completed"
    },
    "tags": []
   },
   "outputs": [
    {
     "data": {
      "text/html": [
       "<div>\n",
       "<style scoped>\n",
       "    .dataframe tbody tr th:only-of-type {\n",
       "        vertical-align: middle;\n",
       "    }\n",
       "\n",
       "    .dataframe tbody tr th {\n",
       "        vertical-align: top;\n",
       "    }\n",
       "\n",
       "    .dataframe thead th {\n",
       "        text-align: right;\n",
       "    }\n",
       "</style>\n",
       "<table border=\"1\" class=\"dataframe\">\n",
       "  <thead>\n",
       "    <tr style=\"text-align: right;\">\n",
       "      <th></th>\n",
       "      <th>Unnamed: 0</th>\n",
       "      <th>userID</th>\n",
       "      <th>year</th>\n",
       "      <th>vote</th>\n",
       "      <th>runtime</th>\n",
       "      <th>rating</th>\n",
       "    </tr>\n",
       "  </thead>\n",
       "  <tbody>\n",
       "    <tr>\n",
       "      <th>count</th>\n",
       "      <td>8001.000000</td>\n",
       "      <td>8001.000000</td>\n",
       "      <td>7946.000000</td>\n",
       "      <td>7.228000e+03</td>\n",
       "      <td>7073.000000</td>\n",
       "      <td>7228.000000</td>\n",
       "    </tr>\n",
       "    <tr>\n",
       "      <th>mean</th>\n",
       "      <td>4000.000000</td>\n",
       "      <td>4000.000000</td>\n",
       "      <td>1995.146111</td>\n",
       "      <td>1.902652e+04</td>\n",
       "      <td>97.644140</td>\n",
       "      <td>6.716146</td>\n",
       "    </tr>\n",
       "    <tr>\n",
       "      <th>std</th>\n",
       "      <td>2309.834085</td>\n",
       "      <td>2309.834085</td>\n",
       "      <td>15.829040</td>\n",
       "      <td>9.951044e+04</td>\n",
       "      <td>64.906578</td>\n",
       "      <td>1.291765</td>\n",
       "    </tr>\n",
       "    <tr>\n",
       "      <th>min</th>\n",
       "      <td>0.000000</td>\n",
       "      <td>0.000000</td>\n",
       "      <td>1905.000000</td>\n",
       "      <td>5.000000e+00</td>\n",
       "      <td>1.000000</td>\n",
       "      <td>1.200000</td>\n",
       "    </tr>\n",
       "    <tr>\n",
       "      <th>25%</th>\n",
       "      <td>2000.000000</td>\n",
       "      <td>2000.000000</td>\n",
       "      <td>1990.000000</td>\n",
       "      <td>2.427500e+02</td>\n",
       "      <td>75.000000</td>\n",
       "      <td>6.100000</td>\n",
       "    </tr>\n",
       "    <tr>\n",
       "      <th>50%</th>\n",
       "      <td>4000.000000</td>\n",
       "      <td>4000.000000</td>\n",
       "      <td>1999.000000</td>\n",
       "      <td>1.266500e+03</td>\n",
       "      <td>93.000000</td>\n",
       "      <td>6.900000</td>\n",
       "    </tr>\n",
       "    <tr>\n",
       "      <th>75%</th>\n",
       "      <td>6000.000000</td>\n",
       "      <td>6000.000000</td>\n",
       "      <td>2003.000000</td>\n",
       "      <td>6.138500e+03</td>\n",
       "      <td>109.000000</td>\n",
       "      <td>7.600000</td>\n",
       "    </tr>\n",
       "    <tr>\n",
       "      <th>max</th>\n",
       "      <td>8000.000000</td>\n",
       "      <td>8000.000000</td>\n",
       "      <td>2023.000000</td>\n",
       "      <td>2.462087e+06</td>\n",
       "      <td>1620.000000</td>\n",
       "      <td>9.600000</td>\n",
       "    </tr>\n",
       "  </tbody>\n",
       "</table>\n",
       "</div>"
      ],
      "text/plain": [
       "        Unnamed: 0       userID         year          vote      runtime  \\\n",
       "count  8001.000000  8001.000000  7946.000000  7.228000e+03  7073.000000   \n",
       "mean   4000.000000  4000.000000  1995.146111  1.902652e+04    97.644140   \n",
       "std    2309.834085  2309.834085    15.829040  9.951044e+04    64.906578   \n",
       "min       0.000000     0.000000  1905.000000  5.000000e+00     1.000000   \n",
       "25%    2000.000000  2000.000000  1990.000000  2.427500e+02    75.000000   \n",
       "50%    4000.000000  4000.000000  1999.000000  1.266500e+03    93.000000   \n",
       "75%    6000.000000  6000.000000  2003.000000  6.138500e+03   109.000000   \n",
       "max    8000.000000  8000.000000  2023.000000  2.462087e+06  1620.000000   \n",
       "\n",
       "            rating  \n",
       "count  7228.000000  \n",
       "mean      6.716146  \n",
       "std       1.291765  \n",
       "min       1.200000  \n",
       "25%       6.100000  \n",
       "50%       6.900000  \n",
       "75%       7.600000  \n",
       "max       9.600000  "
      ]
     },
     "execution_count": 4,
     "metadata": {},
     "output_type": "execute_result"
    }
   ],
   "source": [
    "train.describe()"
   ]
  },
  {
   "cell_type": "code",
   "execution_count": 5,
   "id": "5b6b8d88",
   "metadata": {
    "execution": {
     "iopub.execute_input": "2022-04-21T12:57:34.236128Z",
     "iopub.status.busy": "2022-04-21T12:57:34.235576Z",
     "iopub.status.idle": "2022-04-21T12:57:34.256247Z",
     "shell.execute_reply": "2022-04-21T12:57:34.255401Z"
    },
    "papermill": {
     "duration": 0.068739,
     "end_time": "2022-04-21T12:57:34.258562",
     "exception": false,
     "start_time": "2022-04-21T12:57:34.189823",
     "status": "completed"
    },
    "tags": []
   },
   "outputs": [
    {
     "data": {
      "text/html": [
       "<div>\n",
       "<style scoped>\n",
       "    .dataframe tbody tr th:only-of-type {\n",
       "        vertical-align: middle;\n",
       "    }\n",
       "\n",
       "    .dataframe tbody tr th {\n",
       "        vertical-align: top;\n",
       "    }\n",
       "\n",
       "    .dataframe thead th {\n",
       "        text-align: right;\n",
       "    }\n",
       "</style>\n",
       "<table border=\"1\" class=\"dataframe\">\n",
       "  <thead>\n",
       "    <tr style=\"text-align: right;\">\n",
       "      <th></th>\n",
       "      <th>Unnamed: 0</th>\n",
       "      <th>userID</th>\n",
       "      <th>title</th>\n",
       "      <th>year</th>\n",
       "      <th>kind</th>\n",
       "      <th>genre</th>\n",
       "      <th>vote</th>\n",
       "      <th>country</th>\n",
       "      <th>language</th>\n",
       "      <th>cast</th>\n",
       "      <th>director</th>\n",
       "      <th>composer</th>\n",
       "      <th>writer</th>\n",
       "      <th>runtime</th>\n",
       "      <th>rating</th>\n",
       "    </tr>\n",
       "  </thead>\n",
       "  <tbody>\n",
       "    <tr>\n",
       "      <th>0</th>\n",
       "      <td>0</td>\n",
       "      <td>0</td>\n",
       "      <td>Dinosaur Planet</td>\n",
       "      <td>2003.0</td>\n",
       "      <td>tv mini series</td>\n",
       "      <td>['Documentary', 'Animation', 'Family']</td>\n",
       "      <td>474.0</td>\n",
       "      <td>['United States']</td>\n",
       "      <td>['English']</td>\n",
       "      <td>['Christian Slater', 'Scott Sampson']</td>\n",
       "      <td>NaN</td>\n",
       "      <td>NaN</td>\n",
       "      <td>['Mike Carrol', 'Mike Carroll', 'Georgann Kane']</td>\n",
       "      <td>50.0</td>\n",
       "      <td>7.7</td>\n",
       "    </tr>\n",
       "    <tr>\n",
       "      <th>1</th>\n",
       "      <td>1</td>\n",
       "      <td>1</td>\n",
       "      <td>Character</td>\n",
       "      <td>2021.0</td>\n",
       "      <td>movie</td>\n",
       "      <td>['Crime', 'Horror', 'Thriller']</td>\n",
       "      <td>46.0</td>\n",
       "      <td>['Japan']</td>\n",
       "      <td>['Japanese']</td>\n",
       "      <td>['Masaki Suda', 'Fukase', 'Mitsuki Takahata', ...</td>\n",
       "      <td>['Akira Nagai']</td>\n",
       "      <td>['Youki Kojima']</td>\n",
       "      <td>['Takashi Nagasaki', 'Takashi Nagasaki', 'Anna...</td>\n",
       "      <td>125.0</td>\n",
       "      <td>8.3</td>\n",
       "    </tr>\n",
       "    <tr>\n",
       "      <th>2</th>\n",
       "      <td>2</td>\n",
       "      <td>2</td>\n",
       "      <td>Get Up and Dance!</td>\n",
       "      <td>1994.0</td>\n",
       "      <td>video movie</td>\n",
       "      <td>['Family']</td>\n",
       "      <td>18.0</td>\n",
       "      <td>['United States']</td>\n",
       "      <td>['English']</td>\n",
       "      <td>['Paula Abdul', 'Aurorah Allain', 'Bill Bohl',...</td>\n",
       "      <td>['Steve Purcell']</td>\n",
       "      <td>NaN</td>\n",
       "      <td>NaN</td>\n",
       "      <td>54.0</td>\n",
       "      <td>8.1</td>\n",
       "    </tr>\n",
       "    <tr>\n",
       "      <th>3</th>\n",
       "      <td>3</td>\n",
       "      <td>3</td>\n",
       "      <td>The Rise and Fall of El Chapo</td>\n",
       "      <td>2016.0</td>\n",
       "      <td>tv movie</td>\n",
       "      <td>['Documentary']</td>\n",
       "      <td>42.0</td>\n",
       "      <td>['United States']</td>\n",
       "      <td>NaN</td>\n",
       "      <td>NaN</td>\n",
       "      <td>NaN</td>\n",
       "      <td>NaN</td>\n",
       "      <td>NaN</td>\n",
       "      <td>85.0</td>\n",
       "      <td>6.9</td>\n",
       "    </tr>\n",
       "    <tr>\n",
       "      <th>4</th>\n",
       "      <td>4</td>\n",
       "      <td>4</td>\n",
       "      <td>Sick - IMDb</td>\n",
       "      <td>NaN</td>\n",
       "      <td>NaN</td>\n",
       "      <td>['Thriller']</td>\n",
       "      <td>NaN</td>\n",
       "      <td>['United States']</td>\n",
       "      <td>NaN</td>\n",
       "      <td>['Marc Menchaca', 'Gideon Adlon', 'Dylan Spray...</td>\n",
       "      <td>['John Hyams']</td>\n",
       "      <td>NaN</td>\n",
       "      <td>['Katelyn Crabb', 'Kevin Williamson']</td>\n",
       "      <td>NaN</td>\n",
       "      <td>NaN</td>\n",
       "    </tr>\n",
       "  </tbody>\n",
       "</table>\n",
       "</div>"
      ],
      "text/plain": [
       "   Unnamed: 0  userID                          title    year            kind  \\\n",
       "0           0       0                Dinosaur Planet  2003.0  tv mini series   \n",
       "1           1       1                      Character  2021.0           movie   \n",
       "2           2       2              Get Up and Dance!  1994.0     video movie   \n",
       "3           3       3  The Rise and Fall of El Chapo  2016.0        tv movie   \n",
       "4           4       4                    Sick - IMDb     NaN             NaN   \n",
       "\n",
       "                                    genre   vote            country  \\\n",
       "0  ['Documentary', 'Animation', 'Family']  474.0  ['United States']   \n",
       "1         ['Crime', 'Horror', 'Thriller']   46.0          ['Japan']   \n",
       "2                              ['Family']   18.0  ['United States']   \n",
       "3                         ['Documentary']   42.0  ['United States']   \n",
       "4                            ['Thriller']    NaN  ['United States']   \n",
       "\n",
       "       language                                               cast  \\\n",
       "0   ['English']              ['Christian Slater', 'Scott Sampson']   \n",
       "1  ['Japanese']  ['Masaki Suda', 'Fukase', 'Mitsuki Takahata', ...   \n",
       "2   ['English']  ['Paula Abdul', 'Aurorah Allain', 'Bill Bohl',...   \n",
       "3           NaN                                                NaN   \n",
       "4           NaN  ['Marc Menchaca', 'Gideon Adlon', 'Dylan Spray...   \n",
       "\n",
       "            director          composer  \\\n",
       "0                NaN               NaN   \n",
       "1    ['Akira Nagai']  ['Youki Kojima']   \n",
       "2  ['Steve Purcell']               NaN   \n",
       "3                NaN               NaN   \n",
       "4     ['John Hyams']               NaN   \n",
       "\n",
       "                                              writer  runtime  rating  \n",
       "0   ['Mike Carrol', 'Mike Carroll', 'Georgann Kane']     50.0     7.7  \n",
       "1  ['Takashi Nagasaki', 'Takashi Nagasaki', 'Anna...    125.0     8.3  \n",
       "2                                                NaN     54.0     8.1  \n",
       "3                                                NaN     85.0     6.9  \n",
       "4              ['Katelyn Crabb', 'Kevin Williamson']      NaN     NaN  "
      ]
     },
     "execution_count": 5,
     "metadata": {},
     "output_type": "execute_result"
    }
   ],
   "source": [
    "train.head()"
   ]
  },
  {
   "cell_type": "code",
   "execution_count": 6,
   "id": "cd534d00",
   "metadata": {
    "execution": {
     "iopub.execute_input": "2022-04-21T12:57:34.347409Z",
     "iopub.status.busy": "2022-04-21T12:57:34.347108Z",
     "iopub.status.idle": "2022-04-21T12:57:34.360266Z",
     "shell.execute_reply": "2022-04-21T12:57:34.359316Z"
    },
    "papermill": {
     "duration": 0.060139,
     "end_time": "2022-04-21T12:57:34.362489",
     "exception": false,
     "start_time": "2022-04-21T12:57:34.302350",
     "status": "completed"
    },
    "tags": []
   },
   "outputs": [
    {
     "data": {
      "text/plain": [
       "['Kevin Dunn']                                    33\n",
       "['Akira Kurosawa']                                16\n",
       "['Tom Clegg']                                     14\n",
       "['Werner Herzog']                                 14\n",
       "['Takashi Miike']                                 14\n",
       "                                                  ..\n",
       "['Clive Donner']                                   1\n",
       "['Margaret Selby', 'Tex Avery', 'Chuck Jones']     1\n",
       "['Elio Petri']                                     1\n",
       "['Gary Dauberman']                                 1\n",
       "['Arthur Wong', 'Brandy Yuen']                     1\n",
       "Name: director, Length: 4241, dtype: int64"
      ]
     },
     "execution_count": 6,
     "metadata": {},
     "output_type": "execute_result"
    }
   ],
   "source": [
    "train['director'].value_counts()"
   ]
  },
  {
   "cell_type": "markdown",
   "id": "7f975cc1",
   "metadata": {
    "papermill": {
     "duration": 0.043308,
     "end_time": "2022-04-21T12:57:34.449140",
     "exception": false,
     "start_time": "2022-04-21T12:57:34.405832",
     "status": "completed"
    },
    "tags": []
   },
   "source": [
    "## Check Missing Values"
   ]
  },
  {
   "cell_type": "code",
   "execution_count": 7,
   "id": "03a1f9b3",
   "metadata": {
    "execution": {
     "iopub.execute_input": "2022-04-21T12:57:34.538113Z",
     "iopub.status.busy": "2022-04-21T12:57:34.537529Z",
     "iopub.status.idle": "2022-04-21T12:57:34.554444Z",
     "shell.execute_reply": "2022-04-21T12:57:34.553499Z"
    },
    "papermill": {
     "duration": 0.063717,
     "end_time": "2022-04-21T12:57:34.556774",
     "exception": false,
     "start_time": "2022-04-21T12:57:34.493057",
     "status": "completed"
    },
    "tags": []
   },
   "outputs": [
    {
     "data": {
      "text/plain": [
       "Unnamed: 0       0\n",
       "userID           0\n",
       "title            1\n",
       "year            55\n",
       "kind            30\n",
       "genre           85\n",
       "vote           773\n",
       "country        586\n",
       "language       696\n",
       "cast           307\n",
       "director      1633\n",
       "composer      3149\n",
       "writer        1469\n",
       "runtime        928\n",
       "rating         773\n",
       "dtype: int64"
      ]
     },
     "execution_count": 7,
     "metadata": {},
     "output_type": "execute_result"
    }
   ],
   "source": [
    "train.isnull().sum()"
   ]
  },
  {
   "cell_type": "code",
   "execution_count": 8,
   "id": "679e3c69",
   "metadata": {
    "execution": {
     "iopub.execute_input": "2022-04-21T12:57:34.648702Z",
     "iopub.status.busy": "2022-04-21T12:57:34.648066Z",
     "iopub.status.idle": "2022-04-21T12:57:34.659620Z",
     "shell.execute_reply": "2022-04-21T12:57:34.658660Z"
    },
    "papermill": {
     "duration": 0.060321,
     "end_time": "2022-04-21T12:57:34.662496",
     "exception": false,
     "start_time": "2022-04-21T12:57:34.602175",
     "status": "completed"
    },
    "tags": []
   },
   "outputs": [
    {
     "data": {
      "text/plain": [
       "Unnamed: 0      0\n",
       "userID          0\n",
       "title           0\n",
       "year           15\n",
       "kind            8\n",
       "genre           8\n",
       "vote          104\n",
       "country        79\n",
       "language       97\n",
       "cast           37\n",
       "director      227\n",
       "composer      473\n",
       "writer        187\n",
       "runtime       128\n",
       "dtype: int64"
      ]
     },
     "execution_count": 8,
     "metadata": {},
     "output_type": "execute_result"
    }
   ],
   "source": [
    "test.isnull().sum()"
   ]
  },
  {
   "cell_type": "markdown",
   "id": "c283064a",
   "metadata": {
    "papermill": {
     "duration": 0.045868,
     "end_time": "2022-04-21T12:57:34.754420",
     "exception": false,
     "start_time": "2022-04-21T12:57:34.708552",
     "status": "completed"
    },
    "tags": []
   },
   "source": [
    "# Data Clean"
   ]
  },
  {
   "cell_type": "code",
   "execution_count": 9,
   "id": "ecfb2f27",
   "metadata": {
    "execution": {
     "iopub.execute_input": "2022-04-21T12:57:34.846500Z",
     "iopub.status.busy": "2022-04-21T12:57:34.846207Z",
     "iopub.status.idle": "2022-04-21T12:57:34.853545Z",
     "shell.execute_reply": "2022-04-21T12:57:34.853016Z"
    },
    "papermill": {
     "duration": 0.056563,
     "end_time": "2022-04-21T12:57:34.856111",
     "exception": false,
     "start_time": "2022-04-21T12:57:34.799548",
     "status": "completed"
    },
    "tags": []
   },
   "outputs": [
    {
     "data": {
      "text/plain": [
       "True    8001\n",
       "dtype: int64"
      ]
     },
     "execution_count": 9,
     "metadata": {},
     "output_type": "execute_result"
    }
   ],
   "source": [
    "verif = train['Unnamed: 0'] == train['userID']\n",
    "verif.value_counts()"
   ]
  },
  {
   "cell_type": "markdown",
   "id": "d189e27d",
   "metadata": {
    "papermill": {
     "duration": 0.046076,
     "end_time": "2022-04-21T12:57:34.949050",
     "exception": false,
     "start_time": "2022-04-21T12:57:34.902974",
     "status": "completed"
    },
    "tags": []
   },
   "source": [
    "So, we are going to delete this feature"
   ]
  },
  {
   "cell_type": "code",
   "execution_count": 10,
   "id": "0f5c96f0",
   "metadata": {
    "execution": {
     "iopub.execute_input": "2022-04-21T12:57:35.042137Z",
     "iopub.status.busy": "2022-04-21T12:57:35.041476Z",
     "iopub.status.idle": "2022-04-21T12:57:35.047086Z",
     "shell.execute_reply": "2022-04-21T12:57:35.046110Z"
    },
    "papermill": {
     "duration": 0.055301,
     "end_time": "2022-04-21T12:57:35.049608",
     "exception": false,
     "start_time": "2022-04-21T12:57:34.994307",
     "status": "completed"
    },
    "tags": []
   },
   "outputs": [],
   "source": [
    "del train['Unnamed: 0']\n",
    "del test['Unnamed: 0']"
   ]
  },
  {
   "cell_type": "markdown",
   "id": "459856ee",
   "metadata": {
    "papermill": {
     "duration": 0.044322,
     "end_time": "2022-04-21T12:57:35.138951",
     "exception": false,
     "start_time": "2022-04-21T12:57:35.094629",
     "status": "completed"
    },
    "tags": []
   },
   "source": [
    "### Object cols"
   ]
  },
  {
   "cell_type": "code",
   "execution_count": 11,
   "id": "473b7acd",
   "metadata": {
    "_kg_hide-output": true,
    "execution": {
     "iopub.execute_input": "2022-04-21T12:57:35.230369Z",
     "iopub.status.busy": "2022-04-21T12:57:35.230047Z",
     "iopub.status.idle": "2022-04-21T12:57:35.237922Z",
     "shell.execute_reply": "2022-04-21T12:57:35.237062Z"
    },
    "papermill": {
     "duration": 0.056483,
     "end_time": "2022-04-21T12:57:35.240089",
     "exception": false,
     "start_time": "2022-04-21T12:57:35.183606",
     "status": "completed"
    },
    "tags": []
   },
   "outputs": [
    {
     "data": {
      "text/plain": [
       "['title',\n",
       " 'kind',\n",
       " 'genre',\n",
       " 'country',\n",
       " 'language',\n",
       " 'cast',\n",
       " 'director',\n",
       " 'composer',\n",
       " 'writer']"
      ]
     },
     "execution_count": 11,
     "metadata": {},
     "output_type": "execute_result"
    }
   ],
   "source": [
    "obj_cols = []\n",
    "\n",
    "for i in train.columns:\n",
    "    if train[i].dtypes == 'object':\n",
    "        obj_cols.append(i)\n",
    "        \n",
    "        \n",
    "obj_cols"
   ]
  },
  {
   "cell_type": "markdown",
   "id": "1405fee8",
   "metadata": {
    "papermill": {
     "duration": 0.044721,
     "end_time": "2022-04-21T12:57:35.332151",
     "exception": false,
     "start_time": "2022-04-21T12:57:35.287430",
     "status": "completed"
    },
    "tags": []
   },
   "source": [
    "### Encode Label"
   ]
  },
  {
   "cell_type": "code",
   "execution_count": 12,
   "id": "30fc94d7",
   "metadata": {
    "execution": {
     "iopub.execute_input": "2022-04-21T12:57:35.423392Z",
     "iopub.status.busy": "2022-04-21T12:57:35.423062Z",
     "iopub.status.idle": "2022-04-21T12:57:36.567840Z",
     "shell.execute_reply": "2022-04-21T12:57:36.566932Z"
    },
    "papermill": {
     "duration": 1.193401,
     "end_time": "2022-04-21T12:57:36.570503",
     "exception": false,
     "start_time": "2022-04-21T12:57:35.377102",
     "status": "completed"
    },
    "tags": []
   },
   "outputs": [],
   "source": [
    "from sklearn import preprocessing\n",
    "le = preprocessing.LabelEncoder()"
   ]
  },
  {
   "cell_type": "code",
   "execution_count": 13,
   "id": "2b9354ef",
   "metadata": {
    "execution": {
     "iopub.execute_input": "2022-04-21T12:57:36.663903Z",
     "iopub.status.busy": "2022-04-21T12:57:36.663610Z",
     "iopub.status.idle": "2022-04-21T12:57:36.813624Z",
     "shell.execute_reply": "2022-04-21T12:57:36.812675Z"
    },
    "papermill": {
     "duration": 0.199702,
     "end_time": "2022-04-21T12:57:36.816085",
     "exception": false,
     "start_time": "2022-04-21T12:57:36.616383",
     "status": "completed"
    },
    "tags": []
   },
   "outputs": [
    {
     "name": "stdout",
     "output_type": "stream",
     "text": [
      "<class 'pandas.core.frame.DataFrame'>\n",
      "RangeIndex: 8001 entries, 0 to 8000\n",
      "Data columns (total 14 columns):\n",
      " #   Column    Non-Null Count  Dtype  \n",
      "---  ------    --------------  -----  \n",
      " 0   userID    8001 non-null   int64  \n",
      " 1   title     8001 non-null   int64  \n",
      " 2   year      7946 non-null   float64\n",
      " 3   kind      8001 non-null   int64  \n",
      " 4   genre     8001 non-null   int64  \n",
      " 5   vote      7228 non-null   float64\n",
      " 6   country   8001 non-null   int64  \n",
      " 7   language  8001 non-null   int64  \n",
      " 8   cast      8001 non-null   int64  \n",
      " 9   director  8001 non-null   int64  \n",
      " 10  composer  8001 non-null   int64  \n",
      " 11  writer    8001 non-null   int64  \n",
      " 12  runtime   7073 non-null   float64\n",
      " 13  rating    7228 non-null   float64\n",
      "dtypes: float64(4), int64(10)\n",
      "memory usage: 875.2 KB\n"
     ]
    }
   ],
   "source": [
    "for col in obj_cols:\n",
    "    train[col] = le.fit_transform(train[col])\n",
    "    test[col] = le.fit_transform(test[col])\n",
    "    \n",
    "train.info()"
   ]
  },
  {
   "cell_type": "markdown",
   "id": "ef45d5e2",
   "metadata": {
    "papermill": {
     "duration": 0.050134,
     "end_time": "2022-04-21T12:57:36.915622",
     "exception": false,
     "start_time": "2022-04-21T12:57:36.865488",
     "status": "completed"
    },
    "tags": []
   },
   "source": [
    "### Imputer Data"
   ]
  },
  {
   "cell_type": "code",
   "execution_count": 14,
   "id": "8bb0d9b5",
   "metadata": {
    "execution": {
     "iopub.execute_input": "2022-04-21T12:57:37.011241Z",
     "iopub.status.busy": "2022-04-21T12:57:37.010935Z",
     "iopub.status.idle": "2022-04-21T12:57:37.213825Z",
     "shell.execute_reply": "2022-04-21T12:57:37.212873Z"
    },
    "papermill": {
     "duration": 0.253461,
     "end_time": "2022-04-21T12:57:37.216369",
     "exception": false,
     "start_time": "2022-04-21T12:57:36.962908",
     "status": "completed"
    },
    "tags": []
   },
   "outputs": [],
   "source": [
    "from sklearn.impute import KNNImputer\n",
    "\n",
    "knni = KNNImputer(n_neighbors=5)"
   ]
  },
  {
   "cell_type": "code",
   "execution_count": 15,
   "id": "af09546b",
   "metadata": {
    "execution": {
     "iopub.execute_input": "2022-04-21T12:57:37.320444Z",
     "iopub.status.busy": "2022-04-21T12:57:37.320013Z",
     "iopub.status.idle": "2022-04-21T12:57:37.334368Z",
     "shell.execute_reply": "2022-04-21T12:57:37.333518Z"
    },
    "papermill": {
     "duration": 0.063518,
     "end_time": "2022-04-21T12:57:37.336445",
     "exception": false,
     "start_time": "2022-04-21T12:57:37.272927",
     "status": "completed"
    },
    "tags": []
   },
   "outputs": [
    {
     "data": {
      "text/plain": [
       "(4, 3)"
      ]
     },
     "execution_count": 15,
     "metadata": {},
     "output_type": "execute_result"
    }
   ],
   "source": [
    "null_train_cols = []\n",
    "for col in train.columns:\n",
    "    if train[col].isnull().sum().any():\n",
    "        null_train_cols.append(col)\n",
    "        \n",
    "null_test_cols = []\n",
    "for col in test.columns:\n",
    "    if test[col].isnull().sum().any():\n",
    "        null_test_cols.append(col)\n",
    "        \n",
    "len(null_train_cols), len(null_test_cols)"
   ]
  },
  {
   "cell_type": "code",
   "execution_count": 16,
   "id": "77b1315b",
   "metadata": {
    "execution": {
     "iopub.execute_input": "2022-04-21T12:57:37.431042Z",
     "iopub.status.busy": "2022-04-21T12:57:37.430489Z",
     "iopub.status.idle": "2022-04-21T12:57:37.435650Z",
     "shell.execute_reply": "2022-04-21T12:57:37.434627Z"
    },
    "papermill": {
     "duration": 0.054076,
     "end_time": "2022-04-21T12:57:37.437707",
     "exception": false,
     "start_time": "2022-04-21T12:57:37.383631",
     "status": "completed"
    },
    "tags": []
   },
   "outputs": [
    {
     "data": {
      "text/plain": [
       "['year', 'vote', 'runtime', 'rating']"
      ]
     },
     "execution_count": 16,
     "metadata": {},
     "output_type": "execute_result"
    }
   ],
   "source": [
    "null_train_cols"
   ]
  },
  {
   "cell_type": "markdown",
   "id": "50eeea55",
   "metadata": {
    "papermill": {
     "duration": 0.046443,
     "end_time": "2022-04-21T12:57:37.532410",
     "exception": false,
     "start_time": "2022-04-21T12:57:37.485967",
     "status": "completed"
    },
    "tags": []
   },
   "source": [
    "- Impute Train Data"
   ]
  },
  {
   "cell_type": "code",
   "execution_count": 17,
   "id": "5b2274d6",
   "metadata": {
    "execution": {
     "iopub.execute_input": "2022-04-21T12:57:37.626376Z",
     "iopub.status.busy": "2022-04-21T12:57:37.625944Z",
     "iopub.status.idle": "2022-04-21T12:57:38.689192Z",
     "shell.execute_reply": "2022-04-21T12:57:38.688508Z"
    },
    "papermill": {
     "duration": 1.112465,
     "end_time": "2022-04-21T12:57:38.691094",
     "exception": false,
     "start_time": "2022-04-21T12:57:37.578629",
     "status": "completed"
    },
    "tags": []
   },
   "outputs": [
    {
     "data": {
      "text/plain": [
       "userID      0\n",
       "title       0\n",
       "year        0\n",
       "kind        0\n",
       "genre       0\n",
       "vote        0\n",
       "country     0\n",
       "language    0\n",
       "cast        0\n",
       "director    0\n",
       "composer    0\n",
       "writer      0\n",
       "runtime     0\n",
       "rating      0\n",
       "dtype: int64"
      ]
     },
     "execution_count": 17,
     "metadata": {},
     "output_type": "execute_result"
    }
   ],
   "source": [
    "imput_train = pd.DataFrame(knni.fit_transform(train[null_train_cols]))\n",
    "\n",
    "iterate = 0\n",
    "for col in null_train_cols:\n",
    "    train[col] = imput_train[iterate]\n",
    "    iterate +=1\n",
    "    \n",
    "del imput_train\n",
    "train.isnull().sum()"
   ]
  },
  {
   "cell_type": "markdown",
   "id": "a372c511",
   "metadata": {
    "papermill": {
     "duration": 0.045885,
     "end_time": "2022-04-21T12:57:38.783768",
     "exception": false,
     "start_time": "2022-04-21T12:57:38.737883",
     "status": "completed"
    },
    "tags": []
   },
   "source": [
    "- Impute Test Data"
   ]
  },
  {
   "cell_type": "code",
   "execution_count": 18,
   "id": "c81c4eea",
   "metadata": {
    "execution": {
     "iopub.execute_input": "2022-04-21T12:57:38.879329Z",
     "iopub.status.busy": "2022-04-21T12:57:38.878887Z",
     "iopub.status.idle": "2022-04-21T12:57:38.929698Z",
     "shell.execute_reply": "2022-04-21T12:57:38.928722Z"
    },
    "papermill": {
     "duration": 0.102752,
     "end_time": "2022-04-21T12:57:38.932882",
     "exception": false,
     "start_time": "2022-04-21T12:57:38.830130",
     "status": "completed"
    },
    "tags": []
   },
   "outputs": [
    {
     "data": {
      "text/plain": [
       "userID      0\n",
       "title       0\n",
       "year        0\n",
       "kind        0\n",
       "genre       0\n",
       "vote        0\n",
       "country     0\n",
       "language    0\n",
       "cast        0\n",
       "director    0\n",
       "composer    0\n",
       "writer      0\n",
       "runtime     0\n",
       "dtype: int64"
      ]
     },
     "execution_count": 18,
     "metadata": {},
     "output_type": "execute_result"
    }
   ],
   "source": [
    "imput_test = pd.DataFrame(knni.fit_transform(test[null_test_cols]))\n",
    "\n",
    "iterate = 0\n",
    "for col in null_test_cols:\n",
    "    test[col] = imput_test[iterate]\n",
    "    iterate +=1\n",
    "    \n",
    "test.isnull().sum()"
   ]
  },
  {
   "cell_type": "markdown",
   "id": "756b0baf",
   "metadata": {
    "papermill": {
     "duration": 0.049373,
     "end_time": "2022-04-21T12:57:39.066840",
     "exception": false,
     "start_time": "2022-04-21T12:57:39.017467",
     "status": "completed"
    },
    "tags": []
   },
   "source": [
    "# Modeling"
   ]
  },
  {
   "cell_type": "markdown",
   "id": "1d59ed01",
   "metadata": {
    "papermill": {
     "duration": 0.046559,
     "end_time": "2022-04-21T12:57:39.160428",
     "exception": false,
     "start_time": "2022-04-21T12:57:39.113869",
     "status": "completed"
    },
    "tags": []
   },
   "source": [
    "### Split Data"
   ]
  },
  {
   "cell_type": "code",
   "execution_count": 19,
   "id": "9e10994d",
   "metadata": {
    "execution": {
     "iopub.execute_input": "2022-04-21T12:57:39.257265Z",
     "iopub.status.busy": "2022-04-21T12:57:39.256962Z",
     "iopub.status.idle": "2022-04-21T12:57:39.266305Z",
     "shell.execute_reply": "2022-04-21T12:57:39.265312Z"
    },
    "papermill": {
     "duration": 0.060332,
     "end_time": "2022-04-21T12:57:39.268490",
     "exception": false,
     "start_time": "2022-04-21T12:57:39.208158",
     "status": "completed"
    },
    "tags": []
   },
   "outputs": [
    {
     "data": {
      "text/plain": [
       "(8001, 12)"
      ]
     },
     "execution_count": 19,
     "metadata": {},
     "output_type": "execute_result"
    }
   ],
   "source": [
    "del train['userID']\n",
    "del test['userID']\n",
    "\n",
    "X = train.copy()\n",
    "y = X.pop('rating')\n",
    "\n",
    "X.shape"
   ]
  },
  {
   "cell_type": "markdown",
   "id": "baf56265",
   "metadata": {
    "papermill": {
     "duration": 0.048677,
     "end_time": "2022-04-21T12:57:39.364087",
     "exception": false,
     "start_time": "2022-04-21T12:57:39.315410",
     "status": "completed"
    },
    "tags": []
   },
   "source": [
    "### Try MLJAR"
   ]
  },
  {
   "cell_type": "code",
   "execution_count": 20,
   "id": "0f1bd736",
   "metadata": {
    "_kg_hide-output": true,
    "collapsed": true,
    "execution": {
     "iopub.execute_input": "2022-04-21T12:57:39.462424Z",
     "iopub.status.busy": "2022-04-21T12:57:39.461609Z",
     "iopub.status.idle": "2022-04-21T12:58:04.620250Z",
     "shell.execute_reply": "2022-04-21T12:58:04.618739Z"
    },
    "jupyter": {
     "outputs_hidden": true
    },
    "papermill": {
     "duration": 25.210861,
     "end_time": "2022-04-21T12:58:04.623907",
     "exception": false,
     "start_time": "2022-04-21T12:57:39.413046",
     "status": "completed"
    },
    "tags": []
   },
   "outputs": [
    {
     "name": "stdout",
     "output_type": "stream",
     "text": [
      "Collecting mljar-supervised\r\n",
      "  Downloading mljar-supervised-0.11.2.tar.gz (113 kB)\r\n",
      "\u001b[2K     \u001b[90m━━━━━━━━━━━━━━━━━━━━━━━━━━━━━━━━━━━━━━━\u001b[0m \u001b[32m113.6/113.6 KB\u001b[0m \u001b[31m4.0 MB/s\u001b[0m eta \u001b[36m0:00:00\u001b[0m\r\n",
      "\u001b[?25h  Preparing metadata (setup.py) ... \u001b[?25l-\b \bdone\r\n",
      "\u001b[?25hRequirement already satisfied: numpy>=1.19.5 in /opt/conda/lib/python3.7/site-packages (from mljar-supervised) (1.21.5)\r\n",
      "Requirement already satisfied: pandas>=1.2.0 in /opt/conda/lib/python3.7/site-packages (from mljar-supervised) (1.3.5)\r\n",
      "Requirement already satisfied: scipy>=1.6.1 in /opt/conda/lib/python3.7/site-packages (from mljar-supervised) (1.7.3)\r\n",
      "Requirement already satisfied: scikit-learn>=1.0 in /opt/conda/lib/python3.7/site-packages (from mljar-supervised) (1.0.2)\r\n",
      "Requirement already satisfied: xgboost>=1.3.3 in /opt/conda/lib/python3.7/site-packages (from mljar-supervised) (1.5.2)\r\n",
      "Requirement already satisfied: lightgbm>=3.0.0 in /opt/conda/lib/python3.7/site-packages (from mljar-supervised) (3.3.1)\r\n",
      "Requirement already satisfied: catboost>=0.24.4 in /opt/conda/lib/python3.7/site-packages (from mljar-supervised) (1.0.5)\r\n",
      "Requirement already satisfied: joblib>=1.0.1 in /opt/conda/lib/python3.7/site-packages (from mljar-supervised) (1.0.1)\r\n",
      "Requirement already satisfied: tabulate>=0.8.7 in /opt/conda/lib/python3.7/site-packages (from mljar-supervised) (0.8.9)\r\n",
      "Requirement already satisfied: matplotlib>=3.2.2 in /opt/conda/lib/python3.7/site-packages (from mljar-supervised) (3.5.1)\r\n",
      "Collecting dtreeviz>=1.3.3\r\n",
      "  Downloading dtreeviz-1.3.5.tar.gz (61 kB)\r\n",
      "\u001b[2K     \u001b[90m━━━━━━━━━━━━━━━━━━━━━━━━━━━━━━━━━━━━━━━━\u001b[0m \u001b[32m61.7/61.7 KB\u001b[0m \u001b[31m4.7 MB/s\u001b[0m eta \u001b[36m0:00:00\u001b[0m\r\n",
      "\u001b[?25h  Preparing metadata (setup.py) ... \u001b[?25l-\b \bdone\r\n",
      "\u001b[?25hCollecting shap==0.36.0\r\n",
      "  Downloading shap-0.36.0.tar.gz (319 kB)\r\n",
      "\u001b[2K     \u001b[90m━━━━━━━━━━━━━━━━━━━━━━━━━━━━━━━━━━━━━━━\u001b[0m \u001b[32m319.8/319.8 KB\u001b[0m \u001b[31m9.8 MB/s\u001b[0m eta \u001b[36m0:00:00\u001b[0m\r\n",
      "\u001b[?25h  Preparing metadata (setup.py) ... \u001b[?25l-\b \b\\\b \bdone\r\n",
      "\u001b[?25hRequirement already satisfied: seaborn>=0.11.1 in /opt/conda/lib/python3.7/site-packages (from mljar-supervised) (0.11.2)\r\n",
      "Requirement already satisfied: wordcloud>=1.8.1 in /opt/conda/lib/python3.7/site-packages (from mljar-supervised) (1.8.1)\r\n",
      "Requirement already satisfied: category_encoders>=2.2.2 in /opt/conda/lib/python3.7/site-packages (from mljar-supervised) (2.4.0)\r\n",
      "Requirement already satisfied: optuna>=2.7.0 in /opt/conda/lib/python3.7/site-packages (from mljar-supervised) (2.10.0)\r\n",
      "Requirement already satisfied: scikit-plot==0.3.7 in /opt/conda/lib/python3.7/site-packages (from mljar-supervised) (0.3.7)\r\n",
      "Requirement already satisfied: markdown in /opt/conda/lib/python3.7/site-packages (from mljar-supervised) (3.3.6)\r\n",
      "Requirement already satisfied: typing-extensions in /opt/conda/lib/python3.7/site-packages (from mljar-supervised) (4.1.1)\r\n",
      "Requirement already satisfied: tqdm>4.25.0 in /opt/conda/lib/python3.7/site-packages (from shap==0.36.0->mljar-supervised) (4.63.0)\r\n",
      "Requirement already satisfied: slicer in /opt/conda/lib/python3.7/site-packages (from shap==0.36.0->mljar-supervised) (0.0.7)\r\n",
      "Requirement already satisfied: numba in /opt/conda/lib/python3.7/site-packages (from shap==0.36.0->mljar-supervised) (0.55.1)\r\n",
      "Requirement already satisfied: six in /opt/conda/lib/python3.7/site-packages (from catboost>=0.24.4->mljar-supervised) (1.16.0)\r\n",
      "Requirement already satisfied: graphviz in /opt/conda/lib/python3.7/site-packages (from catboost>=0.24.4->mljar-supervised) (0.8.4)\r\n",
      "Requirement already satisfied: plotly in /opt/conda/lib/python3.7/site-packages (from catboost>=0.24.4->mljar-supervised) (5.7.0)\r\n",
      "Requirement already satisfied: patsy>=0.5.1 in /opt/conda/lib/python3.7/site-packages (from category_encoders>=2.2.2->mljar-supervised) (0.5.2)\r\n",
      "Requirement already satisfied: statsmodels>=0.9.0 in /opt/conda/lib/python3.7/site-packages (from category_encoders>=2.2.2->mljar-supervised) (0.13.2)\r\n",
      "Collecting graphviz\r\n",
      "  Downloading graphviz-0.20-py3-none-any.whl (46 kB)\r\n",
      "\u001b[2K     \u001b[90m━━━━━━━━━━━━━━━━━━━━━━━━━━━━━━━━━━━━━━━━\u001b[0m \u001b[32m47.0/47.0 KB\u001b[0m \u001b[31m3.7 MB/s\u001b[0m eta \u001b[36m0:00:00\u001b[0m\r\n",
      "\u001b[?25hCollecting colour\r\n",
      "  Downloading colour-0.1.5-py2.py3-none-any.whl (23 kB)\r\n",
      "Requirement already satisfied: pytest in /opt/conda/lib/python3.7/site-packages (from dtreeviz>=1.3.3->mljar-supervised) (7.1.1)\r\n",
      "Requirement already satisfied: wheel in /opt/conda/lib/python3.7/site-packages (from lightgbm>=3.0.0->mljar-supervised) (0.37.1)\r\n",
      "Requirement already satisfied: packaging>=20.0 in /opt/conda/lib/python3.7/site-packages (from matplotlib>=3.2.2->mljar-supervised) (21.3)\r\n",
      "Requirement already satisfied: fonttools>=4.22.0 in /opt/conda/lib/python3.7/site-packages (from matplotlib>=3.2.2->mljar-supervised) (4.30.0)\r\n",
      "Requirement already satisfied: kiwisolver>=1.0.1 in /opt/conda/lib/python3.7/site-packages (from matplotlib>=3.2.2->mljar-supervised) (1.4.0)\r\n",
      "Requirement already satisfied: python-dateutil>=2.7 in /opt/conda/lib/python3.7/site-packages (from matplotlib>=3.2.2->mljar-supervised) (2.8.2)\r\n",
      "Requirement already satisfied: pyparsing>=2.2.1 in /opt/conda/lib/python3.7/site-packages (from matplotlib>=3.2.2->mljar-supervised) (3.0.7)\r\n",
      "Requirement already satisfied: pillow>=6.2.0 in /opt/conda/lib/python3.7/site-packages (from matplotlib>=3.2.2->mljar-supervised) (9.0.1)\r\n",
      "Requirement already satisfied: cycler>=0.10 in /opt/conda/lib/python3.7/site-packages (from matplotlib>=3.2.2->mljar-supervised) (0.11.0)\r\n",
      "Requirement already satisfied: cmaes>=0.8.2 in /opt/conda/lib/python3.7/site-packages (from optuna>=2.7.0->mljar-supervised) (0.8.2)\r\n",
      "Requirement already satisfied: alembic in /opt/conda/lib/python3.7/site-packages (from optuna>=2.7.0->mljar-supervised) (1.7.7)\r\n",
      "Requirement already satisfied: cliff in /opt/conda/lib/python3.7/site-packages (from optuna>=2.7.0->mljar-supervised) (3.10.1)\r\n",
      "Requirement already satisfied: sqlalchemy>=1.1.0 in /opt/conda/lib/python3.7/site-packages (from optuna>=2.7.0->mljar-supervised) (1.4.32)\r\n",
      "Requirement already satisfied: PyYAML in /opt/conda/lib/python3.7/site-packages (from optuna>=2.7.0->mljar-supervised) (6.0)\r\n",
      "Requirement already satisfied: colorlog in /opt/conda/lib/python3.7/site-packages (from optuna>=2.7.0->mljar-supervised) (6.6.0)\r\n",
      "Requirement already satisfied: pytz>=2017.3 in /opt/conda/lib/python3.7/site-packages (from pandas>=1.2.0->mljar-supervised) (2021.3)\r\n",
      "Requirement already satisfied: threadpoolctl>=2.0.0 in /opt/conda/lib/python3.7/site-packages (from scikit-learn>=1.0->mljar-supervised) (3.1.0)\r\n",
      "Requirement already satisfied: importlib-metadata>=4.4 in /opt/conda/lib/python3.7/site-packages (from markdown->mljar-supervised) (4.11.3)\r\n",
      "Requirement already satisfied: zipp>=0.5 in /opt/conda/lib/python3.7/site-packages (from importlib-metadata>=4.4->markdown->mljar-supervised) (3.7.0)\r\n",
      "Requirement already satisfied: greenlet!=0.4.17 in /opt/conda/lib/python3.7/site-packages (from sqlalchemy>=1.1.0->optuna>=2.7.0->mljar-supervised) (1.1.2)\r\n",
      "Requirement already satisfied: Mako in /opt/conda/lib/python3.7/site-packages (from alembic->optuna>=2.7.0->mljar-supervised) (1.2.0)\r\n",
      "Requirement already satisfied: importlib-resources in /opt/conda/lib/python3.7/site-packages (from alembic->optuna>=2.7.0->mljar-supervised) (5.4.0)\r\n",
      "Requirement already satisfied: pbr!=2.1.0,>=2.0.0 in /opt/conda/lib/python3.7/site-packages (from cliff->optuna>=2.7.0->mljar-supervised) (5.8.1)\r\n",
      "Requirement already satisfied: stevedore>=2.0.1 in /opt/conda/lib/python3.7/site-packages (from cliff->optuna>=2.7.0->mljar-supervised) (3.5.0)\r\n",
      "Requirement already satisfied: cmd2>=1.0.0 in /opt/conda/lib/python3.7/site-packages (from cliff->optuna>=2.7.0->mljar-supervised) (2.4.0)\r\n",
      "Requirement already satisfied: autopage>=0.4.0 in /opt/conda/lib/python3.7/site-packages (from cliff->optuna>=2.7.0->mljar-supervised) (0.5.0)\r\n",
      "Requirement already satisfied: PrettyTable>=0.7.2 in /opt/conda/lib/python3.7/site-packages (from cliff->optuna>=2.7.0->mljar-supervised) (3.2.0)\r\n",
      "Requirement already satisfied: setuptools in /opt/conda/lib/python3.7/site-packages (from numba->shap==0.36.0->mljar-supervised) (59.8.0)\r\n",
      "Requirement already satisfied: llvmlite<0.39,>=0.38.0rc1 in /opt/conda/lib/python3.7/site-packages (from numba->shap==0.36.0->mljar-supervised) (0.38.0)\r\n",
      "Requirement already satisfied: tenacity>=6.2.0 in /opt/conda/lib/python3.7/site-packages (from plotly->catboost>=0.24.4->mljar-supervised) (8.0.1)\r\n",
      "Requirement already satisfied: tomli>=1.0.0 in /opt/conda/lib/python3.7/site-packages (from pytest->dtreeviz>=1.3.3->mljar-supervised) (2.0.1)\r\n",
      "Requirement already satisfied: attrs>=19.2.0 in /opt/conda/lib/python3.7/site-packages (from pytest->dtreeviz>=1.3.3->mljar-supervised) (21.4.0)\r\n",
      "Requirement already satisfied: py>=1.8.2 in /opt/conda/lib/python3.7/site-packages (from pytest->dtreeviz>=1.3.3->mljar-supervised) (1.11.0)\r\n",
      "Requirement already satisfied: iniconfig in /opt/conda/lib/python3.7/site-packages (from pytest->dtreeviz>=1.3.3->mljar-supervised) (1.1.1)\r\n",
      "Requirement already satisfied: pluggy<2.0,>=0.12 in /opt/conda/lib/python3.7/site-packages (from pytest->dtreeviz>=1.3.3->mljar-supervised) (1.0.0)\r\n",
      "Requirement already satisfied: pyperclip>=1.6 in /opt/conda/lib/python3.7/site-packages (from cmd2>=1.0.0->cliff->optuna>=2.7.0->mljar-supervised) (1.8.2)\r\n",
      "Requirement already satisfied: wcwidth>=0.1.7 in /opt/conda/lib/python3.7/site-packages (from cmd2>=1.0.0->cliff->optuna>=2.7.0->mljar-supervised) (0.2.5)\r\n",
      "Requirement already satisfied: MarkupSafe>=0.9.2 in /opt/conda/lib/python3.7/site-packages (from Mako->alembic->optuna>=2.7.0->mljar-supervised) (2.0.1)\r\n",
      "Building wheels for collected packages: mljar-supervised, shap, dtreeviz\r\n",
      "  Building wheel for mljar-supervised (setup.py) ... \u001b[?25l-\b \b\\\b \bdone\r\n",
      "\u001b[?25h  Created wheel for mljar-supervised: filename=mljar_supervised-0.11.2-py3-none-any.whl size=146575 sha256=3f4bea0c60db1d9ed78680bfc2ef5107381077336c605618677f076280c49874\r\n",
      "  Stored in directory: /root/.cache/pip/wheels/4f/67/ed/479dbde33806ee15f1611a7ff54b9db565076be8acf2ef2d29\r\n",
      "  Building wheel for shap (setup.py) ... \u001b[?25l-\b \b\\\b \b|\b \b/\b \b-\b \b\\\b \bdone\r\n",
      "\u001b[?25h  Created wheel for shap: filename=shap-0.36.0-cp37-cp37m-linux_x86_64.whl size=502265 sha256=6571d0593cbb5a8d2cdc6525b1165a72dfaaf657601ff48ec74aef28a0ac5067\r\n",
      "  Stored in directory: /root/.cache/pip/wheels/6b/1e/4a/b1d65778aac48b677ac2a758251f9cccb338775e8d174f3696\r\n",
      "  Building wheel for dtreeviz (setup.py) ... \u001b[?25l-\b \b\\\b \bdone\r\n",
      "\u001b[?25h  Created wheel for dtreeviz: filename=dtreeviz-1.3.5-py3-none-any.whl size=67330 sha256=58d2d9cdc5c5f55aadf29371ca869aebd97d7f394b9348e7e5a7318064c91f9a\r\n",
      "  Stored in directory: /root/.cache/pip/wheels/9d/84/55/4de0a214e0b9d21a96fc343b4a85547f3dab815a49682dfeb2\r\n",
      "Successfully built mljar-supervised shap dtreeviz\r\n",
      "Installing collected packages: colour, graphviz, shap, dtreeviz, mljar-supervised\r\n",
      "  Attempting uninstall: graphviz\r\n",
      "    Found existing installation: graphviz 0.8.4\r\n",
      "    Uninstalling graphviz-0.8.4:\r\n",
      "      Successfully uninstalled graphviz-0.8.4\r\n",
      "  Attempting uninstall: shap\r\n",
      "    Found existing installation: shap 0.40.0\r\n",
      "    Uninstalling shap-0.40.0:\r\n",
      "      Successfully uninstalled shap-0.40.0\r\n",
      "\u001b[31mERROR: pip's dependency resolver does not currently take into account all the packages that are installed. This behaviour is the source of the following dependency conflicts.\r\n",
      "mxnet 1.9.0 requires graphviz<0.9.0,>=0.8.1, but you have graphviz 0.20 which is incompatible.\u001b[0m\u001b[31m\r\n",
      "\u001b[0mSuccessfully installed colour-0.1.5 dtreeviz-1.3.5 graphviz-0.20 mljar-supervised-0.11.2 shap-0.36.0\r\n",
      "\u001b[33mWARNING: Running pip as the 'root' user can result in broken permissions and conflicting behaviour with the system package manager. It is recommended to use a virtual environment instead: https://pip.pypa.io/warnings/venv\u001b[0m\u001b[33m\r\n",
      "\u001b[0m"
     ]
    }
   ],
   "source": [
    "import warnings\n",
    "warnings.simplefilter('ignore')\n",
    "\n",
    "#!pip install --ignore-installed -U mljar-supervised\n",
    "!pip install mljar-supervised"
   ]
  },
  {
   "cell_type": "code",
   "execution_count": 21,
   "id": "f59b1fde",
   "metadata": {
    "execution": {
     "iopub.execute_input": "2022-04-21T12:58:04.780732Z",
     "iopub.status.busy": "2022-04-21T12:58:04.780433Z",
     "iopub.status.idle": "2022-04-21T12:58:04.929135Z",
     "shell.execute_reply": "2022-04-21T12:58:04.928097Z"
    },
    "papermill": {
     "duration": 0.2254,
     "end_time": "2022-04-21T12:58:04.931216",
     "exception": false,
     "start_time": "2022-04-21T12:58:04.705816",
     "status": "completed"
    },
    "tags": []
   },
   "outputs": [
    {
     "data": {
      "text/plain": [
       "126"
      ]
     },
     "execution_count": 21,
     "metadata": {},
     "output_type": "execute_result"
    }
   ],
   "source": [
    "import gc\n",
    "gc.collect()"
   ]
  },
  {
   "cell_type": "code",
   "execution_count": 22,
   "id": "cfc7554a",
   "metadata": {
    "execution": {
     "iopub.execute_input": "2022-04-21T12:58:05.069575Z",
     "iopub.status.busy": "2022-04-21T12:58:05.068896Z",
     "iopub.status.idle": "2022-04-21T12:58:08.847177Z",
     "shell.execute_reply": "2022-04-21T12:58:08.846259Z"
    },
    "papermill": {
     "duration": 3.850773,
     "end_time": "2022-04-21T12:58:08.849719",
     "exception": false,
     "start_time": "2022-04-21T12:58:04.998946",
     "status": "completed"
    },
    "tags": []
   },
   "outputs": [
    {
     "data": {
      "text/html": [
       "<style type='text/css'>\n",
       ".datatable table.frame { margin-bottom: 0; }\n",
       ".datatable table.frame thead { border-bottom: none; }\n",
       ".datatable table.frame tr.coltypes td {  color: #FFFFFF;  line-height: 6px;  padding: 0 0.5em;}\n",
       ".datatable .bool    { background: #DDDD99; }\n",
       ".datatable .object  { background: #565656; }\n",
       ".datatable .int     { background: #5D9E5D; }\n",
       ".datatable .float   { background: #4040CC; }\n",
       ".datatable .str     { background: #CC4040; }\n",
       ".datatable .time    { background: #40CC40; }\n",
       ".datatable .row_index {  background: var(--jp-border-color3);  border-right: 1px solid var(--jp-border-color0);  color: var(--jp-ui-font-color3);  font-size: 9px;}\n",
       ".datatable .frame tbody td { text-align: left; }\n",
       ".datatable .frame tr.coltypes .row_index {  background: var(--jp-border-color0);}\n",
       ".datatable th:nth-child(2) { padding-left: 12px; }\n",
       ".datatable .hellipsis {  color: var(--jp-cell-editor-border-color);}\n",
       ".datatable .vellipsis {  background: var(--jp-layout-color0);  color: var(--jp-cell-editor-border-color);}\n",
       ".datatable .na {  color: var(--jp-cell-editor-border-color);  font-size: 80%;}\n",
       ".datatable .sp {  opacity: 0.25;}\n",
       ".datatable .footer { font-size: 9px; }\n",
       ".datatable .frame_dimensions {  background: var(--jp-border-color3);  border-top: 1px solid var(--jp-border-color0);  color: var(--jp-ui-font-color3);  display: inline-block;  opacity: 0.6;  padding: 1px 10px 1px 5px;}\n",
       "</style>\n"
      ],
      "text/plain": [
       "<IPython.core.display.HTML object>"
      ]
     },
     "metadata": {},
     "output_type": "display_data"
    }
   ],
   "source": [
    "from supervised.automl import AutoML\n",
    "\n",
    "training_time = 1800 # 30 min\n",
    "\n",
    "automl = AutoML(mode=\"Compete\",\n",
    "                results_path=\"./AutoML_regression_5_all\",\n",
    "                eval_metric='rmse',\n",
    "                algorithms=[\"Baseline\", \"Linear\", \"CatBoost\", \"Xgboost\", \"LightGBM\", \"Random Forest\", \"Extra Trees\", \"Neural Network\"],\n",
    "                total_time_limit=training_time,\n",
    "                validation_strategy={\n",
    "                    \"validation_type\": \"kfold\",\n",
    "                    \"k_folds\": 5,\n",
    "                    \"shuffle\": True,\n",
    "                    \"stratify\": True,\n",
    "                    \"random_seed\": 42\n",
    "                })"
   ]
  },
  {
   "cell_type": "markdown",
   "id": "033011fa",
   "metadata": {
    "papermill": {
     "duration": 0.067253,
     "end_time": "2022-04-21T12:58:08.984814",
     "exception": false,
     "start_time": "2022-04-21T12:58:08.917561",
     "status": "completed"
    },
    "tags": []
   },
   "source": [
    "### Train Model"
   ]
  },
  {
   "cell_type": "code",
   "execution_count": 23,
   "id": "8eb5feee",
   "metadata": {
    "_kg_hide-output": true,
    "execution": {
     "iopub.execute_input": "2022-04-21T12:58:09.121931Z",
     "iopub.status.busy": "2022-04-21T12:58:09.121611Z",
     "iopub.status.idle": "2022-04-21T13:28:56.281019Z",
     "shell.execute_reply": "2022-04-21T13:28:56.279983Z"
    },
    "papermill": {
     "duration": 1847.231392,
     "end_time": "2022-04-21T13:28:56.284082",
     "exception": false,
     "start_time": "2022-04-21T12:58:09.052690",
     "status": "completed"
    },
    "tags": []
   },
   "outputs": [
    {
     "name": "stdout",
     "output_type": "stream",
     "text": [
      "AutoML directory: ./AutoML_regression_5_all\n",
      "The task is regression with evaluation metric rmse\n",
      "AutoML will use algorithms: ['Baseline', 'Linear', 'CatBoost', 'Xgboost', 'LightGBM', 'Random Forest', 'Extra Trees', 'Neural Network']\n",
      "AutoML will stack models\n",
      "AutoML will ensemble available models\n",
      "AutoML steps: ['simple_algorithms', 'default_algorithms', 'not_so_random', 'golden_features', 'kmeans_features', 'insert_random_feature', 'features_selection', 'hill_climbing_1', 'hill_climbing_2', 'boost_on_errors', 'ensemble', 'stack', 'ensemble_stacked']\n",
      "* Step simple_algorithms will try to check up to 2 models\n",
      "1_Baseline rmse 1.241034 trained in 1.43 seconds\n",
      "2_Linear rmse 1.159358 trained in 1.71 seconds\n",
      "* Step default_algorithms will try to check up to 6 models\n",
      "3_Default_LightGBM rmse 0.816667 trained in 7.84 seconds\n",
      "4_Default_Xgboost rmse 0.82437 trained in 25.78 seconds\n",
      "5_Default_CatBoost rmse 0.831911 trained in 9.92 seconds\n",
      "6_Default_NeuralNetwork rmse 1.001727 trained in 9.13 seconds\n",
      "7_Default_RandomForest rmse 1.044375 trained in 9.5 seconds\n",
      "8_Default_ExtraTrees rmse 1.105564 trained in 5.79 seconds\n",
      "* Step not_so_random will try to check up to 54 models\n",
      "18_LightGBM rmse 0.829326 trained in 5.43 seconds\n",
      "9_Xgboost rmse 0.824613 trained in 28.25 seconds\n",
      "27_CatBoost rmse 0.823876 trained in 36.87 seconds\n",
      "36_RandomForest rmse 1.041491 trained in 10.48 seconds\n",
      "45_ExtraTrees rmse 1.117862 trained in 5.53 seconds\n",
      "54_NeuralNetwork rmse 0.998557 trained in 6.37 seconds\n",
      "19_LightGBM rmse 0.834815 trained in 3.64 seconds\n",
      "10_Xgboost rmse 0.829901 trained in 23.82 seconds\n",
      "28_CatBoost rmse 0.864242 trained in 18.08 seconds\n",
      "37_RandomForest rmse 1.086677 trained in 13.3 seconds\n",
      "46_ExtraTrees rmse 1.144156 trained in 6.35 seconds\n",
      "55_NeuralNetwork rmse 1.007359 trained in 10.23 seconds\n",
      "20_LightGBM rmse 0.817478 trained in 7.26 seconds\n",
      "11_Xgboost rmse 0.832524 trained in 17.45 seconds\n",
      "29_CatBoost rmse 0.830391 trained in 13.36 seconds\n",
      "38_RandomForest rmse 0.977437 trained in 13.63 seconds\n",
      "47_ExtraTrees rmse 1.041381 trained in 12.7 seconds\n",
      "56_NeuralNetwork rmse 1.023362 trained in 13.48 seconds\n",
      "21_LightGBM rmse 0.821862 trained in 9.65 seconds\n",
      "12_Xgboost rmse 0.850737 trained in 12.67 seconds\n",
      "30_CatBoost rmse 0.873596 trained in 12.32 seconds\n",
      "39_RandomForest rmse 0.972489 trained in 9.74 seconds\n",
      "48_ExtraTrees rmse 1.064726 trained in 8.43 seconds\n",
      "57_NeuralNetwork rmse 1.004017 trained in 10.8 seconds\n",
      "22_LightGBM rmse 0.834856 trained in 4.66 seconds\n",
      "13_Xgboost rmse 0.839977 trained in 20.0 seconds\n",
      "31_CatBoost rmse 0.858444 trained in 15.37 seconds\n",
      "40_RandomForest rmse 0.945923 trained in 13.16 seconds\n",
      "49_ExtraTrees rmse 1.035276 trained in 10.56 seconds\n",
      "58_NeuralNetwork rmse 1.014826 trained in 12.47 seconds\n",
      "23_LightGBM rmse 0.812494 trained in 10.68 seconds\n",
      "14_Xgboost rmse 0.847653 trained in 24.51 seconds\n",
      "32_CatBoost rmse 0.890361 trained in 19.83 seconds\n",
      "41_RandomForest rmse 0.951085 trained in 18.24 seconds\n",
      "50_ExtraTrees rmse 1.016391 trained in 9.94 seconds\n",
      "59_NeuralNetwork rmse 1.014704 trained in 14.09 seconds\n",
      "24_LightGBM rmse 0.821091 trained in 9.59 seconds\n",
      "15_Xgboost rmse 0.824731 trained in 25.86 seconds\n",
      "33_CatBoost rmse 0.854971 trained in 57.36 seconds\n",
      "42_RandomForest rmse 1.04052 trained in 12.36 seconds\n",
      "51_ExtraTrees rmse 1.116459 trained in 11.14 seconds\n",
      "60_NeuralNetwork rmse 1.002975 trained in 14.61 seconds\n",
      "25_LightGBM rmse 0.817959 trained in 6.36 seconds\n",
      "16_Xgboost rmse 0.835426 trained in 20.63 seconds\n",
      "34_CatBoost rmse 0.860366 trained in 17.15 seconds\n",
      "43_RandomForest rmse 1.03834 trained in 9.83 seconds\n",
      "52_ExtraTrees rmse 1.123777 trained in 9.35 seconds\n",
      "61_NeuralNetwork rmse 1.158133 trained in 10.48 seconds\n",
      "26_LightGBM rmse 0.828697 trained in 8.18 seconds\n",
      "17_Xgboost rmse 0.815591 trained in 35.92 seconds\n",
      "35_CatBoost rmse 0.823381 trained in 40.11 seconds\n",
      "44_RandomForest rmse 0.944018 trained in 19.12 seconds\n",
      "* Step golden_features will try to check up to 3 models\n",
      "None 10\n",
      "Add Golden Feature: year_ratio_runtime\n",
      "Add Golden Feature: runtime_ratio_year\n",
      "Add Golden Feature: runtime_sum_kind\n",
      "Add Golden Feature: runtime_multiply_year\n",
      "Add Golden Feature: kind_diff_runtime\n",
      "Add Golden Feature: runtime_sum_language\n",
      "Add Golden Feature: runtime_sum_year\n",
      "Add Golden Feature: language_diff_runtime\n",
      "Add Golden Feature: year_diff_runtime\n",
      "Add Golden Feature: genre_sum_kind\n",
      "Created 10 Golden Features in 8.78 seconds.\n",
      "23_LightGBM_GoldenFeatures rmse 0.80839 trained in 24.22 seconds\n",
      "17_Xgboost_GoldenFeatures rmse 0.816479 trained in 43.73 seconds\n",
      "* Step kmeans_features will try to check up to 3 models\n",
      "23_LightGBM_KMeansFeatures rmse 0.823256 trained in 18.53 seconds\n",
      "17_Xgboost_KMeansFeatures rmse 0.828343 trained in 47.41 seconds\n",
      "* Step insert_random_feature will try to check up to 1 model\n",
      "23_LightGBM_GoldenFeatures_RandomFeature rmse 0.815317 trained in 66.89 seconds\n",
      "Drop features ['random_feature']\n",
      "Skip features_selection because no parameters were generated.\n",
      "* Step hill_climbing_1 will try to check up to 29 models\n",
      "62_LightGBM_GoldenFeatures rmse 0.809746 trained in 29.48 seconds\n",
      "63_LightGBM_GoldenFeatures rmse 0.812327 trained in 30.25 seconds\n",
      "64_LightGBM rmse 0.810148 trained in 31.35 seconds\n",
      "65_LightGBM rmse 0.81457 trained in 26.84 seconds\n",
      "66_Xgboost rmse 0.814932 trained in 40.06 seconds\n",
      "67_Xgboost rmse 0.819503 trained in 43.33 seconds\n",
      "* Step hill_climbing_2 will try to check up to 24 models\n",
      "68_LightGBM_GoldenFeatures rmse 0.807304 trained in 30.31 seconds\n",
      "69_LightGBM_GoldenFeatures rmse 0.807968 trained in 26.14 seconds\n",
      "70_LightGBM rmse 0.809797 trained in 31.16 seconds\n",
      "71_Xgboost rmse 0.815342 trained in 40.07 seconds\n",
      "* Step boost_on_errors will try to check up to 1 model\n",
      "68_LightGBM_GoldenFeatures_BoostOnErrors rmse 0.813971 trained in 29.48 seconds\n",
      "* Step ensemble will try to check up to 1 model\n",
      "Ensemble rmse 0.796636 trained in 18.49 seconds\n",
      "* Step stack will try to check up to 57 models\n",
      "68_LightGBM_GoldenFeatures_Stacked rmse 0.808171 trained in 21.51 seconds\n",
      "66_Xgboost_Stacked rmse 0.805733 trained in 27.01 seconds\n",
      "35_CatBoost_Stacked rmse 0.797421 trained in 42.51 seconds\n",
      "44_RandomForest_Stacked rmse 0.798329 trained in 48.55 seconds\n",
      "54_NeuralNetwork_Stacked rmse 1.241286 trained in 13.16 seconds\n",
      "50_ExtraTrees_Stacked rmse 0.795819 trained in 25.02 seconds\n",
      "69_LightGBM_GoldenFeatures_Stacked rmse 0.809221 trained in 18.72 seconds\n",
      "71_Xgboost_Stacked rmse 0.807394 trained in 22.26 seconds\n",
      "27_CatBoost_Stacked rmse 0.796496 trained in 43.49 seconds\n",
      "40_RandomForest_Stacked not trained. Stop training after the first fold. Time needed to train on the first fold 22.0 seconds. The time estimate for training on all folds is larger than total_time_limit.\n",
      "* Step ensemble_stacked will try to check up to 1 model\n",
      "Ensemble_Stacked rmse 0.794078 trained in 22.72 seconds\n",
      "AutoML fit time: 1846.28 seconds\n",
      "AutoML best model: Ensemble_Stacked\n"
     ]
    },
    {
     "data": {
      "text/html": [
       "\n",
       "        <iframe\n",
       "            width=\"900\"\n",
       "            height=\"1200\"\n",
       "            src=\"./AutoML_regression_5_all/README.html\"\n",
       "            frameborder=\"0\"\n",
       "            allowfullscreen\n",
       "            \n",
       "        ></iframe>\n",
       "        "
      ],
      "text/plain": [
       "<IPython.lib.display.IFrame at 0x7f51b7cd43d0>"
      ]
     },
     "execution_count": 23,
     "metadata": {},
     "output_type": "execute_result"
    }
   ],
   "source": [
    "# train models with AutoML\n",
    "automl.fit(X, y)\n",
    "automl.report()"
   ]
  },
  {
   "cell_type": "markdown",
   "id": "fb4178dc",
   "metadata": {
    "papermill": {
     "duration": 0.105098,
     "end_time": "2022-04-21T13:28:56.495471",
     "exception": false,
     "start_time": "2022-04-21T13:28:56.390373",
     "status": "completed"
    },
    "tags": []
   },
   "source": [
    "### Evaluating Model"
   ]
  },
  {
   "cell_type": "code",
   "execution_count": 24,
   "id": "e34a2fe4",
   "metadata": {
    "execution": {
     "iopub.execute_input": "2022-04-21T13:28:56.707856Z",
     "iopub.status.busy": "2022-04-21T13:28:56.706961Z",
     "iopub.status.idle": "2022-04-21T13:28:56.711783Z",
     "shell.execute_reply": "2022-04-21T13:28:56.710936Z"
    },
    "papermill": {
     "duration": 0.112945,
     "end_time": "2022-04-21T13:28:56.713850",
     "exception": false,
     "start_time": "2022-04-21T13:28:56.600905",
     "status": "completed"
    },
    "tags": []
   },
   "outputs": [],
   "source": [
    "import math\n",
    "from sklearn.metrics import r2_score, mean_squared_error, mean_absolute_error"
   ]
  },
  {
   "cell_type": "code",
   "execution_count": 25,
   "id": "f1870963",
   "metadata": {
    "execution": {
     "iopub.execute_input": "2022-04-21T13:28:56.929701Z",
     "iopub.status.busy": "2022-04-21T13:28:56.929390Z",
     "iopub.status.idle": "2022-04-21T13:28:56.936115Z",
     "shell.execute_reply": "2022-04-21T13:28:56.935040Z"
    },
    "papermill": {
     "duration": 0.118604,
     "end_time": "2022-04-21T13:28:56.938270",
     "exception": false,
     "start_time": "2022-04-21T13:28:56.819666",
     "status": "completed"
    },
    "tags": []
   },
   "outputs": [],
   "source": [
    "def evaluate_model(y_test, pred):\n",
    "    print(\"*\"*12, \"Evaluations\", \"*\"*12, '\\n')\n",
    "    \n",
    "    print(\"MAE :\", mean_absolute_error(y_test, pred), '\\n')\n",
    "    print(\"MSE :\", mean_squared_error(y_test, pred), '\\n')\n",
    "    print(\"R2_Score :\", r2_score(y_test, pred), '\\n')\n",
    "    \n",
    "    mse_ = np.square(np.subtract(y_test,pred)).mean() \n",
    "    print(\"RMSE :\", math.sqrt(mse_))"
   ]
  },
  {
   "cell_type": "code",
   "execution_count": 26,
   "id": "499046eb",
   "metadata": {
    "execution": {
     "iopub.execute_input": "2022-04-21T13:28:57.151341Z",
     "iopub.status.busy": "2022-04-21T13:28:57.151047Z",
     "iopub.status.idle": "2022-04-21T13:29:27.336178Z",
     "shell.execute_reply": "2022-04-21T13:29:27.335108Z"
    },
    "papermill": {
     "duration": 30.400216,
     "end_time": "2022-04-21T13:29:27.444606",
     "exception": false,
     "start_time": "2022-04-21T13:28:57.044390",
     "status": "completed"
    },
    "tags": []
   },
   "outputs": [
    {
     "name": "stdout",
     "output_type": "stream",
     "text": [
      "************ Evaluations ************ \n",
      "\n",
      "MAE : 0.2854661974224124 \n",
      "\n",
      "MSE : 0.1651213033352225 \n",
      "\n",
      "R2_Score : 0.8968070358323971 \n",
      "\n",
      "RMSE : 0.40635120688294074\n"
     ]
    }
   ],
   "source": [
    "from sklearn.model_selection import train_test_split\n",
    "X_train, X_test, y_train, y_test = train_test_split(X, y, test_size=0.20, random_state=42)\n",
    "\n",
    "pred = automl.predict(X_test)\n",
    "    \n",
    "evaluate_model(y_test, pred)"
   ]
  },
  {
   "cell_type": "markdown",
   "id": "ad8c93d4",
   "metadata": {
    "papermill": {
     "duration": 0.115842,
     "end_time": "2022-04-21T13:29:27.667978",
     "exception": false,
     "start_time": "2022-04-21T13:29:27.552136",
     "status": "completed"
    },
    "tags": []
   },
   "source": [
    "# Test"
   ]
  },
  {
   "cell_type": "code",
   "execution_count": 27,
   "id": "1c58e152",
   "metadata": {
    "execution": {
     "iopub.execute_input": "2022-04-21T13:29:27.881039Z",
     "iopub.status.busy": "2022-04-21T13:29:27.880678Z",
     "iopub.status.idle": "2022-04-21T13:29:52.826787Z",
     "shell.execute_reply": "2022-04-21T13:29:52.825710Z"
    },
    "papermill": {
     "duration": 25.055491,
     "end_time": "2022-04-21T13:29:52.829267",
     "exception": false,
     "start_time": "2022-04-21T13:29:27.773776",
     "status": "completed"
    },
    "tags": []
   },
   "outputs": [
    {
     "data": {
      "text/plain": [
       "1825"
      ]
     },
     "execution_count": 27,
     "metadata": {},
     "output_type": "execute_result"
    }
   ],
   "source": [
    "pred = automl.predict(test)\n",
    "len(pred)"
   ]
  },
  {
   "cell_type": "markdown",
   "id": "8e021c21",
   "metadata": {
    "papermill": {
     "duration": 0.106908,
     "end_time": "2022-04-21T13:29:53.045344",
     "exception": false,
     "start_time": "2022-04-21T13:29:52.938436",
     "status": "completed"
    },
    "tags": []
   },
   "source": [
    "# Submission"
   ]
  },
  {
   "cell_type": "code",
   "execution_count": 28,
   "id": "74536f18",
   "metadata": {
    "execution": {
     "iopub.execute_input": "2022-04-21T13:29:53.263312Z",
     "iopub.status.busy": "2022-04-21T13:29:53.262380Z",
     "iopub.status.idle": "2022-04-21T13:29:53.283799Z",
     "shell.execute_reply": "2022-04-21T13:29:53.282600Z"
    },
    "papermill": {
     "duration": 0.132661,
     "end_time": "2022-04-21T13:29:53.286788",
     "exception": false,
     "start_time": "2022-04-21T13:29:53.154127",
     "status": "completed"
    },
    "tags": []
   },
   "outputs": [
    {
     "name": "stdout",
     "output_type": "stream",
     "text": [
      "1    1825\n",
      "Name: rating, dtype: int64 \n",
      "\n"
     ]
    },
    {
     "data": {
      "text/html": [
       "<div>\n",
       "<style scoped>\n",
       "    .dataframe tbody tr th:only-of-type {\n",
       "        vertical-align: middle;\n",
       "    }\n",
       "\n",
       "    .dataframe tbody tr th {\n",
       "        vertical-align: top;\n",
       "    }\n",
       "\n",
       "    .dataframe thead th {\n",
       "        text-align: right;\n",
       "    }\n",
       "</style>\n",
       "<table border=\"1\" class=\"dataframe\">\n",
       "  <thead>\n",
       "    <tr style=\"text-align: right;\">\n",
       "      <th></th>\n",
       "      <th>userID</th>\n",
       "      <th>rating</th>\n",
       "    </tr>\n",
       "  </thead>\n",
       "  <tbody>\n",
       "    <tr>\n",
       "      <th>0</th>\n",
       "      <td>8001</td>\n",
       "      <td>1</td>\n",
       "    </tr>\n",
       "    <tr>\n",
       "      <th>1</th>\n",
       "      <td>8002</td>\n",
       "      <td>1</td>\n",
       "    </tr>\n",
       "    <tr>\n",
       "      <th>2</th>\n",
       "      <td>8003</td>\n",
       "      <td>1</td>\n",
       "    </tr>\n",
       "    <tr>\n",
       "      <th>3</th>\n",
       "      <td>8004</td>\n",
       "      <td>1</td>\n",
       "    </tr>\n",
       "    <tr>\n",
       "      <th>4</th>\n",
       "      <td>8005</td>\n",
       "      <td>1</td>\n",
       "    </tr>\n",
       "  </tbody>\n",
       "</table>\n",
       "</div>"
      ],
      "text/plain": [
       "   userID  rating\n",
       "0    8001       1\n",
       "1    8002       1\n",
       "2    8003       1\n",
       "3    8004       1\n",
       "4    8005       1"
      ]
     },
     "execution_count": 28,
     "metadata": {},
     "output_type": "execute_result"
    }
   ],
   "source": [
    "sub = pd.read_csv('../input/ctrl-shift-intelligence-2k22/sample_sub.csv')\n",
    "print(sub['rating'].value_counts(),'\\n')\n",
    "sub.head()"
   ]
  },
  {
   "cell_type": "markdown",
   "id": "9fe6a555",
   "metadata": {
    "papermill": {
     "duration": 0.10695,
     "end_time": "2022-04-21T13:29:53.503150",
     "exception": false,
     "start_time": "2022-04-21T13:29:53.396200",
     "status": "completed"
    },
    "tags": []
   },
   "source": [
    "Save Submission File"
   ]
  },
  {
   "cell_type": "code",
   "execution_count": 29,
   "id": "919c8d77",
   "metadata": {
    "execution": {
     "iopub.execute_input": "2022-04-21T13:29:53.719316Z",
     "iopub.status.busy": "2022-04-21T13:29:53.719015Z",
     "iopub.status.idle": "2022-04-21T13:29:53.740750Z",
     "shell.execute_reply": "2022-04-21T13:29:53.739866Z"
    },
    "papermill": {
     "duration": 0.131704,
     "end_time": "2022-04-21T13:29:53.742859",
     "exception": false,
     "start_time": "2022-04-21T13:29:53.611155",
     "status": "completed"
    },
    "tags": []
   },
   "outputs": [
    {
     "data": {
      "text/html": [
       "<div>\n",
       "<style scoped>\n",
       "    .dataframe tbody tr th:only-of-type {\n",
       "        vertical-align: middle;\n",
       "    }\n",
       "\n",
       "    .dataframe tbody tr th {\n",
       "        vertical-align: top;\n",
       "    }\n",
       "\n",
       "    .dataframe thead th {\n",
       "        text-align: right;\n",
       "    }\n",
       "</style>\n",
       "<table border=\"1\" class=\"dataframe\">\n",
       "  <thead>\n",
       "    <tr style=\"text-align: right;\">\n",
       "      <th></th>\n",
       "      <th>userID</th>\n",
       "      <th>rating</th>\n",
       "    </tr>\n",
       "  </thead>\n",
       "  <tbody>\n",
       "    <tr>\n",
       "      <th>0</th>\n",
       "      <td>8001</td>\n",
       "      <td>6.054251</td>\n",
       "    </tr>\n",
       "    <tr>\n",
       "      <th>1</th>\n",
       "      <td>8002</td>\n",
       "      <td>5.968969</td>\n",
       "    </tr>\n",
       "    <tr>\n",
       "      <th>2</th>\n",
       "      <td>8003</td>\n",
       "      <td>6.683728</td>\n",
       "    </tr>\n",
       "    <tr>\n",
       "      <th>3</th>\n",
       "      <td>8004</td>\n",
       "      <td>5.236107</td>\n",
       "    </tr>\n",
       "    <tr>\n",
       "      <th>4</th>\n",
       "      <td>8005</td>\n",
       "      <td>6.827836</td>\n",
       "    </tr>\n",
       "    <tr>\n",
       "      <th>...</th>\n",
       "      <td>...</td>\n",
       "      <td>...</td>\n",
       "    </tr>\n",
       "    <tr>\n",
       "      <th>1820</th>\n",
       "      <td>9821</td>\n",
       "      <td>6.334370</td>\n",
       "    </tr>\n",
       "    <tr>\n",
       "      <th>1821</th>\n",
       "      <td>9822</td>\n",
       "      <td>7.317631</td>\n",
       "    </tr>\n",
       "    <tr>\n",
       "      <th>1822</th>\n",
       "      <td>9823</td>\n",
       "      <td>6.593128</td>\n",
       "    </tr>\n",
       "    <tr>\n",
       "      <th>1823</th>\n",
       "      <td>9824</td>\n",
       "      <td>6.559294</td>\n",
       "    </tr>\n",
       "    <tr>\n",
       "      <th>1824</th>\n",
       "      <td>9825</td>\n",
       "      <td>7.349033</td>\n",
       "    </tr>\n",
       "  </tbody>\n",
       "</table>\n",
       "<p>1825 rows × 2 columns</p>\n",
       "</div>"
      ],
      "text/plain": [
       "      userID    rating\n",
       "0       8001  6.054251\n",
       "1       8002  5.968969\n",
       "2       8003  6.683728\n",
       "3       8004  5.236107\n",
       "4       8005  6.827836\n",
       "...      ...       ...\n",
       "1820    9821  6.334370\n",
       "1821    9822  7.317631\n",
       "1822    9823  6.593128\n",
       "1823    9824  6.559294\n",
       "1824    9825  7.349033\n",
       "\n",
       "[1825 rows x 2 columns]"
      ]
     },
     "execution_count": 29,
     "metadata": {},
     "output_type": "execute_result"
    }
   ],
   "source": [
    "sub['rating'] = pred\n",
    "\n",
    "sub.to_csv('submission.csv', index=False)\n",
    "sub"
   ]
  },
  {
   "cell_type": "markdown",
   "id": "07e1aad0",
   "metadata": {
    "papermill": {
     "duration": 0.108499,
     "end_time": "2022-04-21T13:29:53.961104",
     "exception": false,
     "start_time": "2022-04-21T13:29:53.852605",
     "status": "completed"
    },
    "tags": []
   },
   "source": [
    "## Ressources \n",
    "\n",
    "- https://www.kaggle.com/code/mathurinache/mljar-automl-nov-2021"
   ]
  }
 ],
 "metadata": {
  "kernelspec": {
   "display_name": "Python 3",
   "language": "python",
   "name": "python3"
  },
  "language_info": {
   "codemirror_mode": {
    "name": "ipython",
    "version": 3
   },
   "file_extension": ".py",
   "mimetype": "text/x-python",
   "name": "python",
   "nbconvert_exporter": "python",
   "pygments_lexer": "ipython3",
   "version": "3.7.12"
  },
  "papermill": {
   "default_parameters": {},
   "duration": 1954.096589,
   "end_time": "2022-04-21T13:29:56.793954",
   "environment_variables": {},
   "exception": null,
   "input_path": "__notebook__.ipynb",
   "output_path": "__notebook__.ipynb",
   "parameters": {},
   "start_time": "2022-04-21T12:57:22.697365",
   "version": "2.3.4"
  }
 },
 "nbformat": 4,
 "nbformat_minor": 5
}
